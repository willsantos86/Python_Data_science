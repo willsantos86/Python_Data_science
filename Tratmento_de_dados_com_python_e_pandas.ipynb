{
  "nbformat": 4,
  "nbformat_minor": 0,
  "metadata": {
    "colab": {
      "provenance": [],
      "collapsed_sections": [
        "CKuF9e3fKEd9",
        "HaVDvrc4HSoe"
      ]
    },
    "kernelspec": {
      "name": "python3",
      "display_name": "Python 3"
    },
    "language_info": {
      "name": "python"
    }
  },
  "cells": [
    {
      "cell_type": "markdown",
      "source": [
        "# **TRATAMENTO DE DADOS COM PYTHON + PANDAS**\n",
        "\n",
        "\n",
        "\n",
        "\n"
      ],
      "metadata": {
        "id": "NCYizUe5lxL-"
      }
    },
    {
      "cell_type": "markdown",
      "source": [
        "## **ANÁLISE EXPLORATÓRIA COM DADOS**\n",
        "\n",
        "\n",
        "\n"
      ],
      "metadata": {
        "id": "-mNzGAtQmOKB"
      }
    },
    {
      "cell_type": "code",
      "source": [
        "import pandas as pd\n",
        "import numpy as np\n"
      ],
      "metadata": {
        "id": "gPGy0EVro9QM"
      },
      "execution_count": 20,
      "outputs": []
    },
    {
      "cell_type": "markdown",
      "source": [
        "### **SERIES** "
      ],
      "metadata": {
        "id": "CKuF9e3fKEd9"
      }
    },
    {
      "cell_type": "markdown",
      "source": [
        "**Criando uma Serie**"
      ],
      "metadata": {
        "id": "kDZe0Nj-e2Sz"
      }
    },
    {
      "cell_type": "code",
      "source": [
        "base = [1, 3, 5, 7, 9, 12, 15, 18, 21, 24]"
      ],
      "metadata": {
        "id": "KhCL2EhsoEAZ"
      },
      "execution_count": 10,
      "outputs": []
    },
    {
      "cell_type": "code",
      "source": [
        "data = pd.Series(base)"
      ],
      "metadata": {
        "id": "JHw-Zvc2p--k"
      },
      "execution_count": 11,
      "outputs": []
    },
    {
      "cell_type": "code",
      "source": [
        "print(data)"
      ],
      "metadata": {
        "colab": {
          "base_uri": "https://localhost:8080/"
        },
        "id": "WaAG4vIlq3bx",
        "outputId": "68050f55-f156-4951-e322-1c8f5679879e"
      },
      "execution_count": 12,
      "outputs": [
        {
          "output_type": "stream",
          "name": "stdout",
          "text": [
            "0     1\n",
            "1     3\n",
            "2     5\n",
            "3     7\n",
            "4     9\n",
            "5    12\n",
            "6    15\n",
            "7    18\n",
            "8    21\n",
            "9    24\n",
            "dtype: int64\n"
          ]
        }
      ]
    },
    {
      "cell_type": "code",
      "source": [
        "data_2 = pd.Series(['Ana', 'Carlos', 'Diego', 'Fernando', 'Maria', 'Paulo'])\n",
        "print( data_2)"
      ],
      "metadata": {
        "colab": {
          "base_uri": "https://localhost:8080/"
        },
        "id": "BmODT1AAKmx3",
        "outputId": "22d33457-8486-4e6b-df5f-198fdb4ce2bf"
      },
      "execution_count": 13,
      "outputs": [
        {
          "output_type": "stream",
          "name": "stdout",
          "text": [
            "0         Ana\n",
            "1      Carlos\n",
            "2       Diego\n",
            "3    Fernando\n",
            "4       Maria\n",
            "5       Paulo\n",
            "dtype: object\n"
          ]
        }
      ]
    },
    {
      "cell_type": "markdown",
      "source": [
        "**Visualizando o cabeçalho**"
      ],
      "metadata": {
        "id": "bEcjA4X6U6Ck"
      }
    },
    {
      "cell_type": "code",
      "source": [
        "data_2.head()"
      ],
      "metadata": {
        "colab": {
          "base_uri": "https://localhost:8080/"
        },
        "id": "GJ4I9avWVCLW",
        "outputId": "30c3fa9b-7722-4db4-b78d-34528aeba966"
      },
      "execution_count": 17,
      "outputs": [
        {
          "output_type": "execute_result",
          "data": {
            "text/plain": [
              "0         Ana\n",
              "1      Carlos\n",
              "2       Diego\n",
              "3    Fernando\n",
              "4       Maria\n",
              "dtype: object"
            ]
          },
          "metadata": {},
          "execution_count": 17
        }
      ]
    },
    {
      "cell_type": "markdown",
      "source": [
        "**Definindo uma origem personalizada**"
      ],
      "metadata": {
        "id": "Yq9DJtEMV9B7"
      }
    },
    {
      "cell_type": "code",
      "source": [
        "nomes = ['Ana', 'Carlos', 'Diego', 'Fernando', 'Maria', 'Paulo']\n",
        "data_3 = pd.Series(data = nomes)\n",
        "print(data_3)"
      ],
      "metadata": {
        "colab": {
          "base_uri": "https://localhost:8080/"
        },
        "id": "-OXX_N_YVFRt",
        "outputId": "6d8ea86d-3ce2-42a3-801a-13e1edcc6112"
      },
      "execution_count": 18,
      "outputs": [
        {
          "output_type": "stream",
          "name": "stdout",
          "text": [
            "0         Ana\n",
            "1      Carlos\n",
            "2       Diego\n",
            "3    Fernando\n",
            "4       Maria\n",
            "5       Paulo\n",
            "dtype: object\n"
          ]
        }
      ]
    },
    {
      "cell_type": "markdown",
      "source": [
        "**Definindo um índice personalizado**"
      ],
      "metadata": {
        "id": "2IrmzxwfWqQk"
      }
    },
    {
      "cell_type": "code",
      "source": [
        "indice = [1, 2, 3, 4, 5, 6]\n",
        "nomes = ['Ana', 'Carlos', 'Diego', 'Fernando', 'Maria', 'Paulo']\n",
        "data_4 = pd.Series(data = nomes,\n",
        "                  index = indice)\n",
        "print(data_4)"
      ],
      "metadata": {
        "colab": {
          "base_uri": "https://localhost:8080/"
        },
        "id": "TV0f88XiWcHr",
        "outputId": "ebab5113-c08c-4eef-f21b-0e2a1893026f"
      },
      "execution_count": 19,
      "outputs": [
        {
          "output_type": "stream",
          "name": "stdout",
          "text": [
            "1         Ana\n",
            "2      Carlos\n",
            "3       Diego\n",
            "4    Fernando\n",
            "5       Maria\n",
            "6       Paulo\n",
            "dtype: object\n"
          ]
        }
      ]
    },
    {
      "cell_type": "markdown",
      "source": [
        "**Integrando uma Array Numpy em uma Serie**\n",
        "\n",
        "\n"
      ],
      "metadata": {
        "id": "qLCHlwYIX1Qu"
      }
    },
    {
      "cell_type": "code",
      "source": [
        "nomes = np.array(['Ana', 'Carlos', 'Diego', 'Fernando', 'Maria', 'Paulo'])\n",
        "data_5 = pd.Series(data = nomes)\n",
        "print(data_5)"
      ],
      "metadata": {
        "colab": {
          "base_uri": "https://localhost:8080/"
        },
        "id": "lWmyK3OgXW9-",
        "outputId": "235c6d4a-93f4-4571-d75a-cc93af2ce532"
      },
      "execution_count": 21,
      "outputs": [
        {
          "output_type": "stream",
          "name": "stdout",
          "text": [
            "0         Ana\n",
            "1      Carlos\n",
            "2       Diego\n",
            "3    Fernando\n",
            "4       Maria\n",
            "5       Paulo\n",
            "dtype: object\n"
          ]
        }
      ]
    },
    {
      "cell_type": "markdown",
      "source": [
        "**Qualquer estrutura de Dados como elemento de uma Serie**"
      ],
      "metadata": {
        "id": "lopbH_EVYzsF"
      }
    },
    {
      "cell_type": "code",
      "source": [
        "funcoes = [input, print]\n",
        "data_6 = pd.Series(data = funcoes)\n",
        "print(data_6)"
      ],
      "metadata": {
        "colab": {
          "base_uri": "https://localhost:8080/"
        },
        "id": "--Bxtc5cYfJq",
        "outputId": "ff6b221f-a417-4a23-d2fc-266d673683fd"
      },
      "execution_count": 22,
      "outputs": [
        {
          "output_type": "stream",
          "name": "stdout",
          "text": [
            "0    <bound method Kernel.raw_input of <google.cola...\n",
            "1                            <built-in function print>\n",
            "dtype: object\n"
          ]
        }
      ]
    },
    {
      "cell_type": "markdown",
      "source": [
        "**Integrando funções com Series**"
      ],
      "metadata": {
        "id": "LqTlrua9Zg_E"
      }
    },
    {
      "cell_type": "code",
      "source": [
        "paises = ['Argentina', 'Brasil', 'Canada', 'Estados Unidos', 'Italia', 'Mexico']\n",
        "data_7 = pd.Series(data = paises, index = np.arange(0,6))\n",
        "print(data_7)"
      ],
      "metadata": {
        "colab": {
          "base_uri": "https://localhost:8080/"
        },
        "id": "kZFHkwYDZSFe",
        "outputId": "4cd8169e-f945-45d2-f69d-ef61de1aa8e8"
      },
      "execution_count": 23,
      "outputs": [
        {
          "output_type": "stream",
          "name": "stdout",
          "text": [
            "0         Argentina\n",
            "1            Brasil\n",
            "2            Canada\n",
            "3    Estados Unidos\n",
            "4            Italia\n",
            "5            Mexico\n",
            "dtype: object\n"
          ]
        }
      ]
    },
    {
      "cell_type": "markdown",
      "source": [
        "**Verificando o Tamanho de uma Serie**"
      ],
      "metadata": {
        "id": "sPhugSq_aT4V"
      }
    },
    {
      "cell_type": "code",
      "source": [
        "print(data.index)"
      ],
      "metadata": {
        "colab": {
          "base_uri": "https://localhost:8080/"
        },
        "id": "7_dEwR1laBpe",
        "outputId": "5594a472-16be-40f8-d561-91f537867fe8"
      },
      "execution_count": 24,
      "outputs": [
        {
          "output_type": "stream",
          "name": "stdout",
          "text": [
            "RangeIndex(start=0, stop=10, step=1)\n"
          ]
        }
      ]
    },
    {
      "cell_type": "code",
      "source": [
        "print(data_7.index)"
      ],
      "metadata": {
        "colab": {
          "base_uri": "https://localhost:8080/"
        },
        "id": "f1TbL2Inadkm",
        "outputId": "6c773d5c-4208-4ccc-fc40-d636658d1a94"
      },
      "execution_count": 25,
      "outputs": [
        {
          "output_type": "stream",
          "name": "stdout",
          "text": [
            "Int64Index([0, 1, 2, 3, 4, 5], dtype='int64')\n"
          ]
        }
      ]
    },
    {
      "cell_type": "markdown",
      "source": [
        "**Criando uma Serie a partir de um dicionário**"
      ],
      "metadata": {
        "id": "BjRzxLTZbIeb"
      }
    },
    {
      "cell_type": "code",
      "source": [
        "dicionario = {'Nome': 'Fernando', 'Idade': 33, 'Altura': 1.90}\n",
        "serie_dicio = pd.Series(dicionario)\n",
        "print(serie_dicio)"
      ],
      "metadata": {
        "colab": {
          "base_uri": "https://localhost:8080/"
        },
        "id": "DIVE84zYa1P8",
        "outputId": "0a5b8961-315a-44f0-b63e-a328a1fb3b13"
      },
      "execution_count": 26,
      "outputs": [
        {
          "output_type": "stream",
          "name": "stdout",
          "text": [
            "Nome      Fernando\n",
            "Idade           33\n",
            "Altura         1.9\n",
            "dtype: object\n"
          ]
        }
      ]
    },
    {
      "cell_type": "code",
      "source": [
        "meses = {1: 'Janeiro', 2: 'Fevereiro', 3: 'Março', 4: 'Abril'}\n",
        "serie_meses = pd.Series(meses)\n",
        "print(serie_meses)"
      ],
      "metadata": {
        "colab": {
          "base_uri": "https://localhost:8080/"
        },
        "id": "8MM5wVl3bpZ1",
        "outputId": "11915a69-c95b-43a1-c912-d1fba1f1acc1"
      },
      "execution_count": 27,
      "outputs": [
        {
          "output_type": "stream",
          "name": "stdout",
          "text": [
            "1      Janeiro\n",
            "2    Fevereiro\n",
            "3        Março\n",
            "4        Abril\n",
            "dtype: object\n"
          ]
        }
      ]
    },
    {
      "cell_type": "markdown",
      "source": [
        "**Unindo Elementos de duas Series**"
      ],
      "metadata": {
        "id": "xo3x4gG1cbZp"
      }
    },
    {
      "cell_type": "code",
      "source": [
        "nomes_1 = ['Ana', 'Carlos', 'Betina', 'Maria', 'Rafael']\n",
        "nomes_2 = ['Ana', 'Alberto', 'Maria', 'Paulo', 'Tania']\n",
        "\n",
        "data_1 = pd.Series([1, 2, 3, 4, 5], index= nomes_1)\n",
        "data_2 = pd.Series([1, 2, 3, 4, 5], index= nomes_2)\n",
        "\n",
        "data_3 = data_1 + data_2\n",
        "\n",
        "print(data_3)\n"
      ],
      "metadata": {
        "colab": {
          "base_uri": "https://localhost:8080/"
        },
        "id": "wazFVdVPcSx8",
        "outputId": "4863a553-d9d1-40fd-fd13-974a5fecbc34"
      },
      "execution_count": 28,
      "outputs": [
        {
          "output_type": "stream",
          "name": "stdout",
          "text": [
            "Alberto    NaN\n",
            "Ana        2.0\n",
            "Betina     NaN\n",
            "Carlos     NaN\n",
            "Maria      7.0\n",
            "Paulo      NaN\n",
            "Rafael     NaN\n",
            "Tania      NaN\n",
            "dtype: float64\n"
          ]
        }
      ]
    },
    {
      "cell_type": "markdown",
      "source": [
        "### **DATAFRAME**"
      ],
      "metadata": {
        "id": "pXiVRuvQpUuD"
      }
    },
    {
      "cell_type": "markdown",
      "source": [
        "**Criando um DataFrame**"
      ],
      "metadata": {
        "id": "gn9S4jozpo_t"
      }
    },
    {
      "cell_type": "code",
      "source": [
        "base = {'Nome':['Ana', 'Carla', 'Gabriela', 'Maria'],\n",
        "        'Fones':[991384562, 981128449, 999510014, 991120991]}\n",
        "data = pd.DataFrame(base)\n",
        "\n",
        "print(data)\n",
        "\n",
        "print(type(data))\n",
        "\n"
      ],
      "metadata": {
        "colab": {
          "base_uri": "https://localhost:8080/"
        },
        "id": "Zok8rti0dPw7",
        "outputId": "a75841ec-d57e-4b83-d11b-a0bb552d02c8"
      },
      "execution_count": 36,
      "outputs": [
        {
          "output_type": "stream",
          "name": "stdout",
          "text": [
            "       Nome      Fones\n",
            "0       Ana  991384562\n",
            "1     Carla  981128449\n",
            "2  Gabriela  999510014\n",
            "3     Maria  991120991\n",
            "<class 'pandas.core.frame.DataFrame'>\n"
          ]
        }
      ]
    },
    {
      "cell_type": "code",
      "source": [
        "print(data.info())"
      ],
      "metadata": {
        "colab": {
          "base_uri": "https://localhost:8080/"
        },
        "id": "133l1DuQrDlS",
        "outputId": "45ec525d-4d1d-40b7-f383-67023d8a7e09"
      },
      "execution_count": 35,
      "outputs": [
        {
          "output_type": "stream",
          "name": "stdout",
          "text": [
            "<class 'pandas.core.frame.DataFrame'>\n",
            "RangeIndex: 4 entries, 0 to 3\n",
            "Data columns (total 2 columns):\n",
            " #   Column  Non-Null Count  Dtype \n",
            "---  ------  --------------  ----- \n",
            " 0   Nome    4 non-null      object\n",
            " 1   Fones   4 non-null      int64 \n",
            "dtypes: int64(1), object(1)\n",
            "memory usage: 192.0+ bytes\n",
            "None\n"
          ]
        }
      ]
    },
    {
      "cell_type": "code",
      "source": [
        "print(data.describe())"
      ],
      "metadata": {
        "colab": {
          "base_uri": "https://localhost:8080/"
        },
        "id": "K6tFiSIpsFzU",
        "outputId": "10b31c3a-1be2-46a4-cebf-c0cebe2666eb"
      },
      "execution_count": 37,
      "outputs": [
        {
          "output_type": "stream",
          "name": "stdout",
          "text": [
            "              Fones\n",
            "count  4.000000e+00\n",
            "mean   9.907860e+08\n",
            "std    7.524343e+06\n",
            "min    9.811284e+08\n",
            "25%    9.886229e+08\n",
            "50%    9.912528e+08\n",
            "75%    9.934159e+08\n",
            "max    9.995100e+08\n"
          ]
        }
      ]
    },
    {
      "cell_type": "code",
      "source": [
        "data = pd.DataFrame(data = np.random.randn(6,5),\n",
        "                    index = [1, 2, 3, 4, 5, 6],\n",
        "                    columns = ['a', 'b', 'c', 'd', 'e'])\n",
        "print(data)"
      ],
      "metadata": {
        "colab": {
          "base_uri": "https://localhost:8080/"
        },
        "id": "jCwHg-uksYPR",
        "outputId": "fac9d510-f94d-4254-cda8-7d17a87d2053"
      },
      "execution_count": 39,
      "outputs": [
        {
          "output_type": "stream",
          "name": "stdout",
          "text": [
            "          a         b         c         d         e\n",
            "1 -0.002710 -0.101999  1.448035  1.078594  1.003622\n",
            "2 -1.139177  0.722332  1.047775  0.844145  1.480687\n",
            "3  1.134303  0.331226 -0.477422 -1.541971  0.646919\n",
            "4  0.469897  0.183558 -2.316865  0.105734  1.313826\n",
            "5  0.558933  0.361848 -0.135541 -1.143316 -1.272361\n",
            "6 -0.275952  0.412808  0.029831 -0.749313 -0.623828\n"
          ]
        }
      ]
    },
    {
      "cell_type": "code",
      "source": [
        "print(data.columns)"
      ],
      "metadata": {
        "colab": {
          "base_uri": "https://localhost:8080/"
        },
        "id": "w-KP0JB3tCKM",
        "outputId": "0ca3d383-2371-4110-8c24-30d6dc37c23a"
      },
      "execution_count": 40,
      "outputs": [
        {
          "output_type": "stream",
          "name": "stdout",
          "text": [
            "Index(['a', 'b', 'c', 'd', 'e'], dtype='object')\n"
          ]
        }
      ]
    },
    {
      "cell_type": "code",
      "source": [
        "print(data.index)"
      ],
      "metadata": {
        "colab": {
          "base_uri": "https://localhost:8080/"
        },
        "id": "GQCiPxEW9eQ9",
        "outputId": "2bf56ec9-8f6f-4ecd-e8ad-54d6b96c11f3"
      },
      "execution_count": 41,
      "outputs": [
        {
          "output_type": "stream",
          "name": "stdout",
          "text": [
            "Int64Index([1, 2, 3, 4, 5, 6], dtype='int64')\n"
          ]
        }
      ]
    },
    {
      "cell_type": "code",
      "source": [
        "print(data['c'])"
      ],
      "metadata": {
        "colab": {
          "base_uri": "https://localhost:8080/"
        },
        "id": "_mB7FiB-9mtF",
        "outputId": "fd42a970-81e0-40bc-9c2b-332e3b6ed097"
      },
      "execution_count": 42,
      "outputs": [
        {
          "output_type": "stream",
          "name": "stdout",
          "text": [
            "1    1.448035\n",
            "2    1.047775\n",
            "3   -0.477422\n",
            "4   -2.316865\n",
            "5   -0.135541\n",
            "6    0.029831\n",
            "Name: c, dtype: float64\n"
          ]
        }
      ]
    },
    {
      "cell_type": "code",
      "source": [
        "print(type(data))"
      ],
      "metadata": {
        "colab": {
          "base_uri": "https://localhost:8080/"
        },
        "id": "FrGzhwAc9xGN",
        "outputId": "a8c4f828-68d1-47dc-b988-23699acd4cf4"
      },
      "execution_count": 43,
      "outputs": [
        {
          "output_type": "stream",
          "name": "stdout",
          "text": [
            "<class 'pandas.core.frame.DataFrame'>\n"
          ]
        }
      ]
    },
    {
      "cell_type": "code",
      "source": [
        "print(type(data['c']))"
      ],
      "metadata": {
        "colab": {
          "base_uri": "https://localhost:8080/"
        },
        "id": "aeWAfwHg9-NM",
        "outputId": "48943e96-cd15-4b89-d89b-84bea09c4b09"
      },
      "execution_count": 44,
      "outputs": [
        {
          "output_type": "stream",
          "name": "stdout",
          "text": [
            "<class 'pandas.core.series.Series'>\n"
          ]
        }
      ]
    },
    {
      "cell_type": "markdown",
      "source": [
        "**Extraindo dados de uma coluna específica**"
      ],
      "metadata": {
        "id": "ilNWdoPS-V-V"
      }
    },
    {
      "cell_type": "code",
      "source": [
        "print(data['c'])"
      ],
      "metadata": {
        "colab": {
          "base_uri": "https://localhost:8080/"
        },
        "id": "oLPX6AI4-FV4",
        "outputId": "fbbee828-ec09-4aa1-9af6-5074d99edd2a"
      },
      "execution_count": 45,
      "outputs": [
        {
          "output_type": "stream",
          "name": "stdout",
          "text": [
            "1    1.448035\n",
            "2    1.047775\n",
            "3   -0.477422\n",
            "4   -2.316865\n",
            "5   -0.135541\n",
            "6    0.029831\n",
            "Name: c, dtype: float64\n"
          ]
        }
      ]
    },
    {
      "cell_type": "code",
      "source": [
        "print(data.d)"
      ],
      "metadata": {
        "colab": {
          "base_uri": "https://localhost:8080/"
        },
        "id": "vF8m60VM-hGI",
        "outputId": "1af8c0b3-5395-4e67-ae33-542947bd5745"
      },
      "execution_count": 46,
      "outputs": [
        {
          "output_type": "stream",
          "name": "stdout",
          "text": [
            "1    1.078594\n",
            "2    0.844145\n",
            "3   -1.541971\n",
            "4    0.105734\n",
            "5   -1.143316\n",
            "6   -0.749313\n",
            "Name: d, dtype: float64\n"
          ]
        }
      ]
    },
    {
      "cell_type": "code",
      "source": [
        "print(data[['c', 'e']])"
      ],
      "metadata": {
        "colab": {
          "base_uri": "https://localhost:8080/"
        },
        "id": "rsoocDbj-osv",
        "outputId": "b8af834e-72c2-4400-e19f-7871a73fb4e4"
      },
      "execution_count": 52,
      "outputs": [
        {
          "output_type": "stream",
          "name": "stdout",
          "text": [
            "          c         e\n",
            "1  1.448035  1.003622\n",
            "2  1.047775  1.480687\n",
            "3 -0.477422  0.646919\n",
            "4 -2.316865  1.313826\n",
            "5 -0.135541 -1.272361\n",
            "6  0.029831 -0.623828\n"
          ]
        }
      ]
    },
    {
      "cell_type": "markdown",
      "source": [
        "**Criando colunas manualmente**"
      ],
      "metadata": {
        "id": "paZnvD6c_eYI"
      }
    },
    {
      "cell_type": "markdown",
      "source": [
        "******"
      ],
      "metadata": {
        "id": "cYh6KYyC_cE2"
      }
    },
    {
      "cell_type": "code",
      "source": [
        "data['f'] = data['a'] + data['e']\n",
        "print(data)"
      ],
      "metadata": {
        "colab": {
          "base_uri": "https://localhost:8080/"
        },
        "id": "degyVo3k-6_5",
        "outputId": "1eb57b32-3202-41b1-9e6a-84559c928480"
      },
      "execution_count": 54,
      "outputs": [
        {
          "output_type": "stream",
          "name": "stdout",
          "text": [
            "          a         b         c         d         e         f\n",
            "1 -0.002710 -0.101999  1.448035  1.078594  1.003622  1.000911\n",
            "2 -1.139177  0.722332  1.047775  0.844145  1.480687  0.341510\n",
            "3  1.134303  0.331226 -0.477422 -1.541971  0.646919  1.781222\n",
            "4  0.469897  0.183558 -2.316865  0.105734  1.313826  1.783723\n",
            "5  0.558933  0.361848 -0.135541 -1.143316 -1.272361 -0.713428\n",
            "6 -0.275952  0.412808  0.029831 -0.749313 -0.623828 -0.899780\n"
          ]
        }
      ]
    },
    {
      "cell_type": "markdown",
      "source": [
        "**Removendo colunas manualmente**"
      ],
      "metadata": {
        "id": "CooRtSRqAPWE"
      }
    },
    {
      "cell_type": "code",
      "source": [
        "data = data.drop('f', axis=1)\n",
        "print(data)"
      ],
      "metadata": {
        "colab": {
          "base_uri": "https://localhost:8080/"
        },
        "id": "5muC0wEO_2Ub",
        "outputId": "69ccc26b-99cb-4c4a-b33c-0f3a341590e9"
      },
      "execution_count": 55,
      "outputs": [
        {
          "output_type": "stream",
          "name": "stdout",
          "text": [
            "          a         b         c         d         e\n",
            "1 -0.002710 -0.101999  1.448035  1.078594  1.003622\n",
            "2 -1.139177  0.722332  1.047775  0.844145  1.480687\n",
            "3  1.134303  0.331226 -0.477422 -1.541971  0.646919\n",
            "4  0.469897  0.183558 -2.316865  0.105734  1.313826\n",
            "5  0.558933  0.361848 -0.135541 -1.143316 -1.272361\n",
            "6 -0.275952  0.412808  0.029831 -0.749313 -0.623828\n"
          ]
        }
      ]
    },
    {
      "cell_type": "code",
      "source": [
        "data.drop('e', axis=1, inplace=True)\n",
        "print(data)"
      ],
      "metadata": {
        "colab": {
          "base_uri": "https://localhost:8080/"
        },
        "id": "pBHcti0yAefl",
        "outputId": "e1f1421b-2867-4005-8e9c-15252c92d97d"
      },
      "execution_count": 58,
      "outputs": [
        {
          "output_type": "stream",
          "name": "stdout",
          "text": [
            "          a         b         c         d\n",
            "1 -0.002710 -0.101999  1.448035  1.078594\n",
            "2 -1.139177  0.722332  1.047775  0.844145\n",
            "3  1.134303  0.331226 -0.477422 -1.541971\n",
            "4  0.469897  0.183558 -2.316865  0.105734\n",
            "5  0.558933  0.361848 -0.135541 -1.143316\n",
            "6 -0.275952  0.412808  0.029831 -0.749313\n"
          ]
        }
      ]
    },
    {
      "cell_type": "code",
      "source": [
        "del data ['b']\n",
        "print(data)"
      ],
      "metadata": {
        "colab": {
          "base_uri": "https://localhost:8080/"
        },
        "id": "wOlzt1YDAxk0",
        "outputId": "55f21e33-4544-404f-cdad-5de6975fbc78"
      },
      "execution_count": 59,
      "outputs": [
        {
          "output_type": "stream",
          "name": "stdout",
          "text": [
            "          a         c         d\n",
            "1 -0.002710  1.448035  1.078594\n",
            "2 -1.139177  1.047775  0.844145\n",
            "3  1.134303 -0.477422 -1.541971\n",
            "4  0.469897 -2.316865  0.105734\n",
            "5  0.558933 -0.135541 -1.143316\n",
            "6 -0.275952  0.029831 -0.749313\n"
          ]
        }
      ]
    },
    {
      "cell_type": "markdown",
      "source": [
        "**Ordenando o elemento de uma coluna**"
      ],
      "metadata": {
        "id": "xmDsS6DtBQ5h"
      }
    },
    {
      "cell_type": "code",
      "source": [
        "data = pd.DataFrame(data = np.random.randn(6, 5),\n",
        "                    index = [1, 2, 3, 4, 5, 6],\n",
        "                    columns = ['a', 'b', 'c', 'd', 'e'])\n",
        "print(data)\n",
        "\n",
        "data.sort_values(by='b', inplace= True)\n",
        "\n",
        "print(data)"
      ],
      "metadata": {
        "colab": {
          "base_uri": "https://localhost:8080/"
        },
        "id": "JLUapwsnBGkB",
        "outputId": "c5ee3cc2-fd51-4cfa-9e46-288c1f577bdb"
      },
      "execution_count": 62,
      "outputs": [
        {
          "output_type": "stream",
          "name": "stdout",
          "text": [
            "          a         b         c         d         e\n",
            "1  0.405410  1.701362 -1.189334  2.580226 -0.178199\n",
            "2  0.594878 -0.040698 -0.401316  2.280369 -0.750733\n",
            "3 -0.758969 -0.192155  1.352977  1.138434 -0.355265\n",
            "4 -0.205358  0.932668 -0.291526 -0.557929  0.504637\n",
            "5 -0.777103 -0.409082 -1.191475 -0.835074 -0.085402\n",
            "6 -0.004783 -0.150579  1.153054 -0.968388  1.639793\n",
            "          a         b         c         d         e\n",
            "5 -0.777103 -0.409082 -1.191475 -0.835074 -0.085402\n",
            "3 -0.758969 -0.192155  1.352977  1.138434 -0.355265\n",
            "6 -0.004783 -0.150579  1.153054 -0.968388  1.639793\n",
            "2  0.594878 -0.040698 -0.401316  2.280369 -0.750733\n",
            "4 -0.205358  0.932668 -0.291526 -0.557929  0.504637\n",
            "1  0.405410  1.701362 -1.189334  2.580226 -0.178199\n"
          ]
        }
      ]
    },
    {
      "cell_type": "markdown",
      "source": [
        "**Extraindo dados de uma linha específica**"
      ],
      "metadata": {
        "id": "4pRByoyYDU4_"
      }
    },
    {
      "cell_type": "code",
      "source": [
        "print(data.loc[3])"
      ],
      "metadata": {
        "colab": {
          "base_uri": "https://localhost:8080/"
        },
        "id": "tkYbUp-2CFU3",
        "outputId": "0d85efab-9dd7-4b7c-b323-c6ebc7400e0c"
      },
      "execution_count": 63,
      "outputs": [
        {
          "output_type": "stream",
          "name": "stdout",
          "text": [
            "a   -0.758969\n",
            "b   -0.192155\n",
            "c    1.352977\n",
            "d    1.138434\n",
            "e   -0.355265\n",
            "Name: 3, dtype: float64\n"
          ]
        }
      ]
    },
    {
      "cell_type": "markdown",
      "source": [
        "**Extraindo dados de um elemento específico**"
      ],
      "metadata": {
        "id": "a3TsjAstD3y6"
      }
    },
    {
      "cell_type": "code",
      "source": [
        "print(data.loc[2,'b'])"
      ],
      "metadata": {
        "colab": {
          "base_uri": "https://localhost:8080/"
        },
        "id": "BwYt0t_qDes7",
        "outputId": "fc5c04da-7a21-446d-a7fa-51ae1c5af8e2"
      },
      "execution_count": 64,
      "outputs": [
        {
          "output_type": "stream",
          "name": "stdout",
          "text": [
            "-0.04069842042714153\n"
          ]
        }
      ]
    },
    {
      "cell_type": "markdown",
      "source": [
        "**Extraindo dados de múltiplos elementos**"
      ],
      "metadata": {
        "id": "wOR1yjKkEdI0"
      }
    },
    {
      "cell_type": "code",
      "source": [
        "print(data.loc[[2, 3], ['a', 'b', 'c']])"
      ],
      "metadata": {
        "colab": {
          "base_uri": "https://localhost:8080/"
        },
        "id": "R2yP8HJHEHfi",
        "outputId": "5a443b71-2a64-4cba-ca77-c33e744a141f"
      },
      "execution_count": 65,
      "outputs": [
        {
          "output_type": "stream",
          "name": "stdout",
          "text": [
            "          a         b         c\n",
            "2  0.594878 -0.040698 -0.401316\n",
            "3 -0.758969 -0.192155  1.352977\n"
          ]
        }
      ]
    },
    {
      "cell_type": "code",
      "source": [
        "print(data.iloc[1:3, 0:3])"
      ],
      "metadata": {
        "colab": {
          "base_uri": "https://localhost:8080/"
        },
        "id": "rv6m3rvFEx1l",
        "outputId": "af5c3a59-0663-4b6b-a84d-299d64eeb729"
      },
      "execution_count": 66,
      "outputs": [
        {
          "output_type": "stream",
          "name": "stdout",
          "text": [
            "          a         b         c\n",
            "3 -0.758969 -0.192155  1.352977\n",
            "6 -0.004783 -0.150579  1.153054\n"
          ]
        }
      ]
    },
    {
      "cell_type": "markdown",
      "source": [
        "**Buscando elementos via condicionais**"
      ],
      "metadata": {
        "id": "D4bL1La0F0ZH"
      }
    },
    {
      "cell_type": "code",
      "source": [
        "print(data > 0)"
      ],
      "metadata": {
        "colab": {
          "base_uri": "https://localhost:8080/"
        },
        "id": "b0wxR0hdFCpX",
        "outputId": "153a0671-4fe7-4e80-8141-c9afd17e9b88"
      },
      "execution_count": 67,
      "outputs": [
        {
          "output_type": "stream",
          "name": "stdout",
          "text": [
            "       a      b      c      d      e\n",
            "5  False  False  False  False  False\n",
            "3  False  False   True   True  False\n",
            "6  False  False   True  False   True\n",
            "2   True  False  False   True  False\n",
            "4  False   True  False  False   True\n",
            "1   True   True  False   True  False\n"
          ]
        }
      ]
    },
    {
      "cell_type": "markdown",
      "source": [
        "###**OPERAÇÕES MATEMÁTICAS COM DATAFRAMES**"
      ],
      "metadata": {
        "id": "91QRiaZtHIOs"
      }
    },
    {
      "cell_type": "markdown",
      "source": [
        "###Usando as funções embutidas do sistema"
      ],
      "metadata": {
        "id": "HaVDvrc4HSoe"
      }
    },
    {
      "cell_type": "code",
      "source": [
        "data = pd.DataFrame(data = np.random.randn(6, 5),\n",
        "                    index = [1, 2, 3, 4, 5, 6],\n",
        "                    columns = ['a', 'b', 'c', 'd', 'e'])\n",
        "print(data)\n",
        "print(data['b'].sum())"
      ],
      "metadata": {
        "colab": {
          "base_uri": "https://localhost:8080/"
        },
        "id": "60z5R0e-F-Cv",
        "outputId": "ea402654-389e-457e-8800-7ac5943ead13"
      },
      "execution_count": 68,
      "outputs": [
        {
          "output_type": "stream",
          "name": "stdout",
          "text": [
            "          a         b         c         d         e\n",
            "1 -0.988852 -0.834780  0.256398 -0.436760  1.276765\n",
            "2 -0.116293 -0.851245 -1.694078 -0.074108  1.228629\n",
            "3  1.553157 -0.460080  0.521084  1.280147 -0.620589\n",
            "4  0.991122 -0.023036  2.322866  1.195785  0.700802\n",
            "5 -0.885315 -0.378932  0.262429  0.665807  1.261484\n",
            "6  0.819821 -1.128112 -0.524242  0.073433  0.831690\n",
            "-3.6761858679705175\n"
          ]
        }
      ]
    },
    {
      "cell_type": "markdown",
      "source": [
        "**Aplicando uma operação matemática a todos os elementos**"
      ],
      "metadata": {
        "id": "qSyqOuI-Y7_l"
      }
    },
    {
      "cell_type": "code",
      "source": [
        "data = data + 1\n",
        "print(data)"
      ],
      "metadata": {
        "colab": {
          "base_uri": "https://localhost:8080/"
        },
        "id": "G-QmXRR_YSsL",
        "outputId": "ba448501-05c6-447d-9fd8-53138aa97c3e"
      },
      "execution_count": 70,
      "outputs": [
        {
          "output_type": "stream",
          "name": "stdout",
          "text": [
            "          a         b         c         d         e\n",
            "1  1.011148  1.165220  2.256398  1.563240  3.276765\n",
            "2  1.883707  1.148755  0.305922  1.925892  3.228629\n",
            "3  3.553157  1.539920  2.521084  3.280147  1.379411\n",
            "4  2.991122  1.976964  4.322866  3.195785  2.700802\n",
            "5  1.114685  1.621068  2.262429  2.665807  3.261484\n",
            "6  2.819821  0.871888  1.475758  2.073433  2.831690\n"
          ]
        }
      ]
    },
    {
      "cell_type": "markdown",
      "source": [
        "**Usando funções matemáticas personalizadas**"
      ],
      "metadata": {
        "id": "Sojm7UgTZTYc"
      }
    },
    {
      "cell_type": "code",
      "source": [
        "def soma(x):\n",
        "  return x + x\n",
        "\n",
        "print(data['b'].apply(soma))"
      ],
      "metadata": {
        "colab": {
          "base_uri": "https://localhost:8080/"
        },
        "id": "WsBUD5e5ZEW-",
        "outputId": "b211e3ab-ff63-480d-8f9b-6e5ff30dbf26"
      },
      "execution_count": 71,
      "outputs": [
        {
          "output_type": "stream",
          "name": "stdout",
          "text": [
            "1    2.330440\n",
            "2    2.297509\n",
            "3    3.079839\n",
            "4    3.953928\n",
            "5    3.242137\n",
            "6    1.743775\n",
            "Name: b, dtype: float64\n"
          ]
        }
      ]
    },
    {
      "cell_type": "code",
      "source": [
        "def ao_quadrado(num):\n",
        "  return num ** 2\n",
        "\n",
        "print(data['a'].apply(ao_quadrado))"
      ],
      "metadata": {
        "colab": {
          "base_uri": "https://localhost:8080/"
        },
        "id": "y8CCLcF5ZmdX",
        "outputId": "6e56187f-280f-46fa-becd-b29c96f41490"
      },
      "execution_count": 73,
      "outputs": [
        {
          "output_type": "stream",
          "name": "stdout",
          "text": [
            "1     1.022419\n",
            "2     3.548353\n",
            "3    12.624922\n",
            "4     8.946813\n",
            "5     1.242523\n",
            "6     7.951388\n",
            "Name: a, dtype: float64\n"
          ]
        }
      ]
    },
    {
      "cell_type": "code",
      "source": [
        "def ao_quadrado(num):\n",
        "  return num ** 2\n",
        "\n",
        "print(data.iloc[0:1, 1:2].apply(ao_quadrado))"
      ],
      "metadata": {
        "colab": {
          "base_uri": "https://localhost:8080/"
        },
        "id": "nVIdpzMgaBAZ",
        "outputId": "60f151f9-e6c5-4254-86a1-4704c7ca1240"
      },
      "execution_count": 74,
      "outputs": [
        {
          "output_type": "stream",
          "name": "stdout",
          "text": [
            "          b\n",
            "1  1.357738\n"
          ]
        }
      ]
    },
    {
      "cell_type": "code",
      "source": [
        "print(data['d'].apply(lambda x: x ** 2))"
      ],
      "metadata": {
        "colab": {
          "base_uri": "https://localhost:8080/"
        },
        "id": "DpdZh5iPaU7g",
        "outputId": "86399b1b-33b8-478d-de4f-dc6ae1cab437"
      },
      "execution_count": 76,
      "outputs": [
        {
          "output_type": "stream",
          "name": "stdout",
          "text": [
            "1     2.443718\n",
            "2     3.709060\n",
            "3    10.759364\n",
            "4    10.213045\n",
            "5     7.106529\n",
            "6     4.299125\n",
            "Name: d, dtype: float64\n"
          ]
        }
      ]
    },
    {
      "cell_type": "markdown",
      "source": [
        "## ESTRUTURAS CONDICIONAIS APLICADAS A DATAFRAME"
      ],
      "metadata": {
        "id": "PEiCTR_BayYy"
      }
    },
    {
      "cell_type": "markdown",
      "source": [
        "##Aplicação de estruturas condicionais simples"
      ],
      "metadata": {
        "id": "MHDfG3e4a8-Z"
      }
    },
    {
      "cell_type": "code",
      "source": [
        "data = pd.DataFrame(data = np.random.randn(6,5),\n",
        "                    index = [1, 2, 3, 4, 5, 6],\n",
        "                    columns = ['a', 'b', 'c', 'd', 'e'])\n",
        "\n",
        "print(data)\n",
        "print(data['a'])\n",
        "print(data['a'] < 0)"
      ],
      "metadata": {
        "colab": {
          "base_uri": "https://localhost:8080/"
        },
        "id": "3kINKi_TanPe",
        "outputId": "56efdee2-66f5-4872-86bb-cea1548f09f0"
      },
      "execution_count": 77,
      "outputs": [
        {
          "output_type": "stream",
          "name": "stdout",
          "text": [
            "          a         b         c         d         e\n",
            "1  1.650826 -0.060209 -0.955408 -2.629787 -0.417305\n",
            "2 -0.511651  1.139733  0.143984  0.392282 -0.377518\n",
            "3  0.050747 -0.174837 -1.371638  1.382765  0.098071\n",
            "4 -0.935038  0.916168  0.423858  0.349603 -0.078913\n",
            "5 -0.195384 -0.529635 -0.373391 -0.388076 -1.831269\n",
            "6 -1.904913 -1.966915 -0.393172  0.547573  1.069692\n",
            "1    1.650826\n",
            "2   -0.511651\n",
            "3    0.050747\n",
            "4   -0.935038\n",
            "5   -0.195384\n",
            "6   -1.904913\n",
            "Name: a, dtype: float64\n",
            "1    False\n",
            "2     True\n",
            "3    False\n",
            "4     True\n",
            "5     True\n",
            "6     True\n",
            "Name: a, dtype: bool\n"
          ]
        }
      ]
    },
    {
      "cell_type": "code",
      "source": [
        "data = pd.DataFrame(data = np.random.randn(6,5),\n",
        "                    index = [1, 2, 3, 4, 5, 6],\n",
        "                    columns = ['a', 'b', 'c', 'd', 'e'])\n",
        "\n",
        "print(data)\n",
        "print(data['a'])\n",
        "\n",
        "data_2 = data[data['a'] < 0 ]\n",
        "print(data_2)\n"
      ],
      "metadata": {
        "colab": {
          "base_uri": "https://localhost:8080/"
        },
        "id": "Q3yP6NpMcXPH",
        "outputId": "4363ee01-f6a0-4bb9-f114-20d9e5effef6"
      },
      "execution_count": 78,
      "outputs": [
        {
          "output_type": "stream",
          "name": "stdout",
          "text": [
            "          a         b         c         d         e\n",
            "1 -0.029785  2.045855  0.649910  1.652737 -1.546180\n",
            "2 -2.311785 -0.945822 -0.653832  0.651246 -0.795065\n",
            "3 -0.405029 -0.823602  0.383544 -0.928993  0.469297\n",
            "4 -0.560397 -0.380717 -0.342607 -0.216142  0.366240\n",
            "5  1.555387  0.109748  0.816427  0.856225  0.916686\n",
            "6 -0.279185 -0.177108  1.069417  1.003541  0.085977\n",
            "1   -0.029785\n",
            "2   -2.311785\n",
            "3   -0.405029\n",
            "4   -0.560397\n",
            "5    1.555387\n",
            "6   -0.279185\n",
            "Name: a, dtype: float64\n",
            "          a         b         c         d         e\n",
            "1 -0.029785  2.045855  0.649910  1.652737 -1.546180\n",
            "2 -2.311785 -0.945822 -0.653832  0.651246 -0.795065\n",
            "3 -0.405029 -0.823602  0.383544 -0.928993  0.469297\n",
            "4 -0.560397 -0.380717 -0.342607 -0.216142  0.366240\n",
            "6 -0.279185 -0.177108  1.069417  1.003541  0.085977\n"
          ]
        }
      ]
    },
    {
      "cell_type": "markdown",
      "source": [
        "### Aplicação de estruturas condicionais compostas"
      ],
      "metadata": {
        "id": "gz2g7TBIdrWA"
      }
    },
    {
      "cell_type": "code",
      "source": [
        "data = pd.DataFrame(data = np.random.randn(6,5),\n",
        "                    index = [1, 2, 3, 4, 5, 6],\n",
        "                    columns = ['a', 'b', 'c', 'd', 'e'])\n",
        "\n",
        "print(data)\n",
        "print(data[(data['a'] < 0 ) & (data['b'] > 1)])"
      ],
      "metadata": {
        "colab": {
          "base_uri": "https://localhost:8080/"
        },
        "id": "WDH8aFKuc3_T",
        "outputId": "fce59f0b-55be-44bd-801b-beee67e6121b"
      },
      "execution_count": 80,
      "outputs": [
        {
          "output_type": "stream",
          "name": "stdout",
          "text": [
            "          a         b         c         d         e\n",
            "1 -0.837050  1.284069  0.432692  0.029935  0.759913\n",
            "2  0.815898 -0.863198  0.875479 -2.237198  2.342362\n",
            "3  0.283892 -2.029100 -1.734918  0.782177 -0.073595\n",
            "4 -0.266564 -1.478100 -0.208054 -0.991177  0.164653\n",
            "5 -0.305058 -0.785639  0.889679 -0.360523 -0.258076\n",
            "6 -0.452276  0.884344 -0.422986  0.132644  0.001766\n",
            "         a         b         c         d         e\n",
            "1 -0.83705  1.284069  0.432692  0.029935  0.759913\n"
          ]
        }
      ]
    },
    {
      "cell_type": "code",
      "source": [],
      "metadata": {
        "id": "DHa-KJWteByS"
      },
      "execution_count": null,
      "outputs": []
    }
  ]
}