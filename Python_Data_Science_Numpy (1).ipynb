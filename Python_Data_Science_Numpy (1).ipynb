{
 "cells": [
  {
   "cell_type": "markdown",
   "metadata": {
    "id": "umSz9TLxltjG"
   },
   "source": [
    "# <font color=green> 1. INTRODUÇÃO AO PYTHON\n",
    "---"
   ]
  },
  {
   "cell_type": "markdown",
   "metadata": {
    "id": "gSnX12-sltjH"
   },
   "source": [
    "# 1.1 Introdução"
   ]
  },
  {
   "cell_type": "markdown",
   "metadata": {
    "id": "SRG_k55kltjI"
   },
   "source": [
    "> Python é uma linguagem de programação de alto nível com suporte a múltiplos paradigmas de programação. É um projeto *open source* e desde seu surgimento, em 1991, vem se tornando uma das linguagens de programação interpretadas mais populares. \n",
    ">\n",
    "> Nos últimos anos Python desenvolveu uma comunidade ativa de processamento científico e análise de dados e vem se destacando como uma das linguagens mais relevantes quando o assunto é ciência de dados e machine learning, tanto no ambiente acadêmico como também no mercado."
   ]
  },
  {
   "cell_type": "markdown",
   "metadata": {
    "id": "2oZuKvWkltjJ"
   },
   "source": [
    "# 1.2 Instalação e ambiente de desenvolvimento"
   ]
  },
  {
   "cell_type": "markdown",
   "metadata": {
    "id": "v4P8bMEIltjK"
   },
   "source": [
    "### Instalação Local\n",
    "\n",
    "### https://www.python.org/downloads/\n",
    "### ou\n",
    "### https://www.anaconda.com/distribution/"
   ]
  },
  {
   "cell_type": "markdown",
   "metadata": {
    "id": "FZtu5tjrltjL"
   },
   "source": [
    "### Google Colaboratory\n",
    "\n",
    "### https://colab.research.google.com"
   ]
  },
  {
   "cell_type": "code",
   "execution_count": null,
   "metadata": {
    "id": "QZH4P7bCyGp6"
   },
   "outputs": [],
   "source": []
  },
  {
   "cell_type": "markdown",
   "metadata": {
    "id": "C6vbfq8DltjM"
   },
   "source": [
    "### Verificando versão"
   ]
  },
  {
   "cell_type": "code",
   "execution_count": 150,
   "metadata": {
    "colab": {
     "base_uri": "https://localhost:8080/"
    },
    "id": "FdWZasfTScI0",
    "outputId": "821ef98b-baaa-479c-e7eb-66a22199933e"
   },
   "outputs": [
    {
     "ename": "ModuleNotFoundError",
     "evalue": "No module named 'google'",
     "output_type": "error",
     "traceback": [
      "\u001b[0;31m---------------------------------------------------------------------------\u001b[0m",
      "\u001b[0;31mModuleNotFoundError\u001b[0m                       Traceback (most recent call last)",
      "\u001b[0;32m/tmp/ipykernel_6071/1408506528.py\u001b[0m in \u001b[0;36m<module>\u001b[0;34m\u001b[0m\n\u001b[0;32m----> 1\u001b[0;31m \u001b[0;32mfrom\u001b[0m \u001b[0mgoogle\u001b[0m\u001b[0;34m.\u001b[0m\u001b[0mcolab\u001b[0m \u001b[0;32mimport\u001b[0m \u001b[0mdrive\u001b[0m\u001b[0;34m\u001b[0m\u001b[0;34m\u001b[0m\u001b[0m\n\u001b[0m\u001b[1;32m      2\u001b[0m \u001b[0mdrive\u001b[0m\u001b[0;34m.\u001b[0m\u001b[0mmount\u001b[0m\u001b[0;34m(\u001b[0m\u001b[0;34m'/content/drive'\u001b[0m\u001b[0;34m)\u001b[0m\u001b[0;34m\u001b[0m\u001b[0;34m\u001b[0m\u001b[0m\n",
      "\u001b[0;31mModuleNotFoundError\u001b[0m: No module named 'google'"
     ]
    }
   ],
   "source": [
    "from google.colab import drive\n",
    "drive.mount('/content/drive')"
   ]
  },
  {
   "cell_type": "code",
   "execution_count": null,
   "metadata": {
    "colab": {
     "base_uri": "https://localhost:8080/"
    },
    "id": "jeuAt-4NltjM",
    "outputId": "23bec002-76df-4446-85d8-2675179ad6f9"
   },
   "outputs": [],
   "source": [
    "!python -V\n"
   ]
  },
  {
   "cell_type": "markdown",
   "metadata": {
    "id": "v86aEyR2ltjR"
   },
   "source": [
    "# 1.3 Trabalhando com arrays Numpy"
   ]
  },
  {
   "cell_type": "code",
   "execution_count": 151,
   "metadata": {
    "id": "6FEhElzNltjR"
   },
   "outputs": [],
   "source": [
    "import numpy as np"
   ]
  },
  {
   "cell_type": "code",
   "execution_count": 152,
   "metadata": {
    "id": "qjL5wPLKltjU"
   },
   "outputs": [
    {
     "ename": "OSError",
     "evalue": "carros-km.txt not found.",
     "output_type": "error",
     "traceback": [
      "\u001b[0;31m---------------------------------------------------------------------------\u001b[0m",
      "\u001b[0;31mOSError\u001b[0m                                   Traceback (most recent call last)",
      "\u001b[0;32m/tmp/ipykernel_6071/1587674279.py\u001b[0m in \u001b[0;36m<module>\u001b[0;34m\u001b[0m\n\u001b[0;32m----> 1\u001b[0;31m \u001b[0mkm\u001b[0m \u001b[0;34m=\u001b[0m \u001b[0mnp\u001b[0m\u001b[0;34m.\u001b[0m\u001b[0mloadtxt\u001b[0m\u001b[0;34m(\u001b[0m\u001b[0;34m'carros-km.txt'\u001b[0m\u001b[0;34m)\u001b[0m\u001b[0;34m\u001b[0m\u001b[0;34m\u001b[0m\u001b[0m\n\u001b[0m",
      "\u001b[0;32m~/anaconda3/lib/python3.9/site-packages/numpy/lib/npyio.py\u001b[0m in \u001b[0;36mloadtxt\u001b[0;34m(fname, dtype, comments, delimiter, converters, skiprows, usecols, unpack, ndmin, encoding, max_rows, like)\u001b[0m\n\u001b[1;32m   1065\u001b[0m             \u001b[0mfname\u001b[0m \u001b[0;34m=\u001b[0m \u001b[0mos_fspath\u001b[0m\u001b[0;34m(\u001b[0m\u001b[0mfname\u001b[0m\u001b[0;34m)\u001b[0m\u001b[0;34m\u001b[0m\u001b[0;34m\u001b[0m\u001b[0m\n\u001b[1;32m   1066\u001b[0m         \u001b[0;32mif\u001b[0m \u001b[0m_is_string_like\u001b[0m\u001b[0;34m(\u001b[0m\u001b[0mfname\u001b[0m\u001b[0;34m)\u001b[0m\u001b[0;34m:\u001b[0m\u001b[0;34m\u001b[0m\u001b[0;34m\u001b[0m\u001b[0m\n\u001b[0;32m-> 1067\u001b[0;31m             \u001b[0mfh\u001b[0m \u001b[0;34m=\u001b[0m \u001b[0mnp\u001b[0m\u001b[0;34m.\u001b[0m\u001b[0mlib\u001b[0m\u001b[0;34m.\u001b[0m\u001b[0m_datasource\u001b[0m\u001b[0;34m.\u001b[0m\u001b[0mopen\u001b[0m\u001b[0;34m(\u001b[0m\u001b[0mfname\u001b[0m\u001b[0;34m,\u001b[0m \u001b[0;34m'rt'\u001b[0m\u001b[0;34m,\u001b[0m \u001b[0mencoding\u001b[0m\u001b[0;34m=\u001b[0m\u001b[0mencoding\u001b[0m\u001b[0;34m)\u001b[0m\u001b[0;34m\u001b[0m\u001b[0;34m\u001b[0m\u001b[0m\n\u001b[0m\u001b[1;32m   1068\u001b[0m             \u001b[0mfencoding\u001b[0m \u001b[0;34m=\u001b[0m \u001b[0mgetattr\u001b[0m\u001b[0;34m(\u001b[0m\u001b[0mfh\u001b[0m\u001b[0;34m,\u001b[0m \u001b[0;34m'encoding'\u001b[0m\u001b[0;34m,\u001b[0m \u001b[0;34m'latin1'\u001b[0m\u001b[0;34m)\u001b[0m\u001b[0;34m\u001b[0m\u001b[0;34m\u001b[0m\u001b[0m\n\u001b[1;32m   1069\u001b[0m             \u001b[0mfh\u001b[0m \u001b[0;34m=\u001b[0m \u001b[0miter\u001b[0m\u001b[0;34m(\u001b[0m\u001b[0mfh\u001b[0m\u001b[0;34m)\u001b[0m\u001b[0;34m\u001b[0m\u001b[0;34m\u001b[0m\u001b[0m\n",
      "\u001b[0;32m~/anaconda3/lib/python3.9/site-packages/numpy/lib/_datasource.py\u001b[0m in \u001b[0;36mopen\u001b[0;34m(path, mode, destpath, encoding, newline)\u001b[0m\n\u001b[1;32m    191\u001b[0m \u001b[0;34m\u001b[0m\u001b[0m\n\u001b[1;32m    192\u001b[0m     \u001b[0mds\u001b[0m \u001b[0;34m=\u001b[0m \u001b[0mDataSource\u001b[0m\u001b[0;34m(\u001b[0m\u001b[0mdestpath\u001b[0m\u001b[0;34m)\u001b[0m\u001b[0;34m\u001b[0m\u001b[0;34m\u001b[0m\u001b[0m\n\u001b[0;32m--> 193\u001b[0;31m     \u001b[0;32mreturn\u001b[0m \u001b[0mds\u001b[0m\u001b[0;34m.\u001b[0m\u001b[0mopen\u001b[0m\u001b[0;34m(\u001b[0m\u001b[0mpath\u001b[0m\u001b[0;34m,\u001b[0m \u001b[0mmode\u001b[0m\u001b[0;34m,\u001b[0m \u001b[0mencoding\u001b[0m\u001b[0;34m=\u001b[0m\u001b[0mencoding\u001b[0m\u001b[0;34m,\u001b[0m \u001b[0mnewline\u001b[0m\u001b[0;34m=\u001b[0m\u001b[0mnewline\u001b[0m\u001b[0;34m)\u001b[0m\u001b[0;34m\u001b[0m\u001b[0;34m\u001b[0m\u001b[0m\n\u001b[0m\u001b[1;32m    194\u001b[0m \u001b[0;34m\u001b[0m\u001b[0m\n\u001b[1;32m    195\u001b[0m \u001b[0;34m\u001b[0m\u001b[0m\n",
      "\u001b[0;32m~/anaconda3/lib/python3.9/site-packages/numpy/lib/_datasource.py\u001b[0m in \u001b[0;36mopen\u001b[0;34m(self, path, mode, encoding, newline)\u001b[0m\n\u001b[1;32m    531\u001b[0m                                       encoding=encoding, newline=newline)\n\u001b[1;32m    532\u001b[0m         \u001b[0;32melse\u001b[0m\u001b[0;34m:\u001b[0m\u001b[0;34m\u001b[0m\u001b[0;34m\u001b[0m\u001b[0m\n\u001b[0;32m--> 533\u001b[0;31m             \u001b[0;32mraise\u001b[0m \u001b[0mIOError\u001b[0m\u001b[0;34m(\u001b[0m\u001b[0;34m\"%s not found.\"\u001b[0m \u001b[0;34m%\u001b[0m \u001b[0mpath\u001b[0m\u001b[0;34m)\u001b[0m\u001b[0;34m\u001b[0m\u001b[0;34m\u001b[0m\u001b[0m\n\u001b[0m\u001b[1;32m    534\u001b[0m \u001b[0;34m\u001b[0m\u001b[0m\n\u001b[1;32m    535\u001b[0m \u001b[0;34m\u001b[0m\u001b[0m\n",
      "\u001b[0;31mOSError\u001b[0m: carros-km.txt not found."
     ]
    }
   ],
   "source": [
    "km = np.loadtxt('carros-km.txt')"
   ]
  },
  {
   "cell_type": "code",
   "execution_count": null,
   "metadata": {
    "id": "OFaxgUptltjW",
    "scrolled": true
   },
   "outputs": [],
   "source": [
    "km\n"
   ]
  },
  {
   "cell_type": "code",
   "execution_count": null,
   "metadata": {
    "id": "FXjYowRDltjZ"
   },
   "outputs": [],
   "source": [
    "anos = np.loadtxt('carros-anos.txt', dtype= int)"
   ]
  },
  {
   "cell_type": "code",
   "execution_count": null,
   "metadata": {
    "colab": {
     "base_uri": "https://localhost:8080/"
    },
    "id": "f_d2Ya-vltjb",
    "outputId": "f0d26b4a-ddea-4910-e935-dd01005155c9"
   },
   "outputs": [],
   "source": [
    "anos"
   ]
  },
  {
   "cell_type": "code",
   "execution_count": null,
   "metadata": {
    "id": "hxLZatdeltje"
   },
   "outputs": [],
   "source": []
  },
  {
   "cell_type": "code",
   "execution_count": null,
   "metadata": {
    "id": "GLsHBNakltjg"
   },
   "outputs": [],
   "source": []
  },
  {
   "cell_type": "code",
   "execution_count": null,
   "metadata": {
    "id": "oSSYu6nhltji"
   },
   "outputs": [],
   "source": []
  },
  {
   "cell_type": "code",
   "execution_count": null,
   "metadata": {
    "id": "D6qMoutGltjk"
   },
   "outputs": [],
   "source": []
  },
  {
   "cell_type": "code",
   "execution_count": null,
   "metadata": {
    "id": "XIBz0Vowltjn"
   },
   "outputs": [],
   "source": []
  },
  {
   "cell_type": "code",
   "execution_count": null,
   "metadata": {
    "id": "u8_CU3F4ltjq"
   },
   "outputs": [],
   "source": []
  },
  {
   "cell_type": "markdown",
   "metadata": {
    "id": "wMdUsAq4ltjs"
   },
   "source": [
    "### Obtendo a quilometragem média por ano"
   ]
  },
  {
   "cell_type": "code",
   "execution_count": null,
   "metadata": {
    "colab": {
     "base_uri": "https://localhost:8080/"
    },
    "id": "cD2M3s3Fltjt",
    "outputId": "d8b110d6-17d3-4e23-f873-59af91913c4c"
   },
   "outputs": [],
   "source": [
    "km_media = km / (2019 - anos)"
   ]
  },
  {
   "cell_type": "code",
   "execution_count": null,
   "metadata": {
    "colab": {
     "base_uri": "https://localhost:8080/"
    },
    "id": "65IyPzKKltjv",
    "outputId": "724844e4-529b-430a-b029-423692c4a8b4"
   },
   "outputs": [],
   "source": [
    "km_media"
   ]
  },
  {
   "cell_type": "code",
   "execution_count": null,
   "metadata": {
    "colab": {
     "base_uri": "https://localhost:8080/"
    },
    "id": "Z0JCmAWvltjy",
    "outputId": "dc14b482-545c-4f44-a071-4aee14da1a43"
   },
   "outputs": [],
   "source": [
    "type(km_media)"
   ]
  },
  {
   "cell_type": "markdown",
   "metadata": {
    "id": "KdG5NmmGltj0"
   },
   "source": [
    "# <font color=green> 2. CARACTERÍSTICAS BÁSICAS DA LINGUAGEM\n",
    "---"
   ]
  },
  {
   "cell_type": "markdown",
   "metadata": {
    "id": "X1K5kisFltj1"
   },
   "source": [
    "# 2.1 Operações matemáticas\n",
    "\n",
    "### Operadores aritméticos: $+$, $-$, $*$, $/$, $**$, $\\%$, $//$"
   ]
  },
  {
   "cell_type": "markdown",
   "metadata": {
    "id": "8YCDVpbYltj1"
   },
   "source": [
    "### Adição ($+$)"
   ]
  },
  {
   "cell_type": "code",
   "execution_count": null,
   "metadata": {
    "colab": {
     "base_uri": "https://localhost:8080/"
    },
    "id": "h6DsMqhaltj2",
    "outputId": "c78d5167-46ad-4bf4-86a5-ec8469d3c76a"
   },
   "outputs": [],
   "source": [
    "2 + 2"
   ]
  },
  {
   "cell_type": "markdown",
   "metadata": {
    "id": "WeJG-WJBltj8"
   },
   "source": [
    "### Subtração ($-$)"
   ]
  },
  {
   "cell_type": "code",
   "execution_count": null,
   "metadata": {
    "colab": {
     "base_uri": "https://localhost:8080/"
    },
    "id": "zoB7_OcRltj9",
    "outputId": "fab98cce-3707-424b-aca5-7429aa473e7b"
   },
   "outputs": [],
   "source": [
    "2 - 2\n"
   ]
  },
  {
   "cell_type": "markdown",
   "metadata": {
    "id": "zuv8N7fjltkC"
   },
   "source": [
    "### Multiplicação ($*$)"
   ]
  },
  {
   "cell_type": "code",
   "execution_count": null,
   "metadata": {
    "colab": {
     "base_uri": "https://localhost:8080/"
    },
    "id": "TAWG7xSTltkD",
    "outputId": "f74d153c-13a0-44a8-9c3f-8ef7ceb5269d"
   },
   "outputs": [],
   "source": [
    "2*3"
   ]
  },
  {
   "cell_type": "markdown",
   "metadata": {
    "id": "dMp7BsnwltkF"
   },
   "source": [
    "### Divisão ($/$) e ($//$)\n",
    "A operação divisão sempre retorna um número de ponto flutuante"
   ]
  },
  {
   "cell_type": "code",
   "execution_count": null,
   "metadata": {
    "colab": {
     "base_uri": "https://localhost:8080/"
    },
    "id": "DD5kx3H3ltkF",
    "outputId": "ea7a8e0b-b982-4bef-b618-29439b5ddb33"
   },
   "outputs": [],
   "source": [
    "10 / 3"
   ]
  },
  {
   "cell_type": "code",
   "execution_count": null,
   "metadata": {
    "colab": {
     "base_uri": "https://localhost:8080/"
    },
    "id": "ji0CYH3UltkI",
    "outputId": "af2e382b-f2d2-4b4e-bba0-aa305f3b260b"
   },
   "outputs": [],
   "source": [
    "10 // 3"
   ]
  },
  {
   "cell_type": "markdown",
   "metadata": {
    "id": "3DSO7TcvltkL"
   },
   "source": [
    "### Exponenciação ($**$)"
   ]
  },
  {
   "cell_type": "code",
   "execution_count": null,
   "metadata": {
    "colab": {
     "base_uri": "https://localhost:8080/"
    },
    "id": "tBKvl2TWltkM",
    "outputId": "7edb55ad-f819-42a1-c862-86a0da678c9e"
   },
   "outputs": [],
   "source": [
    " 2** 3"
   ]
  },
  {
   "cell_type": "markdown",
   "metadata": {
    "id": "MhD56p-9ltkQ"
   },
   "source": [
    "### Resto da divisão ($\\%$)"
   ]
  },
  {
   "cell_type": "code",
   "execution_count": null,
   "metadata": {
    "colab": {
     "base_uri": "https://localhost:8080/"
    },
    "id": "bfa7phO6ltkR",
    "outputId": "106a9542-2f55-4e28-b9b6-245ca962fc99"
   },
   "outputs": [],
   "source": [
    "10 % 3"
   ]
  },
  {
   "cell_type": "code",
   "execution_count": null,
   "metadata": {
    "colab": {
     "base_uri": "https://localhost:8080/"
    },
    "id": "khIEx6olltkT",
    "outputId": "adbad963-2544-40ca-c9a0-1436470f70d4"
   },
   "outputs": [],
   "source": [
    "10 % 2"
   ]
  },
  {
   "cell_type": "markdown",
   "metadata": {
    "id": "8pVVp5fsltkV"
   },
   "source": [
    "### Expressões matemáticas"
   ]
  },
  {
   "cell_type": "code",
   "execution_count": null,
   "metadata": {
    "colab": {
     "base_uri": "https://localhost:8080/"
    },
    "id": "jlQTk4gNltkW",
    "outputId": "468f0c51-d1e3-4e28-a47c-a94950ce8482"
   },
   "outputs": [],
   "source": [
    "5 * 2 + 3 * 2"
   ]
  },
  {
   "cell_type": "code",
   "execution_count": null,
   "metadata": {
    "colab": {
     "base_uri": "https://localhost:8080/"
    },
    "id": "kkCb6Crgltka",
    "outputId": "db1b32ea-6b3c-4056-9a91-92b5682832dd"
   },
   "outputs": [],
   "source": [
    "(5 * 2) + (3 * 2)"
   ]
  },
  {
   "cell_type": "code",
   "execution_count": null,
   "metadata": {
    "colab": {
     "base_uri": "https://localhost:8080/"
    },
    "id": "UD12tlgAltkd",
    "outputId": "c96b00ff-4f79-445b-826e-c4c79f6ebc04"
   },
   "outputs": [],
   "source": [
    "5 * (2 + 3) * 2"
   ]
  },
  {
   "cell_type": "markdown",
   "metadata": {
    "id": "a5tKQ5Beltkf"
   },
   "source": [
    "### A variável _\n",
    "\n",
    "No modo interativo, o último resultado impresso é atribuído à variável _"
   ]
  },
  {
   "cell_type": "code",
   "execution_count": null,
   "metadata": {
    "colab": {
     "base_uri": "https://localhost:8080/"
    },
    "id": "VkHEx516ltkg",
    "outputId": "acb89bd3-814c-488d-a2c9-cd97d07cb52a"
   },
   "outputs": [],
   "source": [
    "_"
   ]
  },
  {
   "cell_type": "code",
   "execution_count": null,
   "metadata": {
    "colab": {
     "base_uri": "https://localhost:8080/"
    },
    "id": "dFShsobXltki",
    "outputId": "afb4305a-a8de-4d8f-a979-a99b2c158f76"
   },
   "outputs": [],
   "source": [
    "5 * 2"
   ]
  },
  {
   "cell_type": "code",
   "execution_count": null,
   "metadata": {
    "colab": {
     "base_uri": "https://localhost:8080/"
    },
    "id": "hJIpR3KUltkk",
    "outputId": "d633f80b-a9b8-47f0-f23e-6b5b30ca3c33"
   },
   "outputs": [],
   "source": [
    "_ + 3 * 2"
   ]
  },
  {
   "cell_type": "markdown",
   "metadata": {
    "id": "MUrQAf6Mltkm"
   },
   "source": [
    "# 2.2 Variáveis "
   ]
  },
  {
   "cell_type": "markdown",
   "metadata": {
    "id": "qaVLKIeultkn"
   },
   "source": [
    "### Nomes de variáveis\n",
    "\n",
    "- Nomes de variáveis pode começar com letras (a - z, A - Z) ou o caractere *underscore* (_):\n",
    "\n",
    "    > Altura\n",
    "    >\n",
    "    > _peso\n",
    "    \n",
    "- O restante do nome pode conter letras, números e o caractere \"_\":\n",
    "\n",
    "    > nome_da_variavel\n",
    "    >\n",
    "    > _valor\n",
    "    >\n",
    "    > dia_28_11_\n",
    "    \n",
    "\n",
    "- O nomes são *case sensitive*:\n",
    "\n",
    "    > Nome_Da_Variável $\\ne$ nome_da_variavel $\\ne$ NOME_DA_VARIAVEL\n",
    "    \n",
    "### <font color=red>Observações:\n",
    "- Existem algumas palavras reservadas da linguagem que não podem ser utilizadas como nomes de variável:\n",
    "\n",
    "| |Lista de palavras <br>reservadas em Python| |\n",
    "|:-------------:|:------------:|:-------------:|\n",
    "| and           | as           | not           | \n",
    "| assert        | finally      | or            | \n",
    "| break         | for          | pass          | \n",
    "| class         | from         | nonlocal      | \n",
    "| continue      | global       | raise         | \n",
    "| def           | if           | return        | \n",
    "| del           | import       | try           | \n",
    "| elif          | in           | while         | \n",
    "| else          | is           | with          | \n",
    "| except        | lambda       | yield         | \n",
    "| False         | True         | None          | "
   ]
  },
  {
   "cell_type": "markdown",
   "metadata": {
    "id": "3frWjfAtltkn"
   },
   "source": [
    "### Declaração de variáveis\n",
    "\n",
    "### Operadores de atribuição: $=$, $+=$, $-=$, $*=$, $/=$, $**=$, $\\%=$, $//=$"
   ]
  },
  {
   "cell_type": "code",
   "execution_count": 153,
   "metadata": {
    "id": "7VIcrXNHltko"
   },
   "outputs": [],
   "source": [
    "ano_atual = 2019\n",
    "ano_fabricacao = 2003\n",
    "km_total = 44410"
   ]
  },
  {
   "cell_type": "code",
   "execution_count": 154,
   "metadata": {
    "colab": {
     "base_uri": "https://localhost:8080/"
    },
    "id": "atVoqp6bltkq",
    "outputId": "35d9beac-370d-4dee-d34d-721e4f75cbd8"
   },
   "outputs": [
    {
     "data": {
      "text/plain": [
       "2019"
      ]
     },
     "execution_count": 154,
     "metadata": {},
     "output_type": "execute_result"
    }
   ],
   "source": [
    "ano_atual"
   ]
  },
  {
   "cell_type": "code",
   "execution_count": 155,
   "metadata": {
    "colab": {
     "base_uri": "https://localhost:8080/"
    },
    "id": "_t82qXrOltkt",
    "outputId": "aa7b8e72-cc25-4c21-8669-c84a171213ea"
   },
   "outputs": [
    {
     "data": {
      "text/plain": [
       "2003"
      ]
     },
     "execution_count": 155,
     "metadata": {},
     "output_type": "execute_result"
    }
   ],
   "source": [
    "ano_fabricacao"
   ]
  },
  {
   "cell_type": "code",
   "execution_count": 156,
   "metadata": {
    "colab": {
     "base_uri": "https://localhost:8080/"
    },
    "id": "1anwuDHiltkv",
    "outputId": "f690c856-0167-4caf-8201-f238e1af1a0c"
   },
   "outputs": [
    {
     "data": {
      "text/plain": [
       "44410"
      ]
     },
     "execution_count": 156,
     "metadata": {},
     "output_type": "execute_result"
    }
   ],
   "source": [
    "km_total"
   ]
  },
  {
   "cell_type": "markdown",
   "metadata": {
    "id": "gCBkfq_8ltky"
   },
   "source": [
    "# $$km_{média} = \\frac {km_{total}}{(Ano_{atual} - Ano_{fabricação})}$$"
   ]
  },
  {
   "cell_type": "markdown",
   "metadata": {
    "id": "zswWS4hNltky"
   },
   "source": [
    "### Operações com variáveis"
   ]
  },
  {
   "cell_type": "code",
   "execution_count": 157,
   "metadata": {
    "id": "HxxU0rnfltkz"
   },
   "outputs": [],
   "source": [
    "ano_atual = 2019\n",
    "ano_fabricacao = 2001\n",
    "km_total = 44410\n",
    "km_media = km_total / (ano_atual - ano_fabricacao)"
   ]
  },
  {
   "cell_type": "code",
   "execution_count": 158,
   "metadata": {
    "colab": {
     "base_uri": "https://localhost:8080/"
    },
    "id": "_2Qhb32jltk1",
    "outputId": "68fce036-61af-4763-a7b1-16a3e314aa71"
   },
   "outputs": [
    {
     "data": {
      "text/plain": [
       "2467.222222222222"
      ]
     },
     "execution_count": 158,
     "metadata": {},
     "output_type": "execute_result"
    }
   ],
   "source": [
    "km_media"
   ]
  },
  {
   "cell_type": "code",
   "execution_count": 159,
   "metadata": {
    "colab": {
     "base_uri": "https://localhost:8080/"
    },
    "id": "nCJzA7dyltk3",
    "outputId": "9cd17768-1395-4963-9190-6303f0791092"
   },
   "outputs": [
    {
     "data": {
      "text/plain": [
       "46877.22222222222"
      ]
     },
     "execution_count": 159,
     "metadata": {},
     "output_type": "execute_result"
    }
   ],
   "source": [
    "ano_atual = 2019\n",
    "ano_fabricacao = 2001\n",
    "km_total = 44410\n",
    "km_media = km_total / (ano_atual - ano_fabricacao)\n",
    "km_total = km_total + km_media\n",
    "km_total"
   ]
  },
  {
   "cell_type": "code",
   "execution_count": 160,
   "metadata": {
    "colab": {
     "base_uri": "https://localhost:8080/"
    },
    "id": "ifRwQ0vEltk9",
    "outputId": "6f632591-bba9-4cdc-cc43-b9205e5b4277"
   },
   "outputs": [
    {
     "data": {
      "text/plain": [
       "46877.22222222222"
      ]
     },
     "execution_count": 160,
     "metadata": {},
     "output_type": "execute_result"
    }
   ],
   "source": [
    "ano_atual = 2019\n",
    "ano_fabricacao = 2001\n",
    "km_total = 44410\n",
    "km_media = km_total / (ano_atual - ano_fabricacao)\n",
    "km_total += km_media\n",
    "km_total"
   ]
  },
  {
   "cell_type": "markdown",
   "metadata": {
    "id": "fDBrHWSBltlB"
   },
   "source": [
    "### Conclusão:\n",
    "```\n",
    "\"valor = valor + 1\" é equivalente a \"valor += 1\"\n",
    "```"
   ]
  },
  {
   "cell_type": "markdown",
   "metadata": {
    "id": "uVAyJbmAltlC"
   },
   "source": [
    "### Declaração múltipla"
   ]
  },
  {
   "cell_type": "code",
   "execution_count": 161,
   "metadata": {
    "id": "oMWEzjPOltlC"
   },
   "outputs": [],
   "source": [
    "ano_atual, ano_fabricacao, km_total = 2019, 2003, 44410\n",
    " \n"
   ]
  },
  {
   "cell_type": "code",
   "execution_count": 162,
   "metadata": {
    "colab": {
     "base_uri": "https://localhost:8080/"
    },
    "id": "9ZKlHkLultlE",
    "outputId": "a77a92c9-af51-4389-874a-495e81b129bb"
   },
   "outputs": [
    {
     "data": {
      "text/plain": [
       "2019"
      ]
     },
     "execution_count": 162,
     "metadata": {},
     "output_type": "execute_result"
    }
   ],
   "source": [
    "ano_atual"
   ]
  },
  {
   "cell_type": "code",
   "execution_count": 163,
   "metadata": {
    "colab": {
     "base_uri": "https://localhost:8080/"
    },
    "id": "-mcMuW9nltlG",
    "outputId": "c0cd44c0-4a36-4bf4-9d2c-d8e5337437ac"
   },
   "outputs": [
    {
     "data": {
      "text/plain": [
       "2003"
      ]
     },
     "execution_count": 163,
     "metadata": {},
     "output_type": "execute_result"
    }
   ],
   "source": [
    "ano_fabricacao"
   ]
  },
  {
   "cell_type": "code",
   "execution_count": 164,
   "metadata": {
    "colab": {
     "base_uri": "https://localhost:8080/"
    },
    "id": "WFFavLIvltlL",
    "outputId": "91018412-4c09-4a46-9c56-1c6e7ba6df18"
   },
   "outputs": [
    {
     "data": {
      "text/plain": [
       "44410"
      ]
     },
     "execution_count": 164,
     "metadata": {},
     "output_type": "execute_result"
    }
   ],
   "source": [
    "km_total"
   ]
  },
  {
   "cell_type": "code",
   "execution_count": 165,
   "metadata": {
    "colab": {
     "base_uri": "https://localhost:8080/"
    },
    "id": "iFawOJe6ltlO",
    "outputId": "77037fda-72f0-419a-ea7a-82971d6e117a"
   },
   "outputs": [
    {
     "data": {
      "text/plain": [
       "2775.625"
      ]
     },
     "execution_count": 165,
     "metadata": {},
     "output_type": "execute_result"
    }
   ],
   "source": [
    "ano_atual, ano_fabricacao, km_total = 2019, 2003, 44410\n",
    "km_media = km_total / (ano_atual - ano_fabricacao)\n",
    "km_media\n"
   ]
  },
  {
   "cell_type": "markdown",
   "metadata": {
    "id": "uoRXMeRDltlQ"
   },
   "source": [
    "# 2.3 Tipos de dados"
   ]
  },
  {
   "cell_type": "markdown",
   "metadata": {
    "id": "sW_G6EjWltlQ"
   },
   "source": [
    "Os tipos de dados especificam como números e caracteres serão armazenados e manipulados dentro de um programa. Os tipos de dados básicos do Python são:\n",
    "\n",
    "1. **Números**\n",
    "    1. ***int*** - Inteiros\n",
    "    - ***float*** - Ponto flutuante\n",
    "- **Booleanos** - Assume os valores True ou False. Essencial quando começarmos a trabalhar com declarações condicionais\n",
    "- ***Strings*** - Sequência de um ou mais caracteres que pode incluir letras, números e outros tipos de caracteres. Representa um texto.\n",
    "- **None** - Representa a ausência de valor"
   ]
  },
  {
   "cell_type": "markdown",
   "metadata": {
    "id": "-HRRxQOtltlQ"
   },
   "source": [
    "### Números"
   ]
  },
  {
   "cell_type": "code",
   "execution_count": 166,
   "metadata": {
    "id": "5PKIcIuUltlR"
   },
   "outputs": [],
   "source": [
    "ano_atual = 2019"
   ]
  },
  {
   "cell_type": "code",
   "execution_count": 167,
   "metadata": {
    "colab": {
     "base_uri": "https://localhost:8080/"
    },
    "id": "G32Yd1g0ltlT",
    "outputId": "5843ceb7-334e-443a-8882-674dfb6f17dd"
   },
   "outputs": [
    {
     "data": {
      "text/plain": [
       "int"
      ]
     },
     "execution_count": 167,
     "metadata": {},
     "output_type": "execute_result"
    }
   ],
   "source": [
    "type(ano_atual)"
   ]
  },
  {
   "cell_type": "code",
   "execution_count": 168,
   "metadata": {
    "id": "b9_v__dEltlV"
   },
   "outputs": [],
   "source": [
    "km_total = 44410.0"
   ]
  },
  {
   "cell_type": "code",
   "execution_count": 169,
   "metadata": {
    "colab": {
     "base_uri": "https://localhost:8080/"
    },
    "id": "A0nySb3LltlZ",
    "outputId": "8b34f070-d86f-4c61-9179-b4e9a234b5dd"
   },
   "outputs": [
    {
     "data": {
      "text/plain": [
       "float"
      ]
     },
     "execution_count": 169,
     "metadata": {},
     "output_type": "execute_result"
    }
   ],
   "source": [
    "type(km_total)"
   ]
  },
  {
   "cell_type": "markdown",
   "metadata": {
    "id": "7X9iheAnltld"
   },
   "source": [
    "### Booleanos"
   ]
  },
  {
   "cell_type": "code",
   "execution_count": 170,
   "metadata": {
    "id": "liUYdchPltle"
   },
   "outputs": [],
   "source": [
    "zero_km = True"
   ]
  },
  {
   "cell_type": "code",
   "execution_count": 171,
   "metadata": {
    "colab": {
     "base_uri": "https://localhost:8080/"
    },
    "id": "oZIQAghaltlh",
    "outputId": "2bb63fcd-528c-4826-c7c4-a6fd0053ad9c"
   },
   "outputs": [
    {
     "data": {
      "text/plain": [
       "bool"
      ]
     },
     "execution_count": 171,
     "metadata": {},
     "output_type": "execute_result"
    }
   ],
   "source": [
    "type(zero_km)"
   ]
  },
  {
   "cell_type": "code",
   "execution_count": 172,
   "metadata": {
    "id": "XCAYApe3ltlj"
   },
   "outputs": [],
   "source": [
    "zero_km = False"
   ]
  },
  {
   "cell_type": "code",
   "execution_count": 173,
   "metadata": {
    "colab": {
     "base_uri": "https://localhost:8080/"
    },
    "id": "mJ0nGEV7ltll",
    "outputId": "c0251657-2682-4fb8-bd86-e6461a165228"
   },
   "outputs": [
    {
     "data": {
      "text/plain": [
       "bool"
      ]
     },
     "execution_count": 173,
     "metadata": {},
     "output_type": "execute_result"
    }
   ],
   "source": [
    "type(zero_km)"
   ]
  },
  {
   "cell_type": "markdown",
   "metadata": {
    "id": "Ipjq4eiSltlp"
   },
   "source": [
    "### Strings"
   ]
  },
  {
   "cell_type": "code",
   "execution_count": 174,
   "metadata": {
    "colab": {
     "base_uri": "https://localhost:8080/",
     "height": 35
    },
    "id": "OeW_GQzOltlr",
    "outputId": "f8a34efc-966f-4f1d-c569-5fc35fa88392"
   },
   "outputs": [
    {
     "data": {
      "text/plain": [
       "'Jetta Variant'"
      ]
     },
     "execution_count": 174,
     "metadata": {},
     "output_type": "execute_result"
    }
   ],
   "source": [
    "nome = 'Jetta Variant'\n",
    "nome"
   ]
  },
  {
   "cell_type": "code",
   "execution_count": 175,
   "metadata": {
    "colab": {
     "base_uri": "https://localhost:8080/",
     "height": 35
    },
    "id": "xF1Bi-Rkltlu",
    "outputId": "61c01917-c79c-4cf7-8903-4c8e15f6be2d"
   },
   "outputs": [
    {
     "data": {
      "text/plain": [
       "'Jetta Variant'"
      ]
     },
     "execution_count": 175,
     "metadata": {},
     "output_type": "execute_result"
    }
   ],
   "source": [
    "nome = \"Jetta Variant\"\n",
    "nome"
   ]
  },
  {
   "cell_type": "code",
   "execution_count": 176,
   "metadata": {
    "colab": {
     "base_uri": "https://localhost:8080/",
     "height": 35
    },
    "id": "QlobSFUtltlw",
    "outputId": "f76a76ce-acf7-4d17-f627-1e570ef8bfa4"
   },
   "outputs": [
    {
     "data": {
      "text/plain": [
       "\"Jetta 'Variant'\""
      ]
     },
     "execution_count": 176,
     "metadata": {},
     "output_type": "execute_result"
    }
   ],
   "source": [
    "nome = \"Jetta 'Variant'\"\n",
    "nome"
   ]
  },
  {
   "cell_type": "code",
   "execution_count": 177,
   "metadata": {
    "colab": {
     "base_uri": "https://localhost:8080/",
     "height": 35
    },
    "id": "8LBWzzfbltly",
    "outputId": "64b3c5d1-b120-4d2f-a5eb-9a5fe1e5253b"
   },
   "outputs": [
    {
     "data": {
      "text/plain": [
       "'\\nnome,\\nidade,\\nNota\\n'"
      ]
     },
     "execution_count": 177,
     "metadata": {},
     "output_type": "execute_result"
    }
   ],
   "source": [
    "carro = '''\n",
    "nome,\n",
    "idade,\n",
    "Nota\n",
    "'''\n",
    "carro"
   ]
  },
  {
   "cell_type": "code",
   "execution_count": 178,
   "metadata": {
    "id": "ycEhoxtUltl0"
   },
   "outputs": [],
   "source": [
    "autosave = True"
   ]
  },
  {
   "cell_type": "code",
   "execution_count": 179,
   "metadata": {
    "id": "bjZQzpuUltl2"
   },
   "outputs": [
    {
     "data": {
      "text/plain": [
       "True"
      ]
     },
     "execution_count": 179,
     "metadata": {},
     "output_type": "execute_result"
    }
   ],
   "source": [
    "autosave"
   ]
  },
  {
   "cell_type": "markdown",
   "metadata": {
    "id": "w6bJU-R9ltl5"
   },
   "source": [
    "### None"
   ]
  },
  {
   "cell_type": "code",
   "execution_count": null,
   "metadata": {
    "id": "RgeVhXGxltl5"
   },
   "outputs": [],
   "source": []
  },
  {
   "cell_type": "code",
   "execution_count": null,
   "metadata": {
    "id": "MJI6PKS6ltl8"
   },
   "outputs": [],
   "source": []
  },
  {
   "cell_type": "markdown",
   "metadata": {
    "id": "_ilupwV-ltl-"
   },
   "source": [
    "# 2.4 Conversão de tipos"
   ]
  },
  {
   "cell_type": "code",
   "execution_count": null,
   "metadata": {
    "id": "D5hq5Qbvltl-"
   },
   "outputs": [],
   "source": []
  },
  {
   "cell_type": "code",
   "execution_count": null,
   "metadata": {
    "id": "aJ0vi8_Nltl_"
   },
   "outputs": [],
   "source": []
  },
  {
   "cell_type": "code",
   "execution_count": null,
   "metadata": {
    "id": "29FVH7p7ltmB"
   },
   "outputs": [],
   "source": []
  },
  {
   "cell_type": "code",
   "execution_count": null,
   "metadata": {
    "id": "NGseTO2SltmC"
   },
   "outputs": [],
   "source": []
  },
  {
   "cell_type": "code",
   "execution_count": null,
   "metadata": {
    "id": "yaSBhwNWltmE"
   },
   "outputs": [],
   "source": []
  },
  {
   "cell_type": "code",
   "execution_count": null,
   "metadata": {
    "id": "5zMXVwLHltmF"
   },
   "outputs": [],
   "source": []
  },
  {
   "cell_type": "code",
   "execution_count": null,
   "metadata": {
    "id": "JJrqKRZFltmJ"
   },
   "outputs": [],
   "source": []
  },
  {
   "cell_type": "code",
   "execution_count": null,
   "metadata": {
    "id": "hWEIttpgltmM"
   },
   "outputs": [],
   "source": []
  },
  {
   "cell_type": "markdown",
   "metadata": {
    "id": "dByigpENltmO"
   },
   "source": [
    "### Conversões de tipo\n",
    "\n",
    "Funções int(), float(), str()"
   ]
  },
  {
   "cell_type": "code",
   "execution_count": null,
   "metadata": {
    "id": "MtecvWlsltmP"
   },
   "outputs": [],
   "source": []
  },
  {
   "cell_type": "code",
   "execution_count": null,
   "metadata": {
    "id": "S1NuIhDVltmS"
   },
   "outputs": [],
   "source": []
  },
  {
   "cell_type": "code",
   "execution_count": null,
   "metadata": {
    "id": "3kCUD1X-ltmT"
   },
   "outputs": [],
   "source": []
  },
  {
   "cell_type": "code",
   "execution_count": null,
   "metadata": {
    "id": "TTjSEVRaltmU"
   },
   "outputs": [],
   "source": []
  },
  {
   "cell_type": "code",
   "execution_count": null,
   "metadata": {
    "id": "P1P1bXaYltmV"
   },
   "outputs": [],
   "source": []
  },
  {
   "cell_type": "code",
   "execution_count": null,
   "metadata": {
    "id": "F_8Cn0aAltmW"
   },
   "outputs": [],
   "source": []
  },
  {
   "cell_type": "code",
   "execution_count": null,
   "metadata": {
    "id": "_KA6MUgmltmY"
   },
   "outputs": [],
   "source": []
  },
  {
   "cell_type": "code",
   "execution_count": null,
   "metadata": {
    "id": "7uiCxqUcltma"
   },
   "outputs": [],
   "source": []
  },
  {
   "cell_type": "markdown",
   "metadata": {
    "id": "gGpflJMYltmd"
   },
   "source": [
    "# 2.5 Indentação, comentários e formatação de *strings*"
   ]
  },
  {
   "cell_type": "markdown",
   "metadata": {
    "id": "XbijUgqVltmw"
   },
   "source": [
    "### Indentação\n",
    "\n",
    "Na linguagem Python os programas são estruturados por meio de indentação. Em qualquer linguagem de programação a prática da indentação é bastante útil, facilitando a leitura e também a manutenção do código. Em Python a indentação não é somente uma questão de organização e estilo, mas sim um requisito da linguagem."
   ]
  },
  {
   "cell_type": "code",
   "execution_count": 180,
   "metadata": {
    "id": "DqXANnyultmw"
   },
   "outputs": [
    {
     "name": "stdout",
     "output_type": "stream",
     "text": [
      "Verdadeiro\n"
     ]
    }
   ],
   "source": [
    "ano_atual = 2019\n",
    "ano_fabricacao = 2019\n",
    "\n",
    "if (ano_atual == ano_fabricacao):\n",
    "    print('Verdadeiro')\n",
    "else:\n",
    "    print('Falso')"
   ]
  },
  {
   "cell_type": "markdown",
   "metadata": {
    "id": "dNBfv7x7ltmy"
   },
   "source": [
    "### Comentários\n",
    "\n",
    "Comentários são extremamente importantes em um programa. Consiste em um texto que descreve o que o programa ou uma parte específica do programa está fazendo. Os comentários são ignorados pelo interpretador Python. \n",
    "\n",
    "Podemos ter comentários de uma única linha ou de múltiplas linhas."
   ]
  },
  {
   "cell_type": "code",
   "execution_count": 181,
   "metadata": {
    "id": "GN3DfwiRltmy"
   },
   "outputs": [
    {
     "data": {
      "text/plain": [
       "2019"
      ]
     },
     "execution_count": 181,
     "metadata": {},
     "output_type": "execute_result"
    }
   ],
   "source": [
    "# Isto é um comentário\n",
    "ano_atual = 2019\n",
    "ano_atual"
   ]
  },
  {
   "cell_type": "code",
   "execution_count": 182,
   "metadata": {
    "id": "PICBiohFltm2"
   },
   "outputs": [
    {
     "data": {
      "text/plain": [
       "2019"
      ]
     },
     "execution_count": 182,
     "metadata": {},
     "output_type": "execute_result"
    }
   ],
   "source": [
    "# Isto\n",
    "# é um \n",
    "# comentário\n",
    "ano_atual = 2019\n",
    "ano_atual"
   ]
  },
  {
   "cell_type": "code",
   "execution_count": 183,
   "metadata": {
    "id": "PTkJ4Vjultm4"
   },
   "outputs": [
    {
     "data": {
      "text/plain": [
       "2019"
      ]
     },
     "execution_count": 183,
     "metadata": {},
     "output_type": "execute_result"
    }
   ],
   "source": [
    "'''Isto é um\n",
    "comentário'''\n",
    "ano_atual = 2019\n",
    "ano_atual"
   ]
  },
  {
   "cell_type": "code",
   "execution_count": 184,
   "metadata": {
    "id": "SYEGdALxltm5"
   },
   "outputs": [
    {
     "name": "stdout",
     "output_type": "stream",
     "text": [
      "Verdadeiro\n"
     ]
    }
   ],
   "source": [
    "# Definindo variáveis\n",
    "ano_atual = 2019\n",
    "ano_fabricacao = 2019\n",
    "\n",
    "'''\n",
    "Estrutura condicional que vamos \n",
    "aprender na próxima aula\n",
    "'''\n",
    "if (ano_atual == ano_fabricacao):   # Testando se condição é verdadeira\n",
    "    print('Verdadeiro')\n",
    "else:                               # Testando se condição é falsa\n",
    "    print('Falso')"
   ]
  },
  {
   "cell_type": "markdown",
   "metadata": {
    "id": "8--bcJ01ltm8"
   },
   "source": [
    "### Formatação de *strings*"
   ]
  },
  {
   "cell_type": "markdown",
   "metadata": {
    "id": "8lSC0XEDltm-"
   },
   "source": [
    "## *str % valor*\n",
    "https://docs.python.org/3.6/library/stdtypes.html#old-string-formatting"
   ]
  },
  {
   "cell_type": "code",
   "execution_count": null,
   "metadata": {
    "id": "aqqBQJ8kltm_"
   },
   "outputs": [],
   "source": []
  },
  {
   "cell_type": "code",
   "execution_count": null,
   "metadata": {
    "id": "EFK1y92vltnA"
   },
   "outputs": [],
   "source": []
  },
  {
   "cell_type": "code",
   "execution_count": null,
   "metadata": {
    "id": "3Y-V_AVDltnD"
   },
   "outputs": [],
   "source": []
  },
  {
   "cell_type": "code",
   "execution_count": null,
   "metadata": {
    "id": "pr4wrDaSltnE"
   },
   "outputs": [],
   "source": []
  },
  {
   "cell_type": "code",
   "execution_count": null,
   "metadata": {
    "id": "iQVGzKNvltnF"
   },
   "outputs": [],
   "source": []
  },
  {
   "cell_type": "markdown",
   "metadata": {
    "id": "CMovhJZ_ltnG"
   },
   "source": [
    "## *str.format()*\n",
    "\n",
    "https://docs.python.org/3.6/library/stdtypes.html#str.format"
   ]
  },
  {
   "cell_type": "code",
   "execution_count": null,
   "metadata": {
    "id": "N12xmMehltnG"
   },
   "outputs": [],
   "source": []
  },
  {
   "cell_type": "code",
   "execution_count": null,
   "metadata": {
    "id": "mRBmU9G1ltnJ"
   },
   "outputs": [],
   "source": []
  },
  {
   "cell_type": "code",
   "execution_count": null,
   "metadata": {
    "id": "wpqEsTwnltnL"
   },
   "outputs": [],
   "source": []
  },
  {
   "cell_type": "markdown",
   "metadata": {
    "id": "V-wPNUN9ltnN"
   },
   "source": [
    "## *f-Strings*\n",
    "\n",
    "https://docs.python.org/3.6/reference/lexical_analysis.html#f-strings"
   ]
  },
  {
   "cell_type": "code",
   "execution_count": null,
   "metadata": {
    "id": "7Fq_WPv0ltnO"
   },
   "outputs": [],
   "source": []
  },
  {
   "cell_type": "code",
   "execution_count": null,
   "metadata": {
    "id": "bE3qbd6WltnR"
   },
   "outputs": [],
   "source": []
  },
  {
   "cell_type": "markdown",
   "metadata": {
    "id": "_IZuNE48ltnS"
   },
   "source": [
    "# <font color=green> 3. TRABALHANDO COM LISTAS\n",
    "---"
   ]
  },
  {
   "cell_type": "markdown",
   "metadata": {
    "id": "zhS89xysltnS"
   },
   "source": [
    "# 3.1 Criando listas\n",
    "\n",
    "Listas são sequências **mutáveis** que são utilizadas para armazenar coleções de itens, geralmente homogêneos. Podem ser construídas de várias formas:\n",
    "```\n",
    "- Utilizando um par de colchetes: [ ], [ 1 ]\n",
    "- Utilizando um par de colchetes com itens separados por vírgulas: [ 1, 2, 3 ]\n",
    "```"
   ]
  },
  {
   "cell_type": "code",
   "execution_count": 185,
   "metadata": {
    "id": "aE4UWF10ltnS"
   },
   "outputs": [
    {
     "data": {
      "text/plain": [
       "['Rodas de liga',\n",
       " 'Travas elétricas',\n",
       " 'Piloto automático',\n",
       " 'Bancos de couro',\n",
       " 'Ar condicionado',\n",
       " 'Sensor de estacionamento',\n",
       " 'Sensor crepuscular',\n",
       " 'Sensor de chuva']"
      ]
     },
     "execution_count": 185,
     "metadata": {},
     "output_type": "execute_result"
    }
   ],
   "source": [
    "Acessorios = ['Rodas de liga', 'Travas elétricas', 'Piloto automático', 'Bancos de couro', 'Ar condicionado', 'Sensor de estacionamento', 'Sensor crepuscular', 'Sensor de chuva']\n",
    "Acessorios"
   ]
  },
  {
   "cell_type": "markdown",
   "metadata": {
    "id": "Mmlkh5TVltnT"
   },
   "source": [
    "### Lista com tipos de dados variados"
   ]
  },
  {
   "cell_type": "code",
   "execution_count": 186,
   "metadata": {
    "id": "Mfpu7NoJltnT"
   },
   "outputs": [],
   "source": [
    "Carro_1 = ['Jetta Variant', 'Motor 4.0 Turbo', 2003, 44410.0, False, ['Rodas de liga', 'Travas elétricas', 'Piloto automático'], 88078.64]\n",
    "Carro_2 = ['Passat', 'Motor Diesel', 1991, 5712.0, False, ['Central multimídia', 'Teto panorâmico', 'Freios ABS'], 106161.94]"
   ]
  },
  {
   "cell_type": "code",
   "execution_count": 187,
   "metadata": {},
   "outputs": [
    {
     "data": {
      "text/plain": [
       "['Jetta Variant',\n",
       " 'Motor 4.0 Turbo',\n",
       " 2003,\n",
       " 44410.0,\n",
       " False,\n",
       " ['Rodas de liga', 'Travas elétricas', 'Piloto automático'],\n",
       " 88078.64]"
      ]
     },
     "execution_count": 187,
     "metadata": {},
     "output_type": "execute_result"
    }
   ],
   "source": [
    "Carro_1"
   ]
  },
  {
   "cell_type": "code",
   "execution_count": 188,
   "metadata": {
    "id": "EJSJFJjKltnV"
   },
   "outputs": [
    {
     "data": {
      "text/plain": [
       "['Passat',\n",
       " 'Motor Diesel',\n",
       " 1991,\n",
       " 5712.0,\n",
       " False,\n",
       " ['Central multimídia', 'Teto panorâmico', 'Freios ABS'],\n",
       " 106161.94]"
      ]
     },
     "execution_count": 188,
     "metadata": {},
     "output_type": "execute_result"
    }
   ],
   "source": [
    "Carro_2"
   ]
  },
  {
   "cell_type": "code",
   "execution_count": 189,
   "metadata": {
    "id": "7MMG7L8VltnX"
   },
   "outputs": [],
   "source": [
    "Carros = [Carro_1, Carro_2]"
   ]
  },
  {
   "cell_type": "code",
   "execution_count": 190,
   "metadata": {},
   "outputs": [
    {
     "data": {
      "text/plain": [
       "[['Jetta Variant',\n",
       "  'Motor 4.0 Turbo',\n",
       "  2003,\n",
       "  44410.0,\n",
       "  False,\n",
       "  ['Rodas de liga', 'Travas elétricas', 'Piloto automático'],\n",
       "  88078.64],\n",
       " ['Passat',\n",
       "  'Motor Diesel',\n",
       "  1991,\n",
       "  5712.0,\n",
       "  False,\n",
       "  ['Central multimídia', 'Teto panorâmico', 'Freios ABS'],\n",
       "  106161.94]]"
      ]
     },
     "execution_count": 190,
     "metadata": {},
     "output_type": "execute_result"
    }
   ],
   "source": [
    "Carros"
   ]
  },
  {
   "cell_type": "code",
   "execution_count": null,
   "metadata": {
    "id": "7E8erLgZltnZ"
   },
   "outputs": [],
   "source": []
  },
  {
   "cell_type": "markdown",
   "metadata": {
    "id": "5yMXJ0xdltna"
   },
   "source": [
    "# 3.2 Operações com listas\n",
    "\n",
    "https://docs.python.org/3.6/library/stdtypes.html#common-sequence-operations"
   ]
  },
  {
   "cell_type": "markdown",
   "metadata": {
    "id": "YSorJOGlltna"
   },
   "source": [
    "## *x in A*\n",
    "\n",
    "Retorna **True** se um elemento da lista *A* for igual a *x*."
   ]
  },
  {
   "cell_type": "code",
   "execution_count": 191,
   "metadata": {
    "id": "GgSP_nlHltnb"
   },
   "outputs": [
    {
     "data": {
      "text/plain": [
       "['Rodas de liga',\n",
       " 'Travas elétricas',\n",
       " 'Piloto automático',\n",
       " 'Bancos de couro',\n",
       " 'Ar condicionado',\n",
       " 'Sensor de estacionamento',\n",
       " 'Sensor crepuscular',\n",
       " 'Sensor de chuva']"
      ]
     },
     "execution_count": 191,
     "metadata": {},
     "output_type": "execute_result"
    }
   ],
   "source": [
    "Acessorios = ['Rodas de liga', 'Travas elétricas', 'Piloto automático', 'Bancos de couro', 'Ar condicionado', 'Sensor de estacionamento', 'Sensor crepuscular', 'Sensor de chuva']\n",
    "Acessorios"
   ]
  },
  {
   "cell_type": "code",
   "execution_count": 192,
   "metadata": {
    "id": "_JyyHPmWltnd"
   },
   "outputs": [
    {
     "data": {
      "text/plain": [
       "['Rodas de liga',\n",
       " 'Travas elétricas',\n",
       " 'Piloto automático',\n",
       " 'Bancos de couro',\n",
       " 'Ar condicionado',\n",
       " 'Sensor de estacionamento',\n",
       " 'Sensor crepuscular',\n",
       " 'Sensor de chuva']"
      ]
     },
     "execution_count": 192,
     "metadata": {},
     "output_type": "execute_result"
    }
   ],
   "source": [
    "Acessorios"
   ]
  },
  {
   "cell_type": "code",
   "execution_count": 193,
   "metadata": {
    "id": "tebg9gAyltne"
   },
   "outputs": [
    {
     "data": {
      "text/plain": [
       "True"
      ]
     },
     "execution_count": 193,
     "metadata": {},
     "output_type": "execute_result"
    }
   ],
   "source": [
    "'Rodas de liga' in Acessorios"
   ]
  },
  {
   "cell_type": "code",
   "execution_count": 194,
   "metadata": {
    "id": "W_1PKJYsltnf"
   },
   "outputs": [
    {
     "data": {
      "text/plain": [
       "False"
      ]
     },
     "execution_count": 194,
     "metadata": {},
     "output_type": "execute_result"
    }
   ],
   "source": [
    "'Rodas de liga' not in Acessorios"
   ]
  },
  {
   "cell_type": "markdown",
   "metadata": {
    "id": "RF6_rf90ltnh"
   },
   "source": [
    "## *A + B*\n",
    "\n",
    "Concatena as listas *A* e *B*."
   ]
  },
  {
   "cell_type": "code",
   "execution_count": 195,
   "metadata": {
    "id": "8lnzbYnRltnh"
   },
   "outputs": [],
   "source": [
    "A = ['Rodas de liga', 'Travas elétricas', 'Piloto automático', 'Bancos de couro']\n",
    "B = ['Ar condicionado', 'Sensor de estacionamento', 'Sensor crepuscular', 'Sensor de chuva']"
   ]
  },
  {
   "cell_type": "code",
   "execution_count": 196,
   "metadata": {
    "id": "SzbiHHF4ltni"
   },
   "outputs": [
    {
     "data": {
      "text/plain": [
       "['Rodas de liga', 'Travas elétricas', 'Piloto automático', 'Bancos de couro']"
      ]
     },
     "execution_count": 196,
     "metadata": {},
     "output_type": "execute_result"
    }
   ],
   "source": [
    "A"
   ]
  },
  {
   "cell_type": "code",
   "execution_count": 197,
   "metadata": {
    "id": "It5Cn5aXltni"
   },
   "outputs": [
    {
     "data": {
      "text/plain": [
       "['Ar condicionado',\n",
       " 'Sensor de estacionamento',\n",
       " 'Sensor crepuscular',\n",
       " 'Sensor de chuva']"
      ]
     },
     "execution_count": 197,
     "metadata": {},
     "output_type": "execute_result"
    }
   ],
   "source": [
    "B"
   ]
  },
  {
   "cell_type": "code",
   "execution_count": 198,
   "metadata": {
    "id": "l7gF4Ph5ltnj"
   },
   "outputs": [
    {
     "data": {
      "text/plain": [
       "['Rodas de liga',\n",
       " 'Travas elétricas',\n",
       " 'Piloto automático',\n",
       " 'Bancos de couro',\n",
       " 'Ar condicionado',\n",
       " 'Sensor de estacionamento',\n",
       " 'Sensor crepuscular',\n",
       " 'Sensor de chuva']"
      ]
     },
     "execution_count": 198,
     "metadata": {},
     "output_type": "execute_result"
    }
   ],
   "source": [
    "A + B"
   ]
  },
  {
   "cell_type": "markdown",
   "metadata": {
    "id": "iTv5t7zAltnk"
   },
   "source": [
    "## *len(A)*\n",
    "\n",
    "Tamanho da lista A."
   ]
  },
  {
   "cell_type": "code",
   "execution_count": 199,
   "metadata": {
    "id": "dtbuCDSOltnk"
   },
   "outputs": [
    {
     "data": {
      "text/plain": [
       "8"
      ]
     },
     "execution_count": 199,
     "metadata": {},
     "output_type": "execute_result"
    }
   ],
   "source": [
    "len(Acessorios)"
   ]
  },
  {
   "cell_type": "markdown",
   "metadata": {
    "id": "k7wWCbAmltnl"
   },
   "source": [
    "# 3.3 Seleções em listas"
   ]
  },
  {
   "cell_type": "markdown",
   "metadata": {
    "id": "uF3NmgUaltnl"
   },
   "source": [
    "## *A[ i ]*\n",
    "\n",
    "Retorna o i-ésimo item da lista *A*.\n",
    "\n",
    "<font color=red>**Observação:**</font> Listas têm indexação com origem no zero."
   ]
  },
  {
   "cell_type": "code",
   "execution_count": 200,
   "metadata": {
    "id": "f5ct7w1Wltnm"
   },
   "outputs": [
    {
     "data": {
      "text/plain": [
       "['Rodas de liga',\n",
       " 'Travas elétricas',\n",
       " 'Piloto automático',\n",
       " 'Bancos de couro',\n",
       " 'Ar condicionado',\n",
       " 'Sensor de estacionamento',\n",
       " 'Sensor crepuscular',\n",
       " 'Sensor de chuva']"
      ]
     },
     "execution_count": 200,
     "metadata": {},
     "output_type": "execute_result"
    }
   ],
   "source": [
    "Acessorios"
   ]
  },
  {
   "cell_type": "code",
   "execution_count": 201,
   "metadata": {
    "id": "-BLG7yifltnn"
   },
   "outputs": [
    {
     "data": {
      "text/plain": [
       "'Rodas de liga'"
      ]
     },
     "execution_count": 201,
     "metadata": {},
     "output_type": "execute_result"
    }
   ],
   "source": [
    "Acessorios[0]"
   ]
  },
  {
   "cell_type": "code",
   "execution_count": 202,
   "metadata": {
    "id": "SoL6PIjJltno"
   },
   "outputs": [
    {
     "data": {
      "text/plain": [
       "'Travas elétricas'"
      ]
     },
     "execution_count": 202,
     "metadata": {},
     "output_type": "execute_result"
    }
   ],
   "source": [
    "Acessorios[1]"
   ]
  },
  {
   "cell_type": "code",
   "execution_count": 203,
   "metadata": {
    "id": "pGMDc5FLltnq"
   },
   "outputs": [
    {
     "data": {
      "text/plain": [
       "'Piloto automático'"
      ]
     },
     "execution_count": 203,
     "metadata": {},
     "output_type": "execute_result"
    }
   ],
   "source": [
    "Acessorios[2]"
   ]
  },
  {
   "cell_type": "code",
   "execution_count": 204,
   "metadata": {
    "id": "m3AaFe73ltnr"
   },
   "outputs": [
    {
     "data": {
      "text/plain": [
       "'Sensor de estacionamento'"
      ]
     },
     "execution_count": 204,
     "metadata": {},
     "output_type": "execute_result"
    }
   ],
   "source": [
    "Acessorios[-3]"
   ]
  },
  {
   "cell_type": "code",
   "execution_count": 205,
   "metadata": {
    "id": "AeDJviqoltns"
   },
   "outputs": [
    {
     "data": {
      "text/plain": [
       "['Passat',\n",
       " 'Motor Diesel',\n",
       " 1991,\n",
       " 5712.0,\n",
       " False,\n",
       " ['Central multimídia', 'Teto panorâmico', 'Freios ABS'],\n",
       " 106161.94]"
      ]
     },
     "execution_count": 205,
     "metadata": {},
     "output_type": "execute_result"
    }
   ],
   "source": [
    "Carros[1]"
   ]
  },
  {
   "cell_type": "code",
   "execution_count": 206,
   "metadata": {},
   "outputs": [
    {
     "data": {
      "text/plain": [
       "1991"
      ]
     },
     "execution_count": 206,
     "metadata": {},
     "output_type": "execute_result"
    }
   ],
   "source": [
    "Carros[1][2]"
   ]
  },
  {
   "cell_type": "code",
   "execution_count": 207,
   "metadata": {
    "id": "KdenG1BZltnt"
   },
   "outputs": [
    {
     "data": {
      "text/plain": [
       "['Central multimídia', 'Teto panorâmico', 'Freios ABS']"
      ]
     },
     "execution_count": 207,
     "metadata": {},
     "output_type": "execute_result"
    }
   ],
   "source": [
    "Carros[1][-2]"
   ]
  },
  {
   "cell_type": "code",
   "execution_count": 208,
   "metadata": {
    "id": "iOjsfrlFltnu"
   },
   "outputs": [
    {
     "data": {
      "text/plain": [
       "'Freios ABS'"
      ]
     },
     "execution_count": 208,
     "metadata": {},
     "output_type": "execute_result"
    }
   ],
   "source": [
    "Carros[1][-2][2]"
   ]
  },
  {
   "cell_type": "code",
   "execution_count": null,
   "metadata": {
    "id": "6BrON70Zltnu"
   },
   "outputs": [],
   "source": []
  },
  {
   "cell_type": "markdown",
   "metadata": {
    "id": "9WgwxPIMltnv"
   },
   "source": [
    "## *A[ i : j ]*\n",
    "\n",
    "Recorta a lista *A* do índice i até o j. Neste fatiamento o elemento com índice i é **incluído** e o elemento com índice j **não é incluído** no resultado."
   ]
  },
  {
   "cell_type": "code",
   "execution_count": 209,
   "metadata": {
    "id": "bJzL2PMiltnv"
   },
   "outputs": [
    {
     "data": {
      "text/plain": [
       "['Rodas de liga',\n",
       " 'Travas elétricas',\n",
       " 'Piloto automático',\n",
       " 'Bancos de couro',\n",
       " 'Ar condicionado',\n",
       " 'Sensor de estacionamento',\n",
       " 'Sensor crepuscular',\n",
       " 'Sensor de chuva']"
      ]
     },
     "execution_count": 209,
     "metadata": {},
     "output_type": "execute_result"
    }
   ],
   "source": [
    "Acessorios"
   ]
  },
  {
   "cell_type": "code",
   "execution_count": 210,
   "metadata": {
    "id": "sFAlJ4u_ltnw"
   },
   "outputs": [
    {
     "data": {
      "text/plain": [
       "['Piloto automático', 'Bancos de couro', 'Ar condicionado']"
      ]
     },
     "execution_count": 210,
     "metadata": {},
     "output_type": "execute_result"
    }
   ],
   "source": [
    "Acessorios[2:5]"
   ]
  },
  {
   "cell_type": "code",
   "execution_count": 211,
   "metadata": {
    "id": "dFdTBWa9ltnz"
   },
   "outputs": [
    {
     "data": {
      "text/plain": [
       "['Rodas de liga',\n",
       " 'Travas elétricas',\n",
       " 'Piloto automático',\n",
       " 'Bancos de couro',\n",
       " 'Ar condicionado']"
      ]
     },
     "execution_count": 211,
     "metadata": {},
     "output_type": "execute_result"
    }
   ],
   "source": [
    "Acessorios[:5]"
   ]
  },
  {
   "cell_type": "code",
   "execution_count": null,
   "metadata": {
    "id": "yxxB2-_Dltn0"
   },
   "outputs": [],
   "source": []
  },
  {
   "cell_type": "markdown",
   "metadata": {
    "id": "R-S-LCPGltn0"
   },
   "source": [
    "# 3.4 Métodos de listas\n",
    "\n",
    "https://docs.python.org/3.6/library/stdtypes.html#mutable-sequence-types"
   ]
  },
  {
   "cell_type": "markdown",
   "metadata": {
    "id": "j9s2OyyPltn1"
   },
   "source": [
    "## *A.sort()*\n",
    "\n",
    "Ordena a lista *A*."
   ]
  },
  {
   "cell_type": "code",
   "execution_count": 212,
   "metadata": {
    "id": "A2dJGhFsltn1"
   },
   "outputs": [
    {
     "data": {
      "text/plain": [
       "['Rodas de liga',\n",
       " 'Travas elétricas',\n",
       " 'Piloto automático',\n",
       " 'Bancos de couro',\n",
       " 'Ar condicionado',\n",
       " 'Sensor de estacionamento',\n",
       " 'Sensor crepuscular',\n",
       " 'Sensor de chuva']"
      ]
     },
     "execution_count": 212,
     "metadata": {},
     "output_type": "execute_result"
    }
   ],
   "source": [
    "Acessorios"
   ]
  },
  {
   "cell_type": "code",
   "execution_count": 213,
   "metadata": {
    "id": "VDWCHlTcltn2"
   },
   "outputs": [
    {
     "data": {
      "text/plain": [
       "['Ar condicionado',\n",
       " 'Bancos de couro',\n",
       " 'Piloto automático',\n",
       " 'Rodas de liga',\n",
       " 'Sensor crepuscular',\n",
       " 'Sensor de chuva',\n",
       " 'Sensor de estacionamento',\n",
       " 'Travas elétricas']"
      ]
     },
     "execution_count": 213,
     "metadata": {},
     "output_type": "execute_result"
    }
   ],
   "source": [
    "Acessorios.sort()\n",
    "Acessorios"
   ]
  },
  {
   "cell_type": "markdown",
   "metadata": {
    "id": "N9Spp7-xltn3"
   },
   "source": [
    "## *A.append(x)*\n",
    "\n",
    "Adiciona o elemnto *x* no final da lista *A*."
   ]
  },
  {
   "cell_type": "code",
   "execution_count": 214,
   "metadata": {
    "id": "l7I_U-sRltn4"
   },
   "outputs": [
    {
     "data": {
      "text/plain": [
       "['Ar condicionado',\n",
       " 'Bancos de couro',\n",
       " 'Piloto automático',\n",
       " 'Rodas de liga',\n",
       " 'Sensor crepuscular',\n",
       " 'Sensor de chuva',\n",
       " 'Sensor de estacionamento',\n",
       " 'Travas elétricas',\n",
       " '4x4']"
      ]
     },
     "execution_count": 214,
     "metadata": {},
     "output_type": "execute_result"
    }
   ],
   "source": [
    "Acessorios.append('4x4')\n",
    "Acessorios"
   ]
  },
  {
   "cell_type": "markdown",
   "metadata": {
    "id": "eiP3oACPltn6"
   },
   "source": [
    "## *A.pop(i)*\n",
    "\n",
    "Remove e retorna o elemento de índice i da lista *A*.\n",
    "\n",
    "<font color=red>**Observação:**</font> Por *default* o método *pop()* remove e retorna o último elemento de uma lista."
   ]
  },
  {
   "cell_type": "code",
   "execution_count": 215,
   "metadata": {
    "id": "BoCKa5Hqltn6"
   },
   "outputs": [
    {
     "data": {
      "text/plain": [
       "['Ar condicionado',\n",
       " 'Bancos de couro',\n",
       " 'Piloto automático',\n",
       " 'Rodas de liga',\n",
       " 'Sensor crepuscular',\n",
       " 'Sensor de chuva',\n",
       " 'Sensor de estacionamento',\n",
       " 'Travas elétricas']"
      ]
     },
     "execution_count": 215,
     "metadata": {},
     "output_type": "execute_result"
    }
   ],
   "source": [
    "Acessorios.pop()\n",
    "Acessorios"
   ]
  },
  {
   "cell_type": "code",
   "execution_count": 216,
   "metadata": {
    "id": "GfGX1jw-ltn9"
   },
   "outputs": [
    {
     "data": {
      "text/plain": [
       "'Rodas de liga'"
      ]
     },
     "execution_count": 216,
     "metadata": {},
     "output_type": "execute_result"
    }
   ],
   "source": [
    "Acessorios.pop(3)"
   ]
  },
  {
   "cell_type": "code",
   "execution_count": 217,
   "metadata": {
    "id": "tppe9tqbltn-"
   },
   "outputs": [
    {
     "data": {
      "text/plain": [
       "'Travas elétricas'"
      ]
     },
     "execution_count": 217,
     "metadata": {},
     "output_type": "execute_result"
    }
   ],
   "source": [
    "Acessorios.pop()"
   ]
  },
  {
   "cell_type": "markdown",
   "metadata": {
    "id": "NySIp62hltoC"
   },
   "source": [
    "## *A.copy()*\n",
    "\n",
    "Cria uma cópia da lista *A*.\n",
    "\n",
    "<font color=red>**Observação:**</font> O mesmo resultado pode ser obtido com o seguinte código: \n",
    "```\n",
    "A[:]\n",
    "```"
   ]
  },
  {
   "cell_type": "code",
   "execution_count": 218,
   "metadata": {
    "id": "yP9ODygcltoC"
   },
   "outputs": [
    {
     "data": {
      "text/plain": [
       "['Ar condicionado',\n",
       " 'Bancos de couro',\n",
       " 'Piloto automático',\n",
       " 'Sensor crepuscular',\n",
       " 'Sensor de chuva',\n",
       " 'Sensor de estacionamento']"
      ]
     },
     "execution_count": 218,
     "metadata": {},
     "output_type": "execute_result"
    }
   ],
   "source": [
    "Acessorios_2 = Acessorios\n",
    "Acessorios_2"
   ]
  },
  {
   "cell_type": "code",
   "execution_count": 219,
   "metadata": {
    "id": "W3eQdVWkltoF"
   },
   "outputs": [
    {
     "data": {
      "text/plain": [
       "['Ar condicionado',\n",
       " 'Bancos de couro',\n",
       " 'Piloto automático',\n",
       " 'Sensor crepuscular',\n",
       " 'Sensor de chuva',\n",
       " 'Sensor de estacionamento',\n",
       " '4 x 4']"
      ]
     },
     "execution_count": 219,
     "metadata": {},
     "output_type": "execute_result"
    }
   ],
   "source": [
    "Acessorios_2.append('4 x 4')\n",
    "Acessorios_2"
   ]
  },
  {
   "cell_type": "code",
   "execution_count": 220,
   "metadata": {
    "id": "OVbvjjmdltoG"
   },
   "outputs": [],
   "source": [
    "Acessorios_2 = Acessorios.copy()"
   ]
  },
  {
   "cell_type": "code",
   "execution_count": 221,
   "metadata": {},
   "outputs": [
    {
     "data": {
      "text/plain": [
       "'4 x 4'"
      ]
     },
     "execution_count": 221,
     "metadata": {},
     "output_type": "execute_result"
    }
   ],
   "source": [
    "Acessorios_2.pop()"
   ]
  },
  {
   "cell_type": "code",
   "execution_count": 222,
   "metadata": {
    "id": "P-MN1JfAltoH"
   },
   "outputs": [
    {
     "data": {
      "text/plain": [
       "['Ar condicionado',\n",
       " 'Bancos de couro',\n",
       " 'Piloto automático',\n",
       " 'Sensor crepuscular',\n",
       " 'Sensor de chuva',\n",
       " 'Sensor de estacionamento']"
      ]
     },
     "execution_count": 222,
     "metadata": {},
     "output_type": "execute_result"
    }
   ],
   "source": [
    "Acessorios_2"
   ]
  },
  {
   "cell_type": "code",
   "execution_count": 223,
   "metadata": {
    "id": "ZVQ38eqVltoJ"
   },
   "outputs": [
    {
     "data": {
      "text/plain": [
       "['Ar condicionado',\n",
       " 'Bancos de couro',\n",
       " 'Piloto automático',\n",
       " 'Sensor crepuscular',\n",
       " 'Sensor de chuva',\n",
       " 'Sensor de estacionamento',\n",
       " '4 x 4']"
      ]
     },
     "execution_count": 223,
     "metadata": {},
     "output_type": "execute_result"
    }
   ],
   "source": [
    "Acessorios"
   ]
  },
  {
   "cell_type": "markdown",
   "metadata": {
    "id": "8zMZNsg2ltoU"
   },
   "source": [
    "# <font color=green> 4. ESTRUTURAS DE REPETIÇÃO E CONDICIONAIS\n",
    "---"
   ]
  },
  {
   "cell_type": "markdown",
   "metadata": {
    "id": "gxUmCLyJltoU"
   },
   "source": [
    "# 4.1 Instrução *for*\n",
    "\n",
    "#### Formato padrão\n",
    "\n",
    "```\n",
    "for <variável> in <coleção>:\n",
    "    <instruções>\n",
    "```"
   ]
  },
  {
   "cell_type": "markdown",
   "metadata": {
    "id": "Irl5oa0altoU"
   },
   "source": [
    "### Loops com listas"
   ]
  },
  {
   "cell_type": "code",
   "execution_count": 224,
   "metadata": {
    "id": "E1LZ5n25ltoV"
   },
   "outputs": [
    {
     "data": {
      "text/plain": [
       "['Ar condicionado',\n",
       " 'Bancos de couro',\n",
       " 'Piloto automático',\n",
       " 'Sensor crepuscular',\n",
       " 'Sensor de chuva',\n",
       " 'Sensor de estacionamento',\n",
       " '4 x 4']"
      ]
     },
     "execution_count": 224,
     "metadata": {},
     "output_type": "execute_result"
    }
   ],
   "source": [
    "Acessorios\n"
   ]
  },
  {
   "cell_type": "code",
   "execution_count": 225,
   "metadata": {
    "id": "Z459QqsFltoY"
   },
   "outputs": [
    {
     "name": "stdout",
     "output_type": "stream",
     "text": [
      "Ar condicionado\n",
      "Bancos de couro\n",
      "Piloto automático\n",
      "Sensor crepuscular\n",
      "Sensor de chuva\n",
      "Sensor de estacionamento\n",
      "4 x 4\n"
     ]
    }
   ],
   "source": [
    "for i in Acessorios:\n",
    "    print(i)"
   ]
  },
  {
   "cell_type": "markdown",
   "metadata": {
    "id": "Gbztj9T4ltoZ"
   },
   "source": [
    "###  List comprehensions\n",
    "\n",
    "https://docs.python.org/3.6/tutorial/datastructures.html#list-comprehensions"
   ]
  },
  {
   "cell_type": "markdown",
   "metadata": {
    "id": "4Y8g0cSHjbof"
   },
   "source": [
    "*range()* -> https://docs.python.org/3.6/library/functions.html#func-range"
   ]
  },
  {
   "cell_type": "code",
   "execution_count": 226,
   "metadata": {
    "id": "xDo9TLdYltoZ"
   },
   "outputs": [
    {
     "data": {
      "text/plain": [
       "range(0, 10)"
      ]
     },
     "execution_count": 226,
     "metadata": {},
     "output_type": "execute_result"
    }
   ],
   "source": [
    "range(10)"
   ]
  },
  {
   "cell_type": "code",
   "execution_count": 227,
   "metadata": {
    "id": "V12p_CQBltoc"
   },
   "outputs": [
    {
     "data": {
      "text/plain": [
       "[0, 1, 2, 3, 4, 5, 6, 7, 8, 9]"
      ]
     },
     "execution_count": 227,
     "metadata": {},
     "output_type": "execute_result"
    }
   ],
   "source": [
    "list(range(10))"
   ]
  },
  {
   "cell_type": "code",
   "execution_count": 228,
   "metadata": {
    "id": "OOzHHRWHltof"
   },
   "outputs": [
    {
     "name": "stdout",
     "output_type": "stream",
     "text": [
      "0\n",
      "1\n",
      "4\n",
      "9\n",
      "16\n",
      "25\n",
      "36\n",
      "49\n",
      "64\n",
      "81\n"
     ]
    }
   ],
   "source": [
    "for i in range(10):\n",
    "    print(i ** 2)"
   ]
  },
  {
   "cell_type": "code",
   "execution_count": 229,
   "metadata": {
    "id": "TKynwnxgltog"
   },
   "outputs": [
    {
     "data": {
      "text/plain": [
       "[0, 1, 4, 9, 16, 25, 36, 49, 64, 81]"
      ]
     },
     "execution_count": 229,
     "metadata": {},
     "output_type": "execute_result"
    }
   ],
   "source": [
    "quadrado = []\n",
    "for i in range(10):\n",
    "    quadrado.append(i ** 2)\n",
    "quadrado\n"
   ]
  },
  {
   "cell_type": "code",
   "execution_count": 230,
   "metadata": {
    "id": "d77YH_dVltoh"
   },
   "outputs": [
    {
     "data": {
      "text/plain": [
       "[0, 1, 4, 9, 16, 25, 36, 49, 64, 81]"
      ]
     },
     "execution_count": 230,
     "metadata": {},
     "output_type": "execute_result"
    }
   ],
   "source": [
    "[i ** 2 for i in range(10)]"
   ]
  },
  {
   "cell_type": "code",
   "execution_count": null,
   "metadata": {
    "id": "3OmElLO2ltoi"
   },
   "outputs": [],
   "source": []
  },
  {
   "cell_type": "code",
   "execution_count": null,
   "metadata": {
    "id": "HKUkvcDkltok"
   },
   "outputs": [],
   "source": []
  },
  {
   "cell_type": "markdown",
   "metadata": {
    "id": "AcAcaKFXltom"
   },
   "source": [
    "# 4.2 Loops aninhados"
   ]
  },
  {
   "cell_type": "code",
   "execution_count": 231,
   "metadata": {
    "id": "mjgJCo3dlton"
   },
   "outputs": [
    {
     "data": {
      "text/plain": [
       "[['Rodas de liga',\n",
       "  'Travas elétricas',\n",
       "  'Piloto automático',\n",
       "  'Bancos de couro',\n",
       "  'Ar condicionado',\n",
       "  'Sensor de estacionamento',\n",
       "  'Sensor crepuscular',\n",
       "  'Sensor de chuva'],\n",
       " ['Central multimídia',\n",
       "  'Teto panorâmico',\n",
       "  'Freios ABS',\n",
       "  '4 X 4',\n",
       "  'Painel digital',\n",
       "  'Piloto automático',\n",
       "  'Bancos de couro',\n",
       "  'Câmera de estacionamento'],\n",
       " ['Piloto automático',\n",
       "  'Controle de estabilidade',\n",
       "  'Sensor crepuscular',\n",
       "  'Freios ABS',\n",
       "  'Câmbio automático',\n",
       "  'Bancos de couro',\n",
       "  'Central multimídia',\n",
       "  'Vidros elétricos']]"
      ]
     },
     "execution_count": 231,
     "metadata": {},
     "output_type": "execute_result"
    }
   ],
   "source": [
    "dados = [ \n",
    "    ['Rodas de liga', 'Travas elétricas', 'Piloto automático', 'Bancos de couro', 'Ar condicionado', 'Sensor de estacionamento', 'Sensor crepuscular', 'Sensor de chuva'],\n",
    "    ['Central multimídia', 'Teto panorâmico', 'Freios ABS', '4 X 4', 'Painel digital', 'Piloto automático', 'Bancos de couro', 'Câmera de estacionamento'],\n",
    "    ['Piloto automático', 'Controle de estabilidade', 'Sensor crepuscular', 'Freios ABS', 'Câmbio automático', 'Bancos de couro', 'Central multimídia', 'Vidros elétricos']\n",
    "]\n",
    "dados"
   ]
  },
  {
   "cell_type": "code",
   "execution_count": 232,
   "metadata": {
    "id": "pLgxwApVltop"
   },
   "outputs": [
    {
     "name": "stdout",
     "output_type": "stream",
     "text": [
      "['Rodas de liga', 'Travas elétricas', 'Piloto automático', 'Bancos de couro', 'Ar condicionado', 'Sensor de estacionamento', 'Sensor crepuscular', 'Sensor de chuva']\n",
      "['Central multimídia', 'Teto panorâmico', 'Freios ABS', '4 X 4', 'Painel digital', 'Piloto automático', 'Bancos de couro', 'Câmera de estacionamento']\n",
      "['Piloto automático', 'Controle de estabilidade', 'Sensor crepuscular', 'Freios ABS', 'Câmbio automático', 'Bancos de couro', 'Central multimídia', 'Vidros elétricos']\n"
     ]
    }
   ],
   "source": [
    "for lista in dados:\n",
    "    print(lista)"
   ]
  },
  {
   "cell_type": "code",
   "execution_count": 233,
   "metadata": {
    "id": "OYnDRvcYltor"
   },
   "outputs": [
    {
     "name": "stdout",
     "output_type": "stream",
     "text": [
      "Rodas de liga\n",
      "Travas elétricas\n",
      "Piloto automático\n",
      "Bancos de couro\n",
      "Ar condicionado\n",
      "Sensor de estacionamento\n",
      "Sensor crepuscular\n",
      "Sensor de chuva\n",
      "Central multimídia\n",
      "Teto panorâmico\n",
      "Freios ABS\n",
      "4 X 4\n",
      "Painel digital\n",
      "Piloto automático\n",
      "Bancos de couro\n",
      "Câmera de estacionamento\n",
      "Piloto automático\n",
      "Controle de estabilidade\n",
      "Sensor crepuscular\n",
      "Freios ABS\n",
      "Câmbio automático\n",
      "Bancos de couro\n",
      "Central multimídia\n",
      "Vidros elétricos\n"
     ]
    }
   ],
   "source": [
    "for lista in dados:\n",
    "    for item in lista:\n",
    "        print(item)"
   ]
  },
  {
   "cell_type": "code",
   "execution_count": 234,
   "metadata": {
    "id": "DbJa5_cJltos"
   },
   "outputs": [
    {
     "data": {
      "text/plain": [
       "['Rodas de liga',\n",
       " 'Travas elétricas',\n",
       " 'Piloto automático',\n",
       " 'Bancos de couro',\n",
       " 'Ar condicionado',\n",
       " 'Sensor de estacionamento',\n",
       " 'Sensor crepuscular',\n",
       " 'Sensor de chuva',\n",
       " 'Central multimídia',\n",
       " 'Teto panorâmico',\n",
       " 'Freios ABS',\n",
       " '4 X 4',\n",
       " 'Painel digital',\n",
       " 'Piloto automático',\n",
       " 'Bancos de couro',\n",
       " 'Câmera de estacionamento',\n",
       " 'Piloto automático',\n",
       " 'Controle de estabilidade',\n",
       " 'Sensor crepuscular',\n",
       " 'Freios ABS',\n",
       " 'Câmbio automático',\n",
       " 'Bancos de couro',\n",
       " 'Central multimídia',\n",
       " 'Vidros elétricos']"
      ]
     },
     "execution_count": 234,
     "metadata": {},
     "output_type": "execute_result"
    }
   ],
   "source": [
    "Acessorios = []\n",
    "\n",
    "for lista in dados:\n",
    "    for item in lista:\n",
    "        Acessorios.append(item)\n",
    "        \n",
    "Acessorios"
   ]
  },
  {
   "cell_type": "markdown",
   "metadata": {
    "id": "RrGAOy1rn1Dj"
   },
   "source": [
    "## *set()*\n",
    "\n",
    "https://docs.python.org/3.6/library/stdtypes.html#types-set\n",
    "\n",
    "https://docs.python.org/3.6/library/functions.html#func-set"
   ]
  },
  {
   "cell_type": "code",
   "execution_count": 235,
   "metadata": {
    "id": "CuB-9ClSltos"
   },
   "outputs": [
    {
     "data": {
      "text/plain": [
       "['Teto panorâmico',\n",
       " 'Sensor de estacionamento',\n",
       " 'Bancos de couro',\n",
       " 'Câmbio automático',\n",
       " 'Freios ABS',\n",
       " 'Câmera de estacionamento',\n",
       " 'Travas elétricas',\n",
       " 'Controle de estabilidade',\n",
       " 'Ar condicionado',\n",
       " 'Piloto automático',\n",
       " 'Central multimídia',\n",
       " 'Painel digital',\n",
       " 'Vidros elétricos',\n",
       " '4 X 4',\n",
       " 'Sensor de chuva',\n",
       " 'Rodas de liga',\n",
       " 'Sensor crepuscular']"
      ]
     },
     "execution_count": 235,
     "metadata": {},
     "output_type": "execute_result"
    }
   ],
   "source": [
    "list(set(Acessorios))"
   ]
  },
  {
   "cell_type": "markdown",
   "metadata": {
    "id": "9hHKKABhltot"
   },
   "source": [
    "### List comprehensions"
   ]
  },
  {
   "cell_type": "code",
   "execution_count": 236,
   "metadata": {
    "id": "T6t79LTlltot"
   },
   "outputs": [
    {
     "data": {
      "text/plain": [
       "['Rodas de liga',\n",
       " 'Travas elétricas',\n",
       " 'Piloto automático',\n",
       " 'Bancos de couro',\n",
       " 'Ar condicionado',\n",
       " 'Sensor de estacionamento',\n",
       " 'Sensor crepuscular',\n",
       " 'Sensor de chuva',\n",
       " 'Central multimídia',\n",
       " 'Teto panorâmico',\n",
       " 'Freios ABS',\n",
       " '4 X 4',\n",
       " 'Painel digital',\n",
       " 'Piloto automático',\n",
       " 'Bancos de couro',\n",
       " 'Câmera de estacionamento',\n",
       " 'Piloto automático',\n",
       " 'Controle de estabilidade',\n",
       " 'Sensor crepuscular',\n",
       " 'Freios ABS',\n",
       " 'Câmbio automático',\n",
       " 'Bancos de couro',\n",
       " 'Central multimídia',\n",
       " 'Vidros elétricos']"
      ]
     },
     "execution_count": 236,
     "metadata": {},
     "output_type": "execute_result"
    }
   ],
   "source": [
    "[item for lista in dados for item in lista]"
   ]
  },
  {
   "cell_type": "code",
   "execution_count": 237,
   "metadata": {},
   "outputs": [
    {
     "data": {
      "text/plain": [
       "['Teto panorâmico',\n",
       " 'Sensor de estacionamento',\n",
       " 'Bancos de couro',\n",
       " 'Câmbio automático',\n",
       " 'Freios ABS',\n",
       " 'Câmera de estacionamento',\n",
       " 'Travas elétricas',\n",
       " 'Controle de estabilidade',\n",
       " 'Ar condicionado',\n",
       " 'Piloto automático',\n",
       " 'Central multimídia',\n",
       " 'Painel digital',\n",
       " 'Vidros elétricos',\n",
       " '4 X 4',\n",
       " 'Sensor de chuva',\n",
       " 'Rodas de liga',\n",
       " 'Sensor crepuscular']"
      ]
     },
     "execution_count": 237,
     "metadata": {},
     "output_type": "execute_result"
    }
   ],
   "source": [
    "list(set([item for lista in dados for item in lista]))"
   ]
  },
  {
   "cell_type": "markdown",
   "metadata": {
    "id": "cJ4fPdj5ltou"
   },
   "source": [
    "# 4.3 Instrução *if*\n",
    "\n",
    "#### Formato padrão\n",
    "\n",
    "```\n",
    "if <condição>:\n",
    "     <instruções caso a condição seja verdadeira>\n",
    "```"
   ]
  },
  {
   "cell_type": "markdown",
   "metadata": {
    "id": "bqOYDJiWltou"
   },
   "source": [
    "### Operadores de comparação: $==$, $!=$, $>$, $<$, $>=$, $<=$\n",
    "### e\n",
    "### Operadores lógicos: $and$, $or$, $not$"
   ]
  },
  {
   "cell_type": "code",
   "execution_count": 238,
   "metadata": {
    "id": "5eY_XPmrltov"
   },
   "outputs": [
    {
     "data": {
      "text/plain": [
       "[['Jetta Variant', 2003, False],\n",
       " ['Passat', 1991, False],\n",
       " ['Crossfox', 1990, False],\n",
       " ['DS5', 2019, True],\n",
       " ['Aston Martin DB4', 2006, False],\n",
       " ['Palio Weekend', 2012, False],\n",
       " ['A5', 2019, True],\n",
       " ['Série 3 Cabrio', 2009, False],\n",
       " ['Dodge Jorney', 2019, False],\n",
       " ['Carens', 2011, False]]"
      ]
     },
     "execution_count": 238,
     "metadata": {},
     "output_type": "execute_result"
    }
   ],
   "source": [
    "# 1º item da lista - Nome do veículo\n",
    "# 2º item da lista - Ano de fabricação\n",
    "# 3º item da lista - Veículo é zero km?\n",
    "\n",
    "dados = [\n",
    "    ['Jetta Variant', 2003, False],\n",
    "    ['Passat', 1991, False],\n",
    "    ['Crossfox', 1990, False],\n",
    "    ['DS5', 2019, True],\n",
    "    ['Aston Martin DB4', 2006, False],\n",
    "    ['Palio Weekend', 2012, False],\n",
    "    ['A5', 2019, True],\n",
    "    ['Série 3 Cabrio', 2009, False],\n",
    "    ['Dodge Jorney', 2019, False],\n",
    "    ['Carens', 2011, False]\n",
    "]\n",
    "dados"
   ]
  },
  {
   "cell_type": "code",
   "execution_count": 239,
   "metadata": {
    "id": "nyb0iDH1ltoy"
   },
   "outputs": [
    {
     "name": "stdout",
     "output_type": "stream",
     "text": [
      "['DS5', 2019, True]\n",
      "['A5', 2019, True]\n"
     ]
    }
   ],
   "source": [
    "for lista in dados:\n",
    "    if (lista[2] == True):\n",
    "        print(lista)"
   ]
  },
  {
   "cell_type": "code",
   "execution_count": 240,
   "metadata": {
    "id": "5MlITJppltoy"
   },
   "outputs": [
    {
     "data": {
      "text/plain": [
       "[['DS5', 2019, True], ['A5', 2019, True]]"
      ]
     },
     "execution_count": 240,
     "metadata": {},
     "output_type": "execute_result"
    }
   ],
   "source": [
    "[lista for lista in dados if lista[2] == True]"
   ]
  },
  {
   "cell_type": "markdown",
   "metadata": {
    "id": "51Js0kXD0aRH"
   },
   "source": [
    "### List comprehensions"
   ]
  },
  {
   "cell_type": "code",
   "execution_count": null,
   "metadata": {
    "id": "Ly4QUX5J0aRI"
   },
   "outputs": [],
   "source": []
  },
  {
   "cell_type": "markdown",
   "metadata": {
    "id": "CKjrvO5Tltoz"
   },
   "source": [
    "# 4.4 Instruções *if-else* e *if-elif-else*\n",
    "\n",
    "#### Formato padrão\n",
    "\n",
    "```\n",
    "if <condição>:\n",
    "    <instruções caso a condição seja verdadeira>\n",
    "else:\n",
    "    <instruções caso a condição não seja verdadeira>\n",
    "```"
   ]
  },
  {
   "cell_type": "code",
   "execution_count": 241,
   "metadata": {
    "id": "K_VORb47ltoz"
   },
   "outputs": [],
   "source": [
    "zero_km_y, zero_km_n = [], []\n",
    "\n",
    "for lista in dados:\n",
    "    if (lista[2] == True):\n",
    "        zero_km_y.append(lista)\n",
    "    else:\n",
    "        zero_km_n.append(lista)\n",
    "        \n",
    "\n"
   ]
  },
  {
   "cell_type": "code",
   "execution_count": 242,
   "metadata": {
    "id": "vhz5T7jDlto1"
   },
   "outputs": [
    {
     "name": "stdout",
     "output_type": "stream",
     "text": [
      "Lista True: [['Jetta Variant', 2003, False], ['Passat', 1991, False], ['Crossfox', 1990, False], ['Aston Martin DB4', 2006, False], ['Palio Weekend', 2012, False], ['Série 3 Cabrio', 2009, False], ['Dodge Jorney', 2019, False], ['Carens', 2011, False]]\n",
      "\n"
     ]
    }
   ],
   "source": [
    "print(f'Lista True: {zero_km_n}\\n')"
   ]
  },
  {
   "cell_type": "code",
   "execution_count": 243,
   "metadata": {
    "id": "XlvlpPjhlto1"
   },
   "outputs": [
    {
     "name": "stdout",
     "output_type": "stream",
     "text": [
      "Lista False: [['DS5', 2019, True], ['A5', 2019, True]]\n"
     ]
    }
   ],
   "source": [
    "print(f'Lista False: {zero_km_y}')            "
   ]
  },
  {
   "cell_type": "markdown",
   "metadata": {
    "id": "Z2-8WeN1lto2"
   },
   "source": [
    "#### Formato padrão\n",
    "\n",
    "```\n",
    "if <condição 1>:\n",
    "    <instruções caso a condição 1 seja verdadeira>\n",
    "elif <condição 2>:\n",
    "    <instruções caso a condição 2 seja verdadeira>\n",
    "elif <condição 3>:\n",
    "    <instruções caso a condição 3 seja verdadeira>\n",
    "                        .\n",
    "                        .\n",
    "                        .\n",
    "else:\n",
    "    <instruções caso as condições anteriores não sejam verdadeiras>\n",
    "```"
   ]
  },
  {
   "cell_type": "code",
   "execution_count": null,
   "metadata": {
    "id": "ggrbaB4Tlto2"
   },
   "outputs": [],
   "source": []
  },
  {
   "cell_type": "code",
   "execution_count": 244,
   "metadata": {
    "id": "KJgRc1F9lto3"
   },
   "outputs": [
    {
     "name": "stdout",
     "output_type": "stream",
     "text": [
      "AND\n",
      "(True and True) o resultado é: True\n",
      "(True and False) o resultado é: False\n",
      "(False and True) o resultado é: False\n",
      "(False and False) o resultado é: False\n"
     ]
    }
   ],
   "source": [
    "print('AND')\n",
    "print(f'(True and True) o resultado é: {True and True}')\n",
    "print(f'(True and False) o resultado é: {True and False}')\n",
    "print(f'(False and True) o resultado é: {False and True}')\n",
    "print(f'(False and False) o resultado é: {False and False}')"
   ]
  },
  {
   "cell_type": "code",
   "execution_count": 245,
   "metadata": {
    "id": "sb0mSh-o0aRM"
   },
   "outputs": [
    {
     "name": "stdout",
     "output_type": "stream",
     "text": [
      "OR\n",
      "(True or True) o resultado é: True\n",
      "(True or False) o resultado é: True\n",
      "(False or True) o resultado é: True\n",
      "(False or False) o resultado é: False\n"
     ]
    }
   ],
   "source": [
    "print('OR')\n",
    "print(f'(True or True) o resultado é: {True or True}')\n",
    "print(f'(True or False) o resultado é: {True or False}')\n",
    "print(f'(False or True) o resultado é: {False or True}')\n",
    "print(f'(False or False) o resultado é: {False or False}')"
   ]
  },
  {
   "cell_type": "code",
   "execution_count": 246,
   "metadata": {
    "id": "AfNdTPzElto3"
   },
   "outputs": [],
   "source": [
    "A, B, C = [],[],[]\n",
    "for lista in dados:\n",
    "    if (lista[1] <= 2000):\n",
    "        A.append(lista)\n",
    "    elif (lista[1] > 2000 and (lista[1] >= 2010)):\n",
    "        B.append(lista)\n",
    "    else:\n",
    "        C.append(lista)"
   ]
  },
  {
   "cell_type": "code",
   "execution_count": 247,
   "metadata": {
    "id": "5bN7SuvTlto4"
   },
   "outputs": [
    {
     "data": {
      "text/plain": [
       "[['Passat', 1991, False], ['Crossfox', 1990, False]]"
      ]
     },
     "execution_count": 247,
     "metadata": {},
     "output_type": "execute_result"
    }
   ],
   "source": [
    "A"
   ]
  },
  {
   "cell_type": "code",
   "execution_count": 248,
   "metadata": {
    "id": "dDEl3Vfglto4"
   },
   "outputs": [
    {
     "data": {
      "text/plain": [
       "[['DS5', 2019, True],\n",
       " ['Palio Weekend', 2012, False],\n",
       " ['A5', 2019, True],\n",
       " ['Dodge Jorney', 2019, False],\n",
       " ['Carens', 2011, False]]"
      ]
     },
     "execution_count": 248,
     "metadata": {},
     "output_type": "execute_result"
    }
   ],
   "source": [
    "B"
   ]
  },
  {
   "cell_type": "code",
   "execution_count": 249,
   "metadata": {
    "id": "Ot4HLQlelto5"
   },
   "outputs": [
    {
     "data": {
      "text/plain": [
       "[['Jetta Variant', 2003, False],\n",
       " ['Aston Martin DB4', 2006, False],\n",
       " ['Série 3 Cabrio', 2009, False]]"
      ]
     },
     "execution_count": 249,
     "metadata": {},
     "output_type": "execute_result"
    }
   ],
   "source": [
    "C"
   ]
  },
  {
   "cell_type": "code",
   "execution_count": 250,
   "metadata": {
    "id": "FN26ZBKJlto5"
   },
   "outputs": [
    {
     "ename": "SyntaxError",
     "evalue": "unmatched ')' (4191782303.py, line 5)",
     "output_type": "error",
     "traceback": [
      "\u001b[0;36m  File \u001b[0;32m\"/tmp/ipykernel_6071/4191782303.py\"\u001b[0;36m, line \u001b[0;32m5\u001b[0m\n\u001b[0;31m    elif 2000 < (lista[1] <= 2010)):\u001b[0m\n\u001b[0m                                  ^\u001b[0m\n\u001b[0;31mSyntaxError\u001b[0m\u001b[0;31m:\u001b[0m unmatched ')'\n"
     ]
    }
   ],
   "source": [
    "A, B, C = [],[],[]\n",
    "for lista in dados:\n",
    "    if (lista[1] <= 2000):\n",
    "        A.append(lista)\n",
    "    elif 2000 < (lista[1] <= 2010)):\n",
    "        B.append(lista)\n",
    "    else:\n",
    "        C.append(lista)"
   ]
  },
  {
   "cell_type": "markdown",
   "metadata": {
    "id": "aRfQfubxlto6"
   },
   "source": [
    "# <font color=green> 5. NUMPY BÁSICO\n",
    "---\n",
    "\n",
    "Numpy é a abreviação de Numerical Python e é um dos pacotes mais importantes para processamento numérico em Python. Numpy oferece a base para a maioria dos pacotes de aplicações científicas que utilizem dados numéricos em Python (estruturas de dados e algoritmos). Pode-se destacar os seguintes recursos que o pacote Numpy contém:\n",
    "\n",
    "- Um poderoso objeto array multidimensional;\n",
    "- Funções matemáticas sofisticadas para operações com arrays sem a necessidade de utilização de laços *for*;\n",
    "- Recursos de algebra linear e geração de números aleatórios\n",
    "\n",
    "Além de seus óbvios usos científicos, o pacote NumPy também é muito utilizado em análise de dados como um eficiente contêiner multidimensional de dados genéricos para transporte entre diversos algoritmos e bibliotecas em Python.\n",
    "\n",
    "**Versão:** 1.16.5\n",
    "\n",
    "**Instalação:** https://scipy.org/install.html\n",
    "\n",
    "**Documentação:** https://numpy.org/doc/1.16/"
   ]
  },
  {
   "cell_type": "markdown",
   "metadata": {
    "id": "RtG2-g1ultme"
   },
   "source": [
    "### Pacotes\n",
    "\n",
    "Existem diversos pacotes Python disponíveis para download na internet. Cada pacote tem como objetivo a solução de determinado tipo de problema e para isso são desenvolvidos novos tipos, funções e métodos.\n",
    "\n",
    "Alguns pacotes são bastante utilizados em um contexto de ciência de dados como por exemplo:\n",
    "\n",
    "- Numpy\n",
    "- Pandas\n",
    "- Scikit-learn\n",
    "- Matplotlib\n",
    "\n",
    "Alguns pacotes não são distribuídos com a instalação default do Python. Neste caso devemos instalar os pacotes que necessitamos em nosso sistema para podermos utilizar suas funcionalidades."
   ]
  },
  {
   "cell_type": "markdown",
   "metadata": {
    "id": "b8prsQjmltme"
   },
   "source": [
    "### Importando todo o pacote"
   ]
  },
  {
   "cell_type": "code",
   "execution_count": null,
   "metadata": {
    "id": "lP0tqXHLltmf"
   },
   "outputs": [],
   "source": [
    "import numpy\n"
   ]
  },
  {
   "cell_type": "markdown",
   "metadata": {
    "id": "ZdiPRyQuqZrz"
   },
   "source": [
    "https://numpy.org/doc/1.16/reference/generated/numpy.arange.html"
   ]
  },
  {
   "cell_type": "markdown",
   "metadata": {
    "id": "84-53f4Lltmh"
   },
   "source": [
    "### Importando todo o pacote e atribuindo um novo nome "
   ]
  },
  {
   "cell_type": "code",
   "execution_count": null,
   "metadata": {
    "id": "CzESWck7ltmi"
   },
   "outputs": [],
   "source": [
    "import numpy as np"
   ]
  },
  {
   "cell_type": "code",
   "execution_count": null,
   "metadata": {},
   "outputs": [],
   "source": [
    "np.arange(10)"
   ]
  },
  {
   "cell_type": "markdown",
   "metadata": {
    "id": "WWawttSpltml"
   },
   "source": [
    "### Importando parte do pacote"
   ]
  },
  {
   "cell_type": "code",
   "execution_count": null,
   "metadata": {
    "id": "8kTeo3Ltltmo"
   },
   "outputs": [],
   "source": [
    "from  numpy import arange"
   ]
  },
  {
   "cell_type": "code",
   "execution_count": null,
   "metadata": {},
   "outputs": [],
   "source": [
    "arange(10)"
   ]
  },
  {
   "cell_type": "raw",
   "metadata": {},
   "source": []
  },
  {
   "cell_type": "code",
   "execution_count": null,
   "metadata": {
    "id": "4LPnpiEwltmt"
   },
   "outputs": [],
   "source": []
  },
  {
   "cell_type": "markdown",
   "metadata": {
    "id": "VSmffnCklto6"
   },
   "source": [
    "# 5.1 Criando arrays Numpy"
   ]
  },
  {
   "cell_type": "code",
   "execution_count": 251,
   "metadata": {
    "id": "Wqpin_-Plto8"
   },
   "outputs": [],
   "source": [
    "km = np.array([1000, 2300, 4987,1500])"
   ]
  },
  {
   "cell_type": "code",
   "execution_count": 252,
   "metadata": {},
   "outputs": [
    {
     "data": {
      "text/plain": [
       "array([1000, 2300, 4987, 1500])"
      ]
     },
     "execution_count": 252,
     "metadata": {},
     "output_type": "execute_result"
    }
   ],
   "source": [
    "km"
   ]
  },
  {
   "cell_type": "code",
   "execution_count": 253,
   "metadata": {},
   "outputs": [
    {
     "data": {
      "text/plain": [
       "numpy.ndarray"
      ]
     },
     "execution_count": 253,
     "metadata": {},
     "output_type": "execute_result"
    }
   ],
   "source": [
    "type(km)"
   ]
  },
  {
   "cell_type": "markdown",
   "metadata": {
    "id": "ock4Ku-Ulto8"
   },
   "source": [
    "### A partir de listas\n",
    "\n",
    "https://numpy.org/doc/1.16/user/basics.creation.html"
   ]
  },
  {
   "cell_type": "code",
   "execution_count": 254,
   "metadata": {
    "id": "82H-09CQlto9"
   },
   "outputs": [],
   "source": [
    "km = np.loadtxt(fname = 'data/carros-km.txt', dtype = int)"
   ]
  },
  {
   "cell_type": "code",
   "execution_count": 255,
   "metadata": {
    "id": "8VYE3JSYlto9"
   },
   "outputs": [
    {
     "data": {
      "text/plain": [
       "array([ 44410,   5712,  37123,      0,  25757,  10728,      0,  77599,\n",
       "        99197,  37978,  12859,   8052,  89773,      0,  41457, 115607,\n",
       "        46449,      0,  37086,  15173, 101193,      0,  98079, 102959,\n",
       "            0,      0,   5795,      0,  58848,  94381,  30163,  53332,\n",
       "        17720,  33808,  90684,  43975,      0,      0,   5526,      0,\n",
       "        93415,  40762,      0,  86302,      0,   9755,  69945,   2395,\n",
       "            0,  80349,  85554,  50496,  67716,  93947,  35345,  81007,\n",
       "       119513,      0,      0,      0,      0,      0, 118895,  48509,\n",
       "       100912,  95649,      0,  90495,      0,  29132,  23802,  84992,\n",
       "        54395,  26731,  44329, 118236, 113808,    610,      0,      0,\n",
       "        12887,  79607,  90924,  42733,      0,      0, 117714, 113885,\n",
       "            0,  30511,  74867, 119760,   8356,  64247,  88661,   4539,\n",
       "       110116,  33215,  92001,      0,  81708,  70641,      0,  91277,\n",
       "        26544,  52596,  47503,  89056,  28834, 110564,  56638,  17357,\n",
       "        74015,  15196,      0,  10821,      0,      0,   9595,  99052,\n",
       "        52389, 119945,  96005,  31639,      0,  80187,      0,  58212,\n",
       "        61672,  32017,      0,  56944,      0,  86519,   4821, 101025,\n",
       "        30705,      0,  32555, 103389,      0,  55289,      0,      0,\n",
       "       115930,  66437,  96800,  14237,  19896, 113045, 114942,   3173,\n",
       "        83611,  25356,  88634,   2314,   2627,  52034,      0,      0,\n",
       "        79577, 108201,  76453,  57683,  96610, 109001,  26212,  45971,\n",
       "        49182,  49907,  38620,  60996,  73914, 107392,   9146,      0,\n",
       "        17924,      0, 116949,  20476,  52804,   8849,  91724,  32056,\n",
       "        74886,      0,      0,  52189,  83559,      0,  20328,      0,\n",
       "        75577,  33659, 104341,  25510,  18965,  87161,   6652,  55738,\n",
       "            0,      0,      0,  64320,      0,  68678,  71697,      0,\n",
       "        34783,  33772,  85127,  13606,  35647,  95128,  14046,  41194,\n",
       "            0,  96100, 103900,  43814,  24638,      0, 110966,  15987,\n",
       "        53369,  10077,  71544,    107,   8394,  41498, 116002, 100858,\n",
       "        67475,   8497,   4420,      0,  58537,      0,      0, 112016,\n",
       "        91840, 112787,      0,      0,   9293,      0,  55083,  48796,\n",
       "            0,  89685,  85384,  98108,  71280,  27505,  29981,  52637,\n",
       "         7685,  50188])"
      ]
     },
     "execution_count": 255,
     "metadata": {},
     "output_type": "execute_result"
    }
   ],
   "source": [
    "km"
   ]
  },
  {
   "cell_type": "code",
   "execution_count": 256,
   "metadata": {
    "id": "OBsa5Cfplto-"
   },
   "outputs": [
    {
     "data": {
      "text/plain": [
       "dtype('int64')"
      ]
     },
     "execution_count": 256,
     "metadata": {},
     "output_type": "execute_result"
    }
   ],
   "source": [
    "km.dtype"
   ]
  },
  {
   "cell_type": "markdown",
   "metadata": {
    "id": "RfQ3jJSAlto-"
   },
   "source": [
    "https://numpy.org/doc/1.16/user/basics.types.html"
   ]
  },
  {
   "cell_type": "code",
   "execution_count": null,
   "metadata": {
    "id": "6yLpkJcAlto-"
   },
   "outputs": [],
   "source": []
  },
  {
   "cell_type": "markdown",
   "metadata": {
    "id": "1pFx86QPlto_"
   },
   "source": [
    "### A partir de dados externos\n",
    "\n",
    "https://numpy.org/doc/1.16/reference/generated/numpy.loadtxt.html"
   ]
  },
  {
   "cell_type": "code",
   "execution_count": null,
   "metadata": {
    "id": "26pQLNgrlto_"
   },
   "outputs": [],
   "source": []
  },
  {
   "cell_type": "code",
   "execution_count": null,
   "metadata": {
    "id": "FoP42bdpltpA",
    "scrolled": true
   },
   "outputs": [],
   "source": []
  },
  {
   "cell_type": "code",
   "execution_count": null,
   "metadata": {
    "id": "MNPjZJbYltpA"
   },
   "outputs": [],
   "source": []
  },
  {
   "cell_type": "markdown",
   "metadata": {
    "id": "_wnTg0wJltpB"
   },
   "source": [
    "### Arrays com duas dimensões"
   ]
  },
  {
   "cell_type": "code",
   "execution_count": 257,
   "metadata": {
    "id": "Gt1dL27GltpB",
    "scrolled": true
   },
   "outputs": [
    {
     "data": {
      "text/plain": [
       "[['Rodas de liga',\n",
       "  'Travas elétricas',\n",
       "  'Piloto automático',\n",
       "  'Bancos de couro',\n",
       "  'Ar condicionado',\n",
       "  'Sensor de estacionamento',\n",
       "  'Sensor crepuscular',\n",
       "  'Sensor de chuva'],\n",
       " ['Central multimídia',\n",
       "  'Teto panorâmico',\n",
       "  'Freios ABS',\n",
       "  '4 X 4',\n",
       "  'Painel digital',\n",
       "  'Piloto automático',\n",
       "  'Bancos de couro',\n",
       "  'Câmera de estacionamento'],\n",
       " ['Piloto automático',\n",
       "  'Controle de estabilidade',\n",
       "  'Sensor crepuscular',\n",
       "  'Freios ABS',\n",
       "  'Câmbio automático',\n",
       "  'Bancos de couro',\n",
       "  'Central multimídia',\n",
       "  'Vidros elétricos']]"
      ]
     },
     "execution_count": 257,
     "metadata": {},
     "output_type": "execute_result"
    }
   ],
   "source": [
    "dados = [ \n",
    "    ['Rodas de liga', 'Travas elétricas', 'Piloto automático', 'Bancos de couro', 'Ar condicionado', 'Sensor de estacionamento', 'Sensor crepuscular', 'Sensor de chuva'],\n",
    "    ['Central multimídia', 'Teto panorâmico', 'Freios ABS', '4 X 4', 'Painel digital', 'Piloto automático', 'Bancos de couro', 'Câmera de estacionamento'],\n",
    "    ['Piloto automático', 'Controle de estabilidade', 'Sensor crepuscular', 'Freios ABS', 'Câmbio automático', 'Bancos de couro', 'Central multimídia', 'Vidros elétricos']\n",
    "]\n",
    "dados"
   ]
  },
  {
   "cell_type": "code",
   "execution_count": 258,
   "metadata": {
    "id": "IlbYeZPkltpC"
   },
   "outputs": [],
   "source": [
    "Acessorios = np.array(dados)"
   ]
  },
  {
   "cell_type": "code",
   "execution_count": 259,
   "metadata": {
    "id": "FgjmWozgltpD",
    "scrolled": true
   },
   "outputs": [
    {
     "data": {
      "text/plain": [
       "array([['Rodas de liga', 'Travas elétricas', 'Piloto automático',\n",
       "        'Bancos de couro', 'Ar condicionado', 'Sensor de estacionamento',\n",
       "        'Sensor crepuscular', 'Sensor de chuva'],\n",
       "       ['Central multimídia', 'Teto panorâmico', 'Freios ABS', '4 X 4',\n",
       "        'Painel digital', 'Piloto automático', 'Bancos de couro',\n",
       "        'Câmera de estacionamento'],\n",
       "       ['Piloto automático', 'Controle de estabilidade',\n",
       "        'Sensor crepuscular', 'Freios ABS', 'Câmbio automático',\n",
       "        'Bancos de couro', 'Central multimídia', 'Vidros elétricos']],\n",
       "      dtype='<U24')"
      ]
     },
     "execution_count": 259,
     "metadata": {},
     "output_type": "execute_result"
    }
   ],
   "source": [
    "Acessorios"
   ]
  },
  {
   "cell_type": "code",
   "execution_count": 260,
   "metadata": {
    "id": "TDM9HskUltpD"
   },
   "outputs": [
    {
     "data": {
      "text/plain": [
       "(258,)"
      ]
     },
     "execution_count": 260,
     "metadata": {},
     "output_type": "execute_result"
    }
   ],
   "source": [
    "km.shape"
   ]
  },
  {
   "cell_type": "code",
   "execution_count": 261,
   "metadata": {
    "id": "bBmnzpF5ltpE"
   },
   "outputs": [
    {
     "data": {
      "text/plain": [
       "(3, 8)"
      ]
     },
     "execution_count": 261,
     "metadata": {},
     "output_type": "execute_result"
    }
   ],
   "source": [
    "Acessorios.shape"
   ]
  },
  {
   "cell_type": "markdown",
   "metadata": {
    "id": "cPbkST9pltpE"
   },
   "source": [
    "### Comparando desempenho com listas"
   ]
  },
  {
   "cell_type": "code",
   "execution_count": 262,
   "metadata": {
    "id": "tTPC-G4vltpE"
   },
   "outputs": [],
   "source": [
    "np_array = np.arange(1000000)"
   ]
  },
  {
   "cell_type": "code",
   "execution_count": 263,
   "metadata": {
    "id": "PIC-ndg9ltpF"
   },
   "outputs": [],
   "source": [
    "py_list = list(range(1000000))"
   ]
  },
  {
   "cell_type": "code",
   "execution_count": 264,
   "metadata": {
    "id": "vXy57nk2ltpF"
   },
   "outputs": [
    {
     "name": "stdout",
     "output_type": "stream",
     "text": [
      "CPU times: user 76.7 ms, sys: 0 ns, total: 76.7 ms\n",
      "Wall time: 74.6 ms\n"
     ]
    }
   ],
   "source": [
    "%time for _ in range(100): np_array *= 2"
   ]
  },
  {
   "cell_type": "code",
   "execution_count": 265,
   "metadata": {
    "id": "I94lVgCRltpG"
   },
   "outputs": [
    {
     "name": "stdout",
     "output_type": "stream",
     "text": [
      "CPU times: user 4.95 s, sys: 1.05 s, total: 6 s\n",
      "Wall time: 6 s\n"
     ]
    }
   ],
   "source": [
    "%time for _ in range(100): py_list= [x * 2 for x in py_list]"
   ]
  },
  {
   "cell_type": "markdown",
   "metadata": {
    "id": "ul4MuKyTltpG"
   },
   "source": [
    "# 5.2 Operações aritméticas com arrays Numpy"
   ]
  },
  {
   "cell_type": "markdown",
   "metadata": {
    "id": "QwnxO_rYltpH"
   },
   "source": [
    "### Operações entre arrays e constantes"
   ]
  },
  {
   "cell_type": "code",
   "execution_count": 266,
   "metadata": {
    "id": "63KVHPK0ltpH"
   },
   "outputs": [],
   "source": [
    "km = [44410., 5712., 37123., 0., 25757.]\n",
    "anos = [2003, 1991, 1990, 2019, 2006]"
   ]
  },
  {
   "cell_type": "code",
   "execution_count": 267,
   "metadata": {
    "id": "AryIZaBIltpH"
   },
   "outputs": [],
   "source": [
    "# idade = 2019 - anos"
   ]
  },
  {
   "cell_type": "code",
   "execution_count": 268,
   "metadata": {
    "id": "s8GvEk4HltpI"
   },
   "outputs": [],
   "source": [
    "km = np.array([44410., 5712., 37123., 0., 25757.])\n",
    "anos = np.array([2003, 1991, 1990, 2019, 2006])"
   ]
  },
  {
   "cell_type": "code",
   "execution_count": 269,
   "metadata": {
    "id": "aUnYV7OultpI"
   },
   "outputs": [],
   "source": [
    "idade = 2019 - anos"
   ]
  },
  {
   "cell_type": "code",
   "execution_count": 270,
   "metadata": {},
   "outputs": [
    {
     "data": {
      "text/plain": [
       "array([16, 28, 29,  0, 13])"
      ]
     },
     "execution_count": 270,
     "metadata": {},
     "output_type": "execute_result"
    }
   ],
   "source": [
    "idade"
   ]
  },
  {
   "cell_type": "markdown",
   "metadata": {
    "id": "qn1PUsM9ltpJ"
   },
   "source": [
    "### Operações entre arrays"
   ]
  },
  {
   "cell_type": "code",
   "execution_count": 271,
   "metadata": {
    "id": "gU_d5aZkltpJ"
   },
   "outputs": [
    {
     "name": "stderr",
     "output_type": "stream",
     "text": [
      "/tmp/ipykernel_6071/4091711005.py:1: RuntimeWarning: invalid value encountered in true_divide\n",
      "  km_media = km / idade\n"
     ]
    }
   ],
   "source": [
    "km_media = km / idade"
   ]
  },
  {
   "cell_type": "code",
   "execution_count": 272,
   "metadata": {
    "id": "U9DXntUEltpK"
   },
   "outputs": [
    {
     "data": {
      "text/plain": [
       "array([2775.625     ,  204.        , 1280.10344828,           nan,\n",
       "       1981.30769231])"
      ]
     },
     "execution_count": 272,
     "metadata": {},
     "output_type": "execute_result"
    }
   ],
   "source": [
    "km_media"
   ]
  },
  {
   "cell_type": "code",
   "execution_count": null,
   "metadata": {
    "id": "n0rPxgY1ltpL"
   },
   "outputs": [],
   "source": []
  },
  {
   "cell_type": "markdown",
   "metadata": {
    "id": "o4-gsGICltpN"
   },
   "source": [
    "### Operações com arrays de duas dimensões"
   ]
  },
  {
   "cell_type": "code",
   "execution_count": 273,
   "metadata": {
    "id": "VT71Pbb3ltpN"
   },
   "outputs": [],
   "source": [
    "dados = np.array([km,anos])"
   ]
  },
  {
   "cell_type": "code",
   "execution_count": 274,
   "metadata": {
    "id": "bgDe00q8ltpO"
   },
   "outputs": [
    {
     "data": {
      "text/plain": [
       "array([[44410.,  5712., 37123.,     0., 25757.],\n",
       "       [ 2003.,  1991.,  1990.,  2019.,  2006.]])"
      ]
     },
     "execution_count": 274,
     "metadata": {},
     "output_type": "execute_result"
    }
   ],
   "source": [
    "dados"
   ]
  },
  {
   "cell_type": "code",
   "execution_count": 275,
   "metadata": {
    "id": "jIQU2ugKltpP"
   },
   "outputs": [
    {
     "data": {
      "text/plain": [
       "(2, 5)"
      ]
     },
     "execution_count": 275,
     "metadata": {},
     "output_type": "execute_result"
    }
   ],
   "source": [
    "dados.shape"
   ]
  },
  {
   "cell_type": "markdown",
   "metadata": {
    "id": "dsgz-E5ZltpP"
   },
   "source": [
    "![1410-img01.png](https://caelum-online-public.s3.amazonaws.com/1410-pythondatascience/01/1410-img01.png)"
   ]
  },
  {
   "cell_type": "code",
   "execution_count": 276,
   "metadata": {
    "id": "imANn6HultpQ"
   },
   "outputs": [
    {
     "data": {
      "text/plain": [
       "array([44410.,  5712., 37123.,     0., 25757.])"
      ]
     },
     "execution_count": 276,
     "metadata": {},
     "output_type": "execute_result"
    }
   ],
   "source": [
    "dados[0]"
   ]
  },
  {
   "cell_type": "code",
   "execution_count": 277,
   "metadata": {
    "id": "Nkp9ljkvltpQ"
   },
   "outputs": [
    {
     "data": {
      "text/plain": [
       "array([2003., 1991., 1990., 2019., 2006.])"
      ]
     },
     "execution_count": 277,
     "metadata": {},
     "output_type": "execute_result"
    }
   ],
   "source": [
    "dados[1]"
   ]
  },
  {
   "cell_type": "code",
   "execution_count": 278,
   "metadata": {
    "id": "njJ2z3HJltpR"
   },
   "outputs": [
    {
     "name": "stderr",
     "output_type": "stream",
     "text": [
      "/tmp/ipykernel_6071/3821227864.py:1: RuntimeWarning: invalid value encountered in true_divide\n",
      "  km_media = dados[0]/(2019 - dados[1])\n"
     ]
    }
   ],
   "source": [
    "km_media = dados[0]/(2019 - dados[1])"
   ]
  },
  {
   "cell_type": "code",
   "execution_count": 279,
   "metadata": {},
   "outputs": [
    {
     "data": {
      "text/plain": [
       "array([2775.625     ,  204.        , 1280.10344828,           nan,\n",
       "       1981.30769231])"
      ]
     },
     "execution_count": 279,
     "metadata": {},
     "output_type": "execute_result"
    }
   ],
   "source": [
    "km_media"
   ]
  },
  {
   "cell_type": "markdown",
   "metadata": {
    "id": "4CAwtS0-ltpR"
   },
   "source": [
    "# 5.3 Seleções com arrays Numpy"
   ]
  },
  {
   "cell_type": "markdown",
   "metadata": {
    "id": "QDAT1vODltpS"
   },
   "source": [
    "![1410-img01.png](https://caelum-online-public.s3.amazonaws.com/1410-pythondatascience/01/1410-img01.png)"
   ]
  },
  {
   "cell_type": "code",
   "execution_count": 280,
   "metadata": {
    "id": "nZpPGS2TltpS"
   },
   "outputs": [
    {
     "data": {
      "text/plain": [
       "array([[44410.,  5712., 37123.,     0., 25757.],\n",
       "       [ 2003.,  1991.,  1990.,  2019.,  2006.]])"
      ]
     },
     "execution_count": 280,
     "metadata": {},
     "output_type": "execute_result"
    }
   ],
   "source": [
    "dados"
   ]
  },
  {
   "cell_type": "markdown",
   "metadata": {
    "id": "b--BIPcOltpT"
   },
   "source": [
    "![1410-img02.png](https://caelum-online-public.s3.amazonaws.com/1410-pythondatascience/01/1410-img02.png)"
   ]
  },
  {
   "cell_type": "markdown",
   "metadata": {
    "id": "86-hOHa7ltpT"
   },
   "source": [
    "### Indexação \n",
    "\n",
    "<font color=red>**Observação:**</font> A indexação tem origem no zero."
   ]
  },
  {
   "cell_type": "code",
   "execution_count": 281,
   "metadata": {
    "id": "mr0Q_X0JltpT"
   },
   "outputs": [
    {
     "data": {
      "text/plain": [
       "array([0, 1, 2, 3, 4, 5, 6, 7, 8, 9])"
      ]
     },
     "execution_count": 281,
     "metadata": {},
     "output_type": "execute_result"
    }
   ],
   "source": [
    "contador = np.arange(10)\n",
    "contador"
   ]
  },
  {
   "cell_type": "code",
   "execution_count": 282,
   "metadata": {
    "id": "VxiR_IgdltpU"
   },
   "outputs": [
    {
     "data": {
      "text/plain": [
       "9"
      ]
     },
     "execution_count": 282,
     "metadata": {},
     "output_type": "execute_result"
    }
   ],
   "source": [
    "item = 10\n",
    "index = item - 1\n",
    "contador[index]"
   ]
  },
  {
   "cell_type": "code",
   "execution_count": 283,
   "metadata": {
    "id": "xGDomIyAltpU"
   },
   "outputs": [
    {
     "data": {
      "text/plain": [
       "9"
      ]
     },
     "execution_count": 283,
     "metadata": {},
     "output_type": "execute_result"
    }
   ],
   "source": [
    "contador[-1]"
   ]
  },
  {
   "cell_type": "code",
   "execution_count": 284,
   "metadata": {
    "id": "QEO5Za5PltpV"
   },
   "outputs": [
    {
     "data": {
      "text/plain": [
       "array([2003., 1991., 1990., 2019., 2006.])"
      ]
     },
     "execution_count": 284,
     "metadata": {},
     "output_type": "execute_result"
    }
   ],
   "source": [
    "dados[1]"
   ]
  },
  {
   "cell_type": "code",
   "execution_count": 285,
   "metadata": {
    "id": "rvkeMK8KltpV"
   },
   "outputs": [
    {
     "data": {
      "text/plain": [
       "array([44410.,  5712., 37123.,     0., 25757.])"
      ]
     },
     "execution_count": 285,
     "metadata": {},
     "output_type": "execute_result"
    }
   ],
   "source": [
    "dados[0]"
   ]
  },
  {
   "cell_type": "code",
   "execution_count": null,
   "metadata": {
    "id": "X8c-lJRJltpW"
   },
   "outputs": [],
   "source": []
  },
  {
   "cell_type": "markdown",
   "metadata": {
    "id": "fCWUSI1zltpZ"
   },
   "source": [
    "## <font color=green>**Dica:**</font>\n",
    "### *ndarray[ linha ][ coluna ]* ou *ndarray[ linha, coluna ]*"
   ]
  },
  {
   "cell_type": "code",
   "execution_count": 286,
   "metadata": {
    "id": "Nxc3uY-ZltpZ"
   },
   "outputs": [
    {
     "data": {
      "text/plain": [
       "1990.0"
      ]
     },
     "execution_count": 286,
     "metadata": {},
     "output_type": "execute_result"
    }
   ],
   "source": [
    "dados[1][2]"
   ]
  },
  {
   "cell_type": "code",
   "execution_count": 287,
   "metadata": {
    "id": "xp8ByjualtpZ"
   },
   "outputs": [
    {
     "data": {
      "text/plain": [
       "1990.0"
      ]
     },
     "execution_count": 287,
     "metadata": {},
     "output_type": "execute_result"
    }
   ],
   "source": [
    "dados[1,2]"
   ]
  },
  {
   "cell_type": "markdown",
   "metadata": {
    "id": "7osmTUC4ltpa"
   },
   "source": [
    " ### Fatiamentos\n",
    " \n",
    "A sintaxe para realizar fatiamento em um array Numpy é $i : j : k$ onde $i$ é o índice inicial, $j$ é o índice de parada, e $k$ é o indicador de passo ($k\\neq0$)\n",
    " \n",
    "<font color=red>**Observação:**</font> Nos fatiamentos (*slices*) o item com índice i é **incluído** e o item com índice j **não é incluído** no resultado."
   ]
  },
  {
   "cell_type": "markdown",
   "metadata": {
    "id": "HEx4TbNlltpa"
   },
   "source": [
    "![1410-img01.png](https://caelum-online-public.s3.amazonaws.com/1410-pythondatascience/01/1410-img01.png)"
   ]
  },
  {
   "cell_type": "code",
   "execution_count": 288,
   "metadata": {
    "id": "tlaD1SENltpb"
   },
   "outputs": [
    {
     "data": {
      "text/plain": [
       "array([0, 1, 2, 3, 4, 5, 6, 7, 8, 9])"
      ]
     },
     "execution_count": 288,
     "metadata": {},
     "output_type": "execute_result"
    }
   ],
   "source": [
    "contador = np.arange(10)\n",
    "contador"
   ]
  },
  {
   "cell_type": "code",
   "execution_count": 289,
   "metadata": {
    "id": "vXLIO1cVltpc"
   },
   "outputs": [
    {
     "data": {
      "text/plain": [
       "array([1, 2, 3])"
      ]
     },
     "execution_count": 289,
     "metadata": {},
     "output_type": "execute_result"
    }
   ],
   "source": [
    "contador[1:4]"
   ]
  },
  {
   "cell_type": "code",
   "execution_count": 290,
   "metadata": {
    "id": "kYLgsQcHltpc"
   },
   "outputs": [
    {
     "data": {
      "text/plain": [
       "array([1, 3, 5, 7])"
      ]
     },
     "execution_count": 290,
     "metadata": {},
     "output_type": "execute_result"
    }
   ],
   "source": [
    "contador[1:8:2]"
   ]
  },
  {
   "cell_type": "code",
   "execution_count": 291,
   "metadata": {
    "id": "H2MJpIasltpd"
   },
   "outputs": [
    {
     "data": {
      "text/plain": [
       "array([0, 2, 4, 6, 8])"
      ]
     },
     "execution_count": 291,
     "metadata": {},
     "output_type": "execute_result"
    }
   ],
   "source": [
    "contador[::2]"
   ]
  },
  {
   "cell_type": "code",
   "execution_count": 292,
   "metadata": {
    "id": "YVzf4fNCltpe"
   },
   "outputs": [
    {
     "data": {
      "text/plain": [
       "array([1, 3, 5, 7, 9])"
      ]
     },
     "execution_count": 292,
     "metadata": {},
     "output_type": "execute_result"
    }
   ],
   "source": [
    "contador[1::2]"
   ]
  },
  {
   "cell_type": "code",
   "execution_count": 293,
   "metadata": {
    "id": "bPyQsUFPltpf"
   },
   "outputs": [
    {
     "data": {
      "text/plain": [
       "array([[ 5712., 37123.],\n",
       "       [ 1991.,  1990.]])"
      ]
     },
     "execution_count": 293,
     "metadata": {},
     "output_type": "execute_result"
    }
   ],
   "source": [
    "dados[:,1:3]"
   ]
  },
  {
   "cell_type": "code",
   "execution_count": 294,
   "metadata": {
    "id": "IRxfixG-ltpg"
   },
   "outputs": [
    {
     "data": {
      "text/plain": [
       "array([ 204.        , 1280.10344828])"
      ]
     },
     "execution_count": 294,
     "metadata": {},
     "output_type": "execute_result"
    }
   ],
   "source": [
    "dados[:,1:3][0] / (2019 - dados[:,1:3][1])"
   ]
  },
  {
   "cell_type": "code",
   "execution_count": 295,
   "metadata": {
    "id": "wfoJ84haltph"
   },
   "outputs": [
    {
     "data": {
      "text/plain": [
       "array([0, 1, 2, 3, 4, 5, 6, 7, 8, 9])"
      ]
     },
     "execution_count": 295,
     "metadata": {},
     "output_type": "execute_result"
    }
   ],
   "source": [
    "contador = np.arange(10)\n",
    "contador"
   ]
  },
  {
   "cell_type": "code",
   "execution_count": null,
   "metadata": {
    "id": "UeejSXUAltph"
   },
   "outputs": [],
   "source": []
  },
  {
   "cell_type": "markdown",
   "metadata": {
    "id": "-fW4EXIqltpi"
   },
   "source": [
    "### Indexação com array booleano\n",
    "\n",
    "<font color=red>**Observação:**</font> Seleciona um grupo de linhas e colunas segundo os rótulos ou um array booleano."
   ]
  },
  {
   "cell_type": "code",
   "execution_count": 296,
   "metadata": {
    "id": "MgmH-rCSltpi"
   },
   "outputs": [
    {
     "data": {
      "text/plain": [
       "array([0, 1, 2, 3, 4, 5, 6, 7, 8, 9])"
      ]
     },
     "execution_count": 296,
     "metadata": {},
     "output_type": "execute_result"
    }
   ],
   "source": [
    "contador = np.arange(10)\n",
    "contador"
   ]
  },
  {
   "cell_type": "code",
   "execution_count": 297,
   "metadata": {
    "id": "HN1i-BlLltpj"
   },
   "outputs": [
    {
     "data": {
      "text/plain": [
       "array([False, False, False, False, False, False,  True,  True,  True,\n",
       "        True])"
      ]
     },
     "execution_count": 297,
     "metadata": {},
     "output_type": "execute_result"
    }
   ],
   "source": [
    "contador > 5"
   ]
  },
  {
   "cell_type": "code",
   "execution_count": 298,
   "metadata": {
    "id": "iXJa9tL4ltpj"
   },
   "outputs": [
    {
     "data": {
      "text/plain": [
       "array([6, 7, 8, 9])"
      ]
     },
     "execution_count": 298,
     "metadata": {},
     "output_type": "execute_result"
    }
   ],
   "source": [
    "contador[contador > 5]"
   ]
  },
  {
   "cell_type": "code",
   "execution_count": 299,
   "metadata": {
    "id": "54gH6X5eltpk"
   },
   "outputs": [
    {
     "data": {
      "text/plain": [
       "array([6, 7, 8, 9])"
      ]
     },
     "execution_count": 299,
     "metadata": {},
     "output_type": "execute_result"
    }
   ],
   "source": [
    "contador[[False, False, False, False, False, False,  True,  True,  True,\n",
    "        True]]"
   ]
  },
  {
   "cell_type": "code",
   "execution_count": 300,
   "metadata": {
    "id": "F3z6zMELltpk"
   },
   "outputs": [
    {
     "data": {
      "text/plain": [
       "array([[44410.,  5712., 37123.,     0., 25757.],\n",
       "       [ 2003.,  1991.,  1990.,  2019.,  2006.]])"
      ]
     },
     "execution_count": 300,
     "metadata": {},
     "output_type": "execute_result"
    }
   ],
   "source": [
    "dados"
   ]
  },
  {
   "cell_type": "code",
   "execution_count": 301,
   "metadata": {
    "id": "pk8A68z1ltpl"
   },
   "outputs": [
    {
     "data": {
      "text/plain": [
       "array([ True, False, False,  True,  True])"
      ]
     },
     "execution_count": 301,
     "metadata": {},
     "output_type": "execute_result"
    }
   ],
   "source": [
    "dados[1] > 2000"
   ]
  },
  {
   "cell_type": "code",
   "execution_count": 302,
   "metadata": {
    "id": "WUVMN29_ltpm"
   },
   "outputs": [
    {
     "data": {
      "text/plain": [
       "array([[44410.,     0., 25757.],\n",
       "       [ 2003.,  2019.,  2006.]])"
      ]
     },
     "execution_count": 302,
     "metadata": {},
     "output_type": "execute_result"
    }
   ],
   "source": [
    "dados[:,dados[1] > 2000]"
   ]
  },
  {
   "cell_type": "markdown",
   "metadata": {
    "id": "Acw1DffHltpn"
   },
   "source": [
    "# 5.4 Atributos e métodos de arrays Numpy"
   ]
  },
  {
   "cell_type": "markdown",
   "metadata": {
    "id": "RBnSne6Eltpo"
   },
   "source": [
    "### Atributos\n",
    "\n",
    "https://numpy.org/doc/1.16/reference/arrays.ndarray.html#array-attributes"
   ]
  },
  {
   "cell_type": "code",
   "execution_count": null,
   "metadata": {
    "id": "stjvD6m8ltpo"
   },
   "outputs": [],
   "source": []
  },
  {
   "cell_type": "markdown",
   "metadata": {
    "id": "uKqPxg2Zltpo"
   },
   "source": [
    "## *ndarray.shape*\n",
    "\n",
    "Retorna uma tupla com as dimensões do array."
   ]
  },
  {
   "cell_type": "code",
   "execution_count": 303,
   "metadata": {
    "id": "gmaZhF04ltpp"
   },
   "outputs": [
    {
     "data": {
      "text/plain": [
       "(2, 5)"
      ]
     },
     "execution_count": 303,
     "metadata": {},
     "output_type": "execute_result"
    }
   ],
   "source": [
    "dados.shape"
   ]
  },
  {
   "cell_type": "markdown",
   "metadata": {
    "id": "XaY6oXkmltpp"
   },
   "source": [
    "## *ndarray.ndim*\n",
    "\n",
    "Retorna o número de dimensões do array."
   ]
  },
  {
   "cell_type": "code",
   "execution_count": 304,
   "metadata": {
    "id": "inJ4HDjaltpq"
   },
   "outputs": [
    {
     "data": {
      "text/plain": [
       "2"
      ]
     },
     "execution_count": 304,
     "metadata": {},
     "output_type": "execute_result"
    }
   ],
   "source": [
    "dados.ndim"
   ]
  },
  {
   "cell_type": "markdown",
   "metadata": {
    "id": "ESgVt5xOltpq"
   },
   "source": [
    "## *ndarray.size*\n",
    "\n",
    "Retorna o número de elementos do array."
   ]
  },
  {
   "cell_type": "code",
   "execution_count": 305,
   "metadata": {
    "id": "BWr4efoiltpq"
   },
   "outputs": [
    {
     "data": {
      "text/plain": [
       "10"
      ]
     },
     "execution_count": 305,
     "metadata": {},
     "output_type": "execute_result"
    }
   ],
   "source": [
    "dados.size"
   ]
  },
  {
   "cell_type": "markdown",
   "metadata": {
    "id": "Ox8JlBM3ltpr"
   },
   "source": [
    "## *ndarray.dtype*\n",
    "\n",
    "Retorna o tipo de dados dos elementos do array."
   ]
  },
  {
   "cell_type": "code",
   "execution_count": 306,
   "metadata": {
    "id": "npiL84Vfltpu"
   },
   "outputs": [
    {
     "data": {
      "text/plain": [
       "dtype('float64')"
      ]
     },
     "execution_count": 306,
     "metadata": {},
     "output_type": "execute_result"
    }
   ],
   "source": [
    "dados.dtype"
   ]
  },
  {
   "cell_type": "markdown",
   "metadata": {
    "id": "j7uPN16oltpv"
   },
   "source": [
    "## *ndarray.T*\n",
    "\n",
    "Retorna o array transposto, isto é, converte linhas em colunas e vice versa."
   ]
  },
  {
   "cell_type": "code",
   "execution_count": 307,
   "metadata": {
    "id": "bLjrrx56ltpv"
   },
   "outputs": [
    {
     "data": {
      "text/plain": [
       "array([[44410.,  2003.],\n",
       "       [ 5712.,  1991.],\n",
       "       [37123.,  1990.],\n",
       "       [    0.,  2019.],\n",
       "       [25757.,  2006.]])"
      ]
     },
     "execution_count": 307,
     "metadata": {},
     "output_type": "execute_result"
    }
   ],
   "source": [
    "dados.T"
   ]
  },
  {
   "cell_type": "code",
   "execution_count": 308,
   "metadata": {
    "id": "5A9SlJQvltpw"
   },
   "outputs": [
    {
     "data": {
      "text/plain": [
       "array([[44410.,  2003.],\n",
       "       [ 5712.,  1991.],\n",
       "       [37123.,  1990.],\n",
       "       [    0.,  2019.],\n",
       "       [25757.,  2006.]])"
      ]
     },
     "execution_count": 308,
     "metadata": {},
     "output_type": "execute_result"
    }
   ],
   "source": [
    "dados.transpose()"
   ]
  },
  {
   "cell_type": "markdown",
   "metadata": {
    "id": "e9r6ryTrltpw"
   },
   "source": [
    "### Métodos\n",
    "\n",
    "https://numpy.org/doc/1.16/reference/arrays.ndarray.html#array-methods"
   ]
  },
  {
   "cell_type": "markdown",
   "metadata": {
    "id": "SR9KYy-0ltpw"
   },
   "source": [
    "## *ndarray.tolist()*\n",
    "\n",
    "Retorna o array como uma lista Python."
   ]
  },
  {
   "cell_type": "code",
   "execution_count": 309,
   "metadata": {
    "id": "C2aTAwOXltpw"
   },
   "outputs": [
    {
     "data": {
      "text/plain": [
       "[[44410.0, 5712.0, 37123.0, 0.0, 25757.0],\n",
       " [2003.0, 1991.0, 1990.0, 2019.0, 2006.0]]"
      ]
     },
     "execution_count": 309,
     "metadata": {},
     "output_type": "execute_result"
    }
   ],
   "source": [
    "dados.tolist()"
   ]
  },
  {
   "cell_type": "markdown",
   "metadata": {
    "id": "bHxcxugPltpx"
   },
   "source": [
    "## *ndarray.reshape(shape[, order])*\n",
    "\n",
    "Retorna um array que contém os mesmos dados com uma nova forma."
   ]
  },
  {
   "cell_type": "code",
   "execution_count": 310,
   "metadata": {
    "id": "lwESxO71ltpx"
   },
   "outputs": [
    {
     "data": {
      "text/plain": [
       "array([0, 1, 2, 3, 4, 5, 6, 7, 8, 9])"
      ]
     },
     "execution_count": 310,
     "metadata": {},
     "output_type": "execute_result"
    }
   ],
   "source": [
    "contador = np.arange(10)\n",
    "contador"
   ]
  },
  {
   "cell_type": "code",
   "execution_count": 311,
   "metadata": {
    "id": "sh9poyfzltpy"
   },
   "outputs": [
    {
     "data": {
      "text/plain": [
       "array([[0, 1],\n",
       "       [2, 3],\n",
       "       [4, 5],\n",
       "       [6, 7],\n",
       "       [8, 9]])"
      ]
     },
     "execution_count": 311,
     "metadata": {},
     "output_type": "execute_result"
    }
   ],
   "source": [
    "contador.reshape((5,2))"
   ]
  },
  {
   "cell_type": "code",
   "execution_count": 312,
   "metadata": {
    "id": "5332Xu8-ltpy"
   },
   "outputs": [
    {
     "data": {
      "text/plain": [
       "array([[0, 1],\n",
       "       [2, 3],\n",
       "       [4, 5],\n",
       "       [6, 7],\n",
       "       [8, 9]])"
      ]
     },
     "execution_count": 312,
     "metadata": {},
     "output_type": "execute_result"
    }
   ],
   "source": [
    "contador.reshape((5,2), order= 'C')"
   ]
  },
  {
   "cell_type": "code",
   "execution_count": 313,
   "metadata": {
    "id": "2RoZvbgHltpz"
   },
   "outputs": [
    {
     "data": {
      "text/plain": [
       "array([[0, 5],\n",
       "       [1, 6],\n",
       "       [2, 7],\n",
       "       [3, 8],\n",
       "       [4, 9]])"
      ]
     },
     "execution_count": 313,
     "metadata": {},
     "output_type": "execute_result"
    }
   ],
   "source": [
    "contador.reshape((5,2), order= 'F')"
   ]
  },
  {
   "cell_type": "code",
   "execution_count": 314,
   "metadata": {
    "id": "6q0dJZ-dltp0"
   },
   "outputs": [],
   "source": [
    "km = [44410, 5712, 37123, 0, 25757]\n",
    "anos = [2003, 1991, 1990, 2019, 2006]"
   ]
  },
  {
   "cell_type": "code",
   "execution_count": 315,
   "metadata": {
    "id": "bs56aGrkltp0"
   },
   "outputs": [
    {
     "data": {
      "text/plain": [
       "[44410, 5712, 37123, 0, 25757, 2003, 1991, 1990, 2019, 2006]"
      ]
     },
     "execution_count": 315,
     "metadata": {},
     "output_type": "execute_result"
    }
   ],
   "source": [
    "info_carros = km + anos\n",
    "info_carros"
   ]
  },
  {
   "cell_type": "code",
   "execution_count": 316,
   "metadata": {
    "id": "s_GkTk2fltp1",
    "scrolled": true
   },
   "outputs": [
    {
     "data": {
      "text/plain": [
       "array([44410,  5712, 37123,     0, 25757,  2003,  1991,  1990,  2019,\n",
       "        2006])"
      ]
     },
     "execution_count": 316,
     "metadata": {},
     "output_type": "execute_result"
    }
   ],
   "source": [
    "np.array(info_carros)"
   ]
  },
  {
   "cell_type": "code",
   "execution_count": 317,
   "metadata": {
    "id": "xodm8DVZltp1"
   },
   "outputs": [
    {
     "data": {
      "text/plain": [
       "array([[44410,  5712, 37123,     0, 25757],\n",
       "       [ 2003,  1991,  1990,  2019,  2006]])"
      ]
     },
     "execution_count": 317,
     "metadata": {},
     "output_type": "execute_result"
    }
   ],
   "source": [
    "np.array(info_carros).reshape((2,5))"
   ]
  },
  {
   "cell_type": "markdown",
   "metadata": {
    "id": "Tdj5iArbltp2"
   },
   "source": [
    "## *ndarray.resize(new_shape[, refcheck])*\n",
    "\n",
    "Altera a forma e o tamanho do array."
   ]
  },
  {
   "cell_type": "code",
   "execution_count": 318,
   "metadata": {
    "id": "vB2zxCDtltp2"
   },
   "outputs": [
    {
     "data": {
      "text/plain": [
       "array([[44410.,  5712., 37123.,     0., 25757.],\n",
       "       [ 2003.,  1991.,  1990.,  2019.,  2006.]])"
      ]
     },
     "execution_count": 318,
     "metadata": {},
     "output_type": "execute_result"
    }
   ],
   "source": [
    "dados_new = dados.copy()\n",
    "dados_new"
   ]
  },
  {
   "cell_type": "code",
   "execution_count": 321,
   "metadata": {
    "id": "IMv0m4Multp2"
   },
   "outputs": [],
   "source": [
    "dados_new.resize((3,5),refcheck=False)\n"
   ]
  },
  {
   "cell_type": "code",
   "execution_count": 325,
   "metadata": {
    "id": "wpAi9928ltp3"
   },
   "outputs": [
    {
     "name": "stderr",
     "output_type": "stream",
     "text": [
      "/tmp/ipykernel_6071/4186527466.py:1: RuntimeWarning: invalid value encountered in true_divide\n",
      "  dados_new[2] = dados_new[0] / (2019 - dados_new[1])\n"
     ]
    }
   ],
   "source": [
    "dados_new[2] = dados_new[0] / (2019 - dados_new[1])"
   ]
  },
  {
   "cell_type": "code",
   "execution_count": 326,
   "metadata": {
    "id": "CJyuKqaFltp3"
   },
   "outputs": [
    {
     "data": {
      "text/plain": [
       "array([[44410.        ,  5712.        , 37123.        ,     0.        ,\n",
       "        25757.        ],\n",
       "       [ 2003.        ,  1991.        ,  1990.        ,  2019.        ,\n",
       "         2006.        ],\n",
       "       [ 2775.625     ,   204.        ,  1280.10344828,            nan,\n",
       "         1981.30769231]])"
      ]
     },
     "execution_count": 326,
     "metadata": {},
     "output_type": "execute_result"
    }
   ],
   "source": [
    "dados_new"
   ]
  },
  {
   "cell_type": "code",
   "execution_count": null,
   "metadata": {
    "id": "bj_iPZAultp4"
   },
   "outputs": [],
   "source": []
  },
  {
   "cell_type": "markdown",
   "metadata": {
    "id": "GPSk7Q_Dltp4"
   },
   "source": [
    "# 5.5 Estatísticas com arrays Numpy\n",
    "\n",
    "https://numpy.org/doc/1.16/reference/arrays.ndarray.html#calculation\n",
    "\n",
    "e\n",
    "\n",
    "https://numpy.org/doc/1.16/reference/routines.statistics.html\n",
    "\n",
    "e\n",
    "\n",
    "https://numpy.org/doc/1.16/reference/routines.math.html"
   ]
  },
  {
   "cell_type": "code",
   "execution_count": 327,
   "metadata": {
    "id": "RH2u1orXltp5"
   },
   "outputs": [],
   "source": [
    "anos = np.loadtxt(fname = \"data/carros-anos.txt\", dtype = int)\n",
    "km = np.loadtxt(fname = \"data/carros-km.txt\")\n",
    "valor = np.loadtxt(fname = \"data/carros-valor.txt\")"
   ]
  },
  {
   "cell_type": "code",
   "execution_count": 328,
   "metadata": {
    "id": "wbITF7r6ltp5"
   },
   "outputs": [
    {
     "data": {
      "text/plain": [
       "(258,)"
      ]
     },
     "execution_count": 328,
     "metadata": {},
     "output_type": "execute_result"
    }
   ],
   "source": [
    "anos.shape"
   ]
  },
  {
   "cell_type": "markdown",
   "metadata": {
    "id": "U_x3SOVDltp7"
   },
   "source": [
    "https://numpy.org/doc/1.16/reference/generated/numpy.column_stack.html"
   ]
  },
  {
   "cell_type": "code",
   "execution_count": 329,
   "metadata": {
    "id": "wefxl-XBltp8"
   },
   "outputs": [
    {
     "data": {
      "text/plain": [
       "array([[2.0030000e+03, 4.4410000e+04, 8.8078640e+04],\n",
       "       [1.9910000e+03, 5.7120000e+03, 1.0616194e+05],\n",
       "       [1.9900000e+03, 3.7123000e+04, 7.2832160e+04],\n",
       "       [2.0190000e+03, 0.0000000e+00, 1.2454907e+05],\n",
       "       [2.0060000e+03, 2.5757000e+04, 9.2612100e+04],\n",
       "       [2.0120000e+03, 1.0728000e+04, 9.7497730e+04],\n",
       "       [2.0190000e+03, 0.0000000e+00, 5.6445200e+04],\n",
       "       [2.0090000e+03, 7.7599000e+04, 1.1231044e+05],\n",
       "       [2.0100000e+03, 9.9197000e+04, 1.2071627e+05],\n",
       "       [2.0110000e+03, 3.7978000e+04, 7.6566490e+04],\n",
       "       [2.0020000e+03, 1.2859000e+04, 7.1647590e+04],\n",
       "       [2.0070000e+03, 8.0520000e+03, 7.3919530e+04],\n",
       "       [2.0010000e+03, 8.9773000e+04, 1.1273299e+05],\n",
       "       [2.0190000e+03, 0.0000000e+00, 5.3183380e+04],\n",
       "       [2.0090000e+03, 4.1457000e+04, 1.2748842e+05],\n",
       "       [2.0160000e+03, 1.1560700e+05, 5.9910400e+04],\n",
       "       [2.0120000e+03, 4.6449000e+04, 6.1118590e+04],\n",
       "       [2.0190000e+03, 0.0000000e+00, 8.8552390e+04],\n",
       "       [2.0160000e+03, 3.7086000e+04, 6.2696690e+04],\n",
       "       [2.0170000e+03, 1.5173000e+04, 1.0172630e+05],\n",
       "       [2.0020000e+03, 1.0119300e+05, 1.0614738e+05],\n",
       "       [2.0190000e+03, 0.0000000e+00, 9.4564400e+04],\n",
       "       [1.9940000e+03, 9.8079000e+04, 1.3352984e+05],\n",
       "       [1.9910000e+03, 1.0295900e+05, 1.2568465e+05],\n",
       "       [2.0190000e+03, 0.0000000e+00, 1.2159621e+05],\n",
       "       [2.0190000e+03, 0.0000000e+00, 7.1367100e+04],\n",
       "       [2.0160000e+03, 5.7950000e+03, 9.5347750e+04],\n",
       "       [2.0190000e+03, 0.0000000e+00, 1.0543284e+05],\n",
       "       [2.0020000e+03, 5.8848000e+04, 5.7045270e+04],\n",
       "       [1.9910000e+03, 9.4381000e+04, 1.2043270e+05],\n",
       "       [1.9970000e+03, 3.0163000e+04, 7.0707200e+04],\n",
       "       [1.9950000e+03, 5.3332000e+04, 6.9105180e+04],\n",
       "       [2.0180000e+03, 1.7720000e+04, 5.9358690e+04],\n",
       "       [1.9910000e+03, 3.3808000e+04, 6.5955400e+04],\n",
       "       [2.0140000e+03, 9.0684000e+04, 6.0017030e+04],\n",
       "       [1.9950000e+03, 4.3975000e+04, 1.1890952e+05],\n",
       "       [2.0190000e+03, 0.0000000e+00, 5.1606590e+04],\n",
       "       [2.0190000e+03, 0.0000000e+00, 1.2328187e+05],\n",
       "       [2.0090000e+03, 5.5260000e+03, 6.9770180e+04],\n",
       "       [2.0190000e+03, 0.0000000e+00, 1.0260954e+05],\n",
       "       [2.0130000e+03, 9.3415000e+04, 6.7997190e+04],\n",
       "       [2.0030000e+03, 4.0762000e+04, 1.3523529e+05],\n",
       "       [2.0190000e+03, 0.0000000e+00, 8.6641340e+04],\n",
       "       [2.0020000e+03, 8.6302000e+04, 1.3681839e+05],\n",
       "       [2.0190000e+03, 0.0000000e+00, 1.1762673e+05],\n",
       "       [2.0020000e+03, 9.7550000e+03, 5.6208700e+04],\n",
       "       [2.0040000e+03, 6.9945000e+04, 8.4222650e+04],\n",
       "       [2.0010000e+03, 2.3950000e+03, 9.0781650e+04],\n",
       "       [2.0190000e+03, 0.0000000e+00, 6.4701100e+04],\n",
       "       [2.0030000e+03, 8.0349000e+04, 1.2635049e+05],\n",
       "       [2.0090000e+03, 8.5554000e+04, 1.4815289e+05],\n",
       "       [2.0060000e+03, 5.0496000e+04, 1.3229883e+05],\n",
       "       [2.0000000e+03, 6.7716000e+04, 1.3762763e+05],\n",
       "       [2.0060000e+03, 9.3947000e+04, 8.0422710e+04],\n",
       "       [2.0100000e+03, 3.5345000e+04, 5.6373990e+04],\n",
       "       [1.9940000e+03, 8.1007000e+04, 7.0846030e+04],\n",
       "       [2.0070000e+03, 1.1951300e+05, 1.2869423e+05],\n",
       "       [2.0190000e+03, 0.0000000e+00, 1.3332919e+05],\n",
       "       [2.0190000e+03, 0.0000000e+00, 1.3196143e+05],\n",
       "       [2.0190000e+03, 0.0000000e+00, 1.1203327e+05],\n",
       "       [2.0190000e+03, 0.0000000e+00, 8.1399350e+04],\n",
       "       [2.0190000e+03, 0.0000000e+00, 9.7163100e+04],\n",
       "       [2.0170000e+03, 1.1889500e+05, 6.6007160e+04],\n",
       "       [2.0110000e+03, 4.8509000e+04, 1.2877622e+05],\n",
       "       [2.0010000e+03, 1.0091200e+05, 1.4262302e+05],\n",
       "       [1.9960000e+03, 9.5649000e+04, 1.3693013e+05],\n",
       "       [2.0190000e+03, 0.0000000e+00, 6.6526610e+04],\n",
       "       [1.9940000e+03, 9.0495000e+04, 1.1415487e+05],\n",
       "       [2.0190000e+03, 0.0000000e+00, 1.4239275e+05],\n",
       "       [2.0070000e+03, 2.9132000e+04, 1.4671691e+05],\n",
       "       [1.9940000e+03, 2.3802000e+04, 1.2248568e+05],\n",
       "       [2.0070000e+03, 8.4992000e+04, 9.7951030e+04],\n",
       "       [1.9970000e+03, 5.4395000e+04, 7.8283490e+04],\n",
       "       [2.0060000e+03, 2.6731000e+04, 8.3434040e+04],\n",
       "       [2.0130000e+03, 4.4329000e+04, 7.7836230e+04],\n",
       "       [1.9940000e+03, 1.1823600e+05, 6.0813920e+04],\n",
       "       [2.0080000e+03, 1.1380800e+05, 9.1353860e+04],\n",
       "       [2.0080000e+03, 6.1000000e+02, 1.1628121e+05],\n",
       "       [2.0190000e+03, 0.0000000e+00, 1.4519770e+05],\n",
       "       [2.0190000e+03, 0.0000000e+00, 5.0742100e+04],\n",
       "       [1.9990000e+03, 1.2887000e+04, 7.3033530e+04],\n",
       "       [2.0070000e+03, 7.9607000e+04, 5.4332870e+04],\n",
       "       [1.9930000e+03, 9.0924000e+04, 5.2207450e+04],\n",
       "       [1.9950000e+03, 4.2733000e+04, 6.3578500e+04],\n",
       "       [2.0190000e+03, 0.0000000e+00, 6.4507720e+04],\n",
       "       [2.0190000e+03, 0.0000000e+00, 1.1507559e+05],\n",
       "       [2.0160000e+03, 1.1771400e+05, 1.3303060e+05],\n",
       "       [2.0110000e+03, 1.1388500e+05, 1.4159186e+05],\n",
       "       [2.0190000e+03, 0.0000000e+00, 1.0038028e+05],\n",
       "       [2.0020000e+03, 3.0511000e+04, 9.6369040e+04],\n",
       "       [2.0130000e+03, 7.4867000e+04, 1.4260384e+05],\n",
       "       [2.0170000e+03, 1.1976000e+05, 1.1770967e+05],\n",
       "       [2.0160000e+03, 8.3560000e+03, 1.0224154e+05],\n",
       "       [2.0080000e+03, 6.4247000e+04, 9.6065380e+04],\n",
       "       [2.0180000e+03, 8.8661000e+04, 5.3894610e+04],\n",
       "       [2.0030000e+03, 4.5390000e+03, 1.2391178e+05],\n",
       "       [2.0030000e+03, 1.1011600e+05, 1.0199635e+05],\n",
       "       [2.0040000e+03, 3.3215000e+04, 8.3431660e+04],\n",
       "       [2.0100000e+03, 9.2001000e+04, 1.2297563e+05],\n",
       "       [2.0190000e+03, 0.0000000e+00, 9.3227730e+04],\n",
       "       [2.0060000e+03, 8.1708000e+04, 5.8762650e+04],\n",
       "       [2.0010000e+03, 7.0641000e+04, 1.3954967e+05],\n",
       "       [2.0190000e+03, 0.0000000e+00, 1.2201642e+05],\n",
       "       [2.0150000e+03, 9.1277000e+04, 7.2731980e+04],\n",
       "       [2.0180000e+03, 2.6544000e+04, 8.8416540e+04],\n",
       "       [2.0170000e+03, 5.2596000e+04, 7.3873420e+04],\n",
       "       [1.9920000e+03, 4.7503000e+04, 7.0709340e+04],\n",
       "       [2.0010000e+03, 8.9056000e+04, 1.1530650e+05],\n",
       "       [1.9930000e+03, 2.8834000e+04, 5.5924630e+04],\n",
       "       [1.9950000e+03, 1.1056400e+05, 8.5052260e+04],\n",
       "       [2.0030000e+03, 5.6638000e+04, 5.6646340e+04],\n",
       "       [2.0140000e+03, 1.7357000e+04, 1.3894688e+05],\n",
       "       [2.0080000e+03, 7.4015000e+04, 1.0825672e+05],\n",
       "       [2.0130000e+03, 1.5196000e+04, 5.8979300e+04],\n",
       "       [2.0190000e+03, 0.0000000e+00, 1.1472768e+05],\n",
       "       [2.0170000e+03, 1.0821000e+04, 1.3966148e+05],\n",
       "       [2.0190000e+03, 0.0000000e+00, 8.0382240e+04],\n",
       "       [2.0190000e+03, 0.0000000e+00, 1.4915717e+05],\n",
       "       [2.0060000e+03, 9.5950000e+03, 8.7830410e+04],\n",
       "       [2.0150000e+03, 9.9052000e+04, 1.4356822e+05],\n",
       "       [2.0070000e+03, 5.2389000e+04, 1.3817185e+05],\n",
       "       [2.0050000e+03, 1.1994500e+05, 1.1578495e+05],\n",
       "       [2.0170000e+03, 9.6005000e+04, 1.4650899e+05],\n",
       "       [1.9980000e+03, 3.1639000e+04, 1.3767023e+05],\n",
       "       [2.0190000e+03, 0.0000000e+00, 1.3859727e+05],\n",
       "       [1.9990000e+03, 8.0187000e+04, 1.4762781e+05],\n",
       "       [2.0190000e+03, 0.0000000e+00, 6.2999020e+04],\n",
       "       [2.0090000e+03, 5.8212000e+04, 9.1242440e+04],\n",
       "       [2.0030000e+03, 6.1672000e+04, 1.4948992e+05],\n",
       "       [1.9940000e+03, 3.2017000e+04, 6.3529950e+04],\n",
       "       [2.0190000e+03, 0.0000000e+00, 5.8525410e+04],\n",
       "       [1.9940000e+03, 5.6944000e+04, 9.0345050e+04],\n",
       "       [2.0190000e+03, 0.0000000e+00, 1.4777087e+05],\n",
       "       [2.0150000e+03, 8.6519000e+04, 1.0661771e+05],\n",
       "       [1.9960000e+03, 4.8210000e+03, 1.0492988e+05],\n",
       "       [1.9970000e+03, 1.0102500e+05, 1.0071245e+05],\n",
       "       [1.9930000e+03, 3.0705000e+04, 1.4198293e+05],\n",
       "       [2.0190000e+03, 0.0000000e+00, 1.0403879e+05],\n",
       "       [1.9920000e+03, 3.2555000e+04, 8.8501540e+04],\n",
       "       [1.9950000e+03, 1.0338900e+05, 7.9782020e+04],\n",
       "       [2.0190000e+03, 0.0000000e+00, 8.6224100e+04],\n",
       "       [1.9900000e+03, 5.5289000e+04, 1.0359618e+05],\n",
       "       [2.0190000e+03, 0.0000000e+00, 1.4899647e+05],\n",
       "       [2.0190000e+03, 0.0000000e+00, 6.0948010e+04],\n",
       "       [1.9910000e+03, 1.1593000e+05, 6.9535440e+04],\n",
       "       [1.9900000e+03, 6.6437000e+04, 1.1113033e+05],\n",
       "       [2.0120000e+03, 9.6800000e+04, 6.5847690e+04],\n",
       "       [2.0070000e+03, 1.4237000e+04, 7.8096060e+04],\n",
       "       [2.0130000e+03, 1.9896000e+04, 6.9219890e+04],\n",
       "       [2.0000000e+03, 1.1304500e+05, 1.4411891e+05],\n",
       "       [2.0020000e+03, 1.1494200e+05, 7.7397050e+04],\n",
       "       [1.9960000e+03, 3.1730000e+03, 6.8974250e+04],\n",
       "       [1.9960000e+03, 8.3611000e+04, 1.2523130e+05],\n",
       "       [2.0150000e+03, 2.5356000e+04, 8.5501120e+04],\n",
       "       [1.9930000e+03, 8.8634000e+04, 1.3711621e+05],\n",
       "       [2.0130000e+03, 2.3140000e+03, 1.3882381e+05],\n",
       "       [2.0130000e+03, 2.6270000e+03, 1.1796195e+05],\n",
       "       [2.0090000e+03, 5.2034000e+04, 1.3266232e+05],\n",
       "       [2.0190000e+03, 0.0000000e+00, 1.4640579e+05],\n",
       "       [2.0190000e+03, 0.0000000e+00, 8.1999210e+04],\n",
       "       [2.0020000e+03, 7.9577000e+04, 1.4093460e+05],\n",
       "       [1.9970000e+03, 1.0820100e+05, 8.2366810e+04],\n",
       "       [1.9980000e+03, 7.6453000e+04, 7.0424110e+04],\n",
       "       [2.0040000e+03, 5.7683000e+04, 5.3620310e+04],\n",
       "       [1.9960000e+03, 9.6610000e+04, 7.3389180e+04],\n",
       "       [2.0150000e+03, 1.0900100e+05, 1.1161812e+05],\n",
       "       [2.0160000e+03, 2.6212000e+04, 1.1218737e+05],\n",
       "       [2.0050000e+03, 4.5971000e+04, 1.2081257e+05],\n",
       "       [1.9990000e+03, 4.9182000e+04, 1.1603104e+05],\n",
       "       [1.9950000e+03, 4.9907000e+04, 1.2539811e+05],\n",
       "       [1.9930000e+03, 3.8620000e+04, 7.6101470e+04],\n",
       "       [2.0040000e+03, 6.0996000e+04, 7.5263240e+04],\n",
       "       [2.0130000e+03, 7.3914000e+04, 1.4738776e+05],\n",
       "       [1.9980000e+03, 1.0739200e+05, 8.5311400e+04],\n",
       "       [2.0180000e+03, 9.1460000e+03, 5.4388110e+04],\n",
       "       [2.0190000e+03, 0.0000000e+00, 1.2415665e+05],\n",
       "       [2.0180000e+03, 1.7924000e+04, 1.4620334e+05],\n",
       "       [2.0190000e+03, 0.0000000e+00, 5.6453940e+04],\n",
       "       [1.9900000e+03, 1.1694900e+05, 6.8873790e+04],\n",
       "       [2.0090000e+03, 2.0476000e+04, 9.1667610e+04],\n",
       "       [1.9900000e+03, 5.2804000e+04, 9.3776520e+04],\n",
       "       [2.0060000e+03, 8.8490000e+03, 6.6433820e+04],\n",
       "       [2.0020000e+03, 9.1724000e+04, 1.0905927e+05],\n",
       "       [1.9910000e+03, 3.2056000e+04, 1.2206997e+05],\n",
       "       [1.9920000e+03, 7.4886000e+04, 1.1309032e+05],\n",
       "       [2.0190000e+03, 0.0000000e+00, 8.9401100e+04],\n",
       "       [2.0190000e+03, 0.0000000e+00, 5.6842790e+04],\n",
       "       [2.0050000e+03, 5.2189000e+04, 1.4667671e+05],\n",
       "       [2.0100000e+03, 8.3559000e+04, 8.9511960e+04],\n",
       "       [2.0190000e+03, 0.0000000e+00, 9.7290180e+04],\n",
       "       [2.0160000e+03, 2.0328000e+04, 1.2067356e+05],\n",
       "       [2.0190000e+03, 0.0000000e+00, 1.1443494e+05],\n",
       "       [2.0100000e+03, 7.5577000e+04, 1.3954669e+05],\n",
       "       [1.9940000e+03, 3.3659000e+04, 9.5078160e+04],\n",
       "       [2.0010000e+03, 1.0434100e+05, 6.8091770e+04],\n",
       "       [2.0140000e+03, 2.5510000e+04, 6.1496970e+04],\n",
       "       [1.9960000e+03, 1.8965000e+04, 1.3966930e+05],\n",
       "       [1.9930000e+03, 8.7161000e+04, 8.0661390e+04],\n",
       "       [1.9930000e+03, 6.6520000e+03, 6.1783650e+04],\n",
       "       [2.0010000e+03, 5.5738000e+04, 5.2805910e+04],\n",
       "       [2.0190000e+03, 0.0000000e+00, 1.2702475e+05],\n",
       "       [2.0190000e+03, 0.0000000e+00, 1.3554300e+05],\n",
       "       [2.0190000e+03, 0.0000000e+00, 1.2170873e+05],\n",
       "       [2.0070000e+03, 6.4320000e+04, 1.0734268e+05],\n",
       "       [2.0190000e+03, 0.0000000e+00, 5.7888100e+04],\n",
       "       [2.0160000e+03, 6.8678000e+04, 1.1816148e+05],\n",
       "       [2.0140000e+03, 7.1697000e+04, 1.4249906e+05],\n",
       "       [2.0190000e+03, 0.0000000e+00, 1.2839611e+05],\n",
       "       [2.0150000e+03, 3.4783000e+04, 1.1235061e+05],\n",
       "       [2.0150000e+03, 3.3772000e+04, 1.2466138e+05],\n",
       "       [1.9960000e+03, 8.5127000e+04, 5.4263160e+04],\n",
       "       [2.0020000e+03, 1.3606000e+04, 6.2041320e+04],\n",
       "       [2.0050000e+03, 3.5647000e+04, 1.2929611e+05],\n",
       "       [1.9950000e+03, 9.5128000e+04, 6.0998330e+04],\n",
       "       [1.9990000e+03, 1.4046000e+04, 5.8008500e+04],\n",
       "       [2.0050000e+03, 4.1194000e+04, 8.2304190e+04],\n",
       "       [2.0190000e+03, 0.0000000e+00, 1.1453174e+05],\n",
       "       [1.9970000e+03, 9.6100000e+04, 1.2856561e+05],\n",
       "       [1.9900000e+03, 1.0390000e+05, 1.2648826e+05],\n",
       "       [2.0010000e+03, 4.3814000e+04, 1.1907455e+05],\n",
       "       [2.0130000e+03, 2.4638000e+04, 1.3023804e+05],\n",
       "       [2.0190000e+03, 0.0000000e+00, 1.1576017e+05],\n",
       "       [2.0170000e+03, 1.1096600e+05, 1.2124800e+05],\n",
       "       [2.0110000e+03, 1.5987000e+04, 9.8156350e+04],\n",
       "       [2.0050000e+03, 5.3369000e+04, 1.1214680e+05],\n",
       "       [2.0070000e+03, 1.0077000e+04, 1.0272963e+05],\n",
       "       [1.9930000e+03, 7.1544000e+04, 1.4108335e+05],\n",
       "       [1.9910000e+03, 1.0700000e+02, 1.0296876e+05],\n",
       "       [1.9910000e+03, 8.3940000e+03, 7.6310010e+04],\n",
       "       [1.9970000e+03, 4.1498000e+04, 1.2048174e+05],\n",
       "       [2.0000000e+03, 1.1600200e+05, 5.4559180e+04],\n",
       "       [2.0070000e+03, 1.0085800e+05, 9.2957640e+04],\n",
       "       [2.0060000e+03, 6.7475000e+04, 1.2781006e+05],\n",
       "       [2.0150000e+03, 8.4970000e+03, 7.3311750e+04],\n",
       "       [2.0080000e+03, 4.4200000e+03, 6.5138030e+04],\n",
       "       [2.0190000e+03, 0.0000000e+00, 9.0141470e+04],\n",
       "       [1.9960000e+03, 5.8537000e+04, 7.1160360e+04],\n",
       "       [2.0190000e+03, 0.0000000e+00, 6.7539790e+04],\n",
       "       [2.0190000e+03, 0.0000000e+00, 6.7664860e+04],\n",
       "       [2.0140000e+03, 1.1201600e+05, 6.8652160e+04],\n",
       "       [2.0040000e+03, 9.1840000e+04, 1.1472874e+05],\n",
       "       [2.0080000e+03, 1.1278700e+05, 1.4164508e+05],\n",
       "       [2.0190000e+03, 0.0000000e+00, 1.2624784e+05],\n",
       "       [2.0190000e+03, 0.0000000e+00, 1.2885221e+05],\n",
       "       [2.0120000e+03, 9.2930000e+03, 1.3238476e+05],\n",
       "       [2.0190000e+03, 0.0000000e+00, 1.2941533e+05],\n",
       "       [1.9960000e+03, 5.5083000e+04, 8.9536820e+04],\n",
       "       [2.0110000e+03, 4.8796000e+04, 8.7975300e+04],\n",
       "       [2.0190000e+03, 0.0000000e+00, 7.7675790e+04],\n",
       "       [2.0100000e+03, 8.9685000e+04, 5.8881670e+04],\n",
       "       [2.0070000e+03, 8.5384000e+04, 5.5081990e+04],\n",
       "       [1.9940000e+03, 9.8108000e+04, 1.1882644e+05],\n",
       "       [2.0070000e+03, 7.1280000e+04, 1.3762762e+05],\n",
       "       [2.0140000e+03, 2.7505000e+04, 5.1759580e+04],\n",
       "       [1.9910000e+03, 2.9981000e+04, 5.1667060e+04],\n",
       "       [2.0020000e+03, 5.2637000e+04, 6.8934030e+04],\n",
       "       [1.9960000e+03, 7.6850000e+03, 1.2211090e+05],\n",
       "       [1.9920000e+03, 5.0188000e+04, 9.0381470e+04]])"
      ]
     },
     "execution_count": 329,
     "metadata": {},
     "output_type": "execute_result"
    }
   ],
   "source": [
    "dataset = np.column_stack((anos,km,valor))\n",
    "dataset"
   ]
  },
  {
   "cell_type": "code",
   "execution_count": 330,
   "metadata": {
    "id": "OzDTTmj8ltp_",
    "scrolled": true
   },
   "outputs": [
    {
     "data": {
      "text/plain": [
       "(258, 3)"
      ]
     },
     "execution_count": 330,
     "metadata": {},
     "output_type": "execute_result"
    }
   ],
   "source": [
    "dataset.shape"
   ]
  },
  {
   "cell_type": "markdown",
   "metadata": {
    "id": "Me6yUU_RltqA"
   },
   "source": [
    "## *np.mean()*\n",
    "\n",
    "Retorna a média dos elementos do array ao longo do eixo especificado."
   ]
  },
  {
   "cell_type": "code",
   "execution_count": 331,
   "metadata": {
    "id": "MNEKcP38ltqA"
   },
   "outputs": [
    {
     "data": {
      "text/plain": [
       "array([ 2007.51162791, 44499.41472868, 98960.51310078])"
      ]
     },
     "execution_count": 331,
     "metadata": {},
     "output_type": "execute_result"
    }
   ],
   "source": [
    "np.mean(dataset, axis = 0 )"
   ]
  },
  {
   "cell_type": "code",
   "execution_count": 332,
   "metadata": {
    "id": "sekHQ84zltqB"
   },
   "outputs": [
    {
     "data": {
      "text/plain": [
       "array([44830.54666667, 37954.98      , 37315.05333333, 42189.35666667,\n",
       "       40125.03333333, 36745.91      , 19488.06666667, 63972.81333333,\n",
       "       73974.42333333, 38851.83      , 28836.19666667, 27992.84333333,\n",
       "       68168.99666667, 18400.79333333, 56984.80666667, 59177.8       ,\n",
       "       36526.53      , 30190.46333333, 33932.89666667, 39638.76666667,\n",
       "       69780.79333333, 32194.46666667, 77867.61333333, 76878.21666667,\n",
       "       41205.07      , 24462.03333333, 34386.25      , 35817.28      ,\n",
       "       39298.42333333, 72268.23333333, 34289.06666667, 41477.39333333,\n",
       "       26365.56333333, 33918.13333333, 50905.01      , 54959.84      ,\n",
       "       17875.19666667, 41766.95666667, 25768.39333333, 34876.18      ,\n",
       "       54475.06333333, 59333.43      , 29553.44666667, 75040.79666667,\n",
       "       39881.91      , 22655.23333333, 52057.21666667, 31725.88333333,\n",
       "       22240.03333333, 69567.49666667, 78571.96333333, 61600.27666667,\n",
       "       69114.54333333, 58791.90333333, 31242.99666667, 51282.34333333,\n",
       "       83404.74333333, 45116.06333333, 44660.14333333, 38017.42333333,\n",
       "       27806.11666667, 33060.7       , 62306.38666667, 59765.40666667,\n",
       "       81845.34      , 78191.71      , 22848.53666667, 68881.29      ,\n",
       "       48137.25      , 59285.30333333, 49427.22666667, 61650.01      ,\n",
       "       44891.83      , 37390.34666667, 41392.74333333, 60347.97333333,\n",
       "       69056.62      , 39633.07      , 49072.23333333, 17587.03333333,\n",
       "       29306.51      , 45315.62333333, 48374.81666667, 36102.16666667,\n",
       "       22175.57333333, 39031.53      , 84253.53333333, 85829.28666667,\n",
       "       34133.09333333, 42960.68      , 73161.28      , 79828.89      ,\n",
       "       37537.84666667, 54106.79333333, 48191.20333333, 43484.59333333,\n",
       "       71371.78333333, 39550.22      , 72328.87666667, 31748.91      ,\n",
       "       47492.21666667, 70730.55666667, 41345.14      , 55341.32666667,\n",
       "       38992.84666667, 42828.80666667, 40068.11333333, 68787.83333333,\n",
       "       28917.21      , 65870.42      , 38429.11333333, 52772.62666667,\n",
       "       61426.57333333, 25396.1       , 38915.56      , 50833.16      ,\n",
       "       27467.08      , 50392.05666667, 33143.80333333, 81545.07333333,\n",
       "       64189.28333333, 79244.98333333, 81510.33      , 57102.41      ,\n",
       "       46872.09      , 76604.60333333, 21672.67333333, 50487.81333333,\n",
       "       71054.97333333, 32513.65      , 20181.47      , 49761.01666667,\n",
       "       49929.95666667, 65050.57      , 37248.96      , 67911.48333333,\n",
       "       58226.97666667, 35352.59666667, 41016.18      , 61722.00666667,\n",
       "       29414.36666667, 53625.06      , 50338.49      , 20989.00333333,\n",
       "       62485.48      , 59852.44333333, 54886.56333333, 31446.68666667,\n",
       "       30376.29666667, 86387.97      , 64780.35      , 24714.41666667,\n",
       "       70279.43333333, 37624.04      , 75914.40333333, 47716.93666667,\n",
       "       40867.31666667, 62235.10666667, 49474.93      , 28006.07      ,\n",
       "       74171.2       , 64188.27      , 49625.03666667, 37769.10333333,\n",
       "       57331.72666667, 74211.37333333, 46805.12333333, 56262.85666667,\n",
       "       55737.34666667, 59100.03666667, 38904.82333333, 46087.74666667,\n",
       "       74438.25333333, 64900.46666667, 21850.70333333, 42058.55      ,\n",
       "       55381.78      , 19490.98      , 62604.26333333, 38050.87      ,\n",
       "       49523.50666667, 25762.94      , 67595.09      , 52038.99      ,\n",
       "       63322.77333333, 30473.36666667, 19620.59666667, 66956.90333333,\n",
       "       58360.32      , 33103.06      , 47672.52      , 38817.98      ,\n",
       "       72377.89666667, 43577.05333333, 58144.59      , 29673.65666667,\n",
       "       53543.43333333, 56605.13      , 23476.21666667, 36848.30333333,\n",
       "       43014.58333333, 45854.        , 41242.57666667, 57889.89333333,\n",
       "       19969.03333333, 62951.82666667, 72070.02      , 43471.70333333,\n",
       "       49716.20333333, 53482.79333333, 47128.72      , 25883.10666667,\n",
       "       55649.37      , 52707.11      , 24684.5       , 41834.39666667,\n",
       "       38850.24666667, 75554.20333333, 77459.42      , 54963.18333333,\n",
       "       52296.34666667, 39259.72333333, 78077.        , 38718.11666667,\n",
       "       55840.26666667, 38271.21      , 71540.11666667, 35022.25333333,\n",
       "       28898.33666667, 54658.91333333, 57520.39333333, 65274.21333333,\n",
       "       65763.68666667, 27941.25      , 23855.34333333, 30720.15666667,\n",
       "       43897.78666667, 23186.26333333, 23227.95333333, 60894.05333333,\n",
       "       69524.24666667, 85480.02666667, 42755.61333333, 43623.73666667,\n",
       "       47896.58666667, 43811.44333333, 48871.94      , 46260.76666667,\n",
       "       26564.93      , 50192.22333333, 47490.99666667, 72976.14666667,\n",
       "       70304.87333333, 27092.86      , 27879.68666667, 41191.01      ,\n",
       "       43930.63333333, 47520.49      ])"
      ]
     },
     "execution_count": 332,
     "metadata": {},
     "output_type": "execute_result"
    }
   ],
   "source": [
    "np.mean(dataset, axis = 1 )"
   ]
  },
  {
   "cell_type": "code",
   "execution_count": 334,
   "metadata": {
    "id": "RpyETIVSltqC"
   },
   "outputs": [
    {
     "data": {
      "text/plain": [
       "98960.51310077519"
      ]
     },
     "execution_count": 334,
     "metadata": {},
     "output_type": "execute_result"
    }
   ],
   "source": [
    "np.mean(dataset[:,2])"
   ]
  },
  {
   "cell_type": "code",
   "execution_count": null,
   "metadata": {
    "id": "_-kpcTI8ltqD",
    "scrolled": true
   },
   "outputs": [],
   "source": []
  },
  {
   "cell_type": "markdown",
   "metadata": {
    "id": "71jViVBUltqE"
   },
   "source": [
    "## *np.std()*\n",
    "\n",
    "Retorna o desvio padrão dos elementos do array ao longo do eixo especificado."
   ]
  },
  {
   "cell_type": "code",
   "execution_count": 335,
   "metadata": {
    "id": "lEwUbPx2ltqE",
    "scrolled": true
   },
   "outputs": [
    {
     "data": {
      "text/plain": [
       "29754.101150388564"
      ]
     },
     "execution_count": 335,
     "metadata": {},
     "output_type": "execute_result"
    }
   ],
   "source": [
    "np.std(dataset[:,2])"
   ]
  },
  {
   "cell_type": "markdown",
   "metadata": {
    "id": "JTUH-vAeltqG"
   },
   "source": [
    "## *ndarray.sum()*\n",
    "\n",
    "Retorna a soma dos elementos do array ao longo do eixo especificado."
   ]
  },
  {
   "cell_type": "code",
   "execution_count": null,
   "metadata": {
    "id": "jIi3yoaWltqG"
   },
   "outputs": [],
   "source": []
  },
  {
   "cell_type": "code",
   "execution_count": null,
   "metadata": {
    "id": "X3QYbdYLltqH"
   },
   "outputs": [],
   "source": []
  },
  {
   "cell_type": "markdown",
   "metadata": {
    "id": "WbBD5ixaltqH"
   },
   "source": [
    "## *np.sum()*\n",
    "\n",
    "Retorna a soma dos elementos do array ao longo do eixo especificado."
   ]
  },
  {
   "cell_type": "code",
   "execution_count": 336,
   "metadata": {
    "id": "omB6kgWgltqH"
   },
   "outputs": [
    {
     "data": {
      "text/plain": [
       "array([  517938.        , 11480849.        , 25531812.37999999])"
      ]
     },
     "execution_count": 336,
     "metadata": {},
     "output_type": "execute_result"
    }
   ],
   "source": [
    "dataset.sum(axis=0)"
   ]
  },
  {
   "cell_type": "code",
   "execution_count": 338,
   "metadata": {
    "id": "LiD4G3kQltqI"
   },
   "outputs": [
    {
     "data": {
      "text/plain": [
       "11480849.0"
      ]
     },
     "execution_count": 338,
     "metadata": {},
     "output_type": "execute_result"
    }
   ],
   "source": [
    "dataset[:, 1].sum()"
   ]
  },
  {
   "cell_type": "code",
   "execution_count": 339,
   "metadata": {
    "id": "kpakpnntltqJ"
   },
   "outputs": [
    {
     "data": {
      "text/plain": [
       "array([  517938.        , 11480849.        , 25531812.37999999])"
      ]
     },
     "execution_count": 339,
     "metadata": {},
     "output_type": "execute_result"
    }
   ],
   "source": [
    "np.sum(dataset, axis =0)"
   ]
  },
  {
   "cell_type": "code",
   "execution_count": null,
   "metadata": {},
   "outputs": [],
   "source": []
  }
 ],
 "metadata": {
  "colab": {
   "provenance": []
  },
  "kernelspec": {
   "display_name": "Python 3 (ipykernel)",
   "language": "python",
   "name": "python3"
  },
  "language_info": {
   "codemirror_mode": {
    "name": "ipython",
    "version": 3
   },
   "file_extension": ".py",
   "mimetype": "text/x-python",
   "name": "python",
   "nbconvert_exporter": "python",
   "pygments_lexer": "ipython3",
   "version": "3.9.13"
  }
 },
 "nbformat": 4,
 "nbformat_minor": 1
}
